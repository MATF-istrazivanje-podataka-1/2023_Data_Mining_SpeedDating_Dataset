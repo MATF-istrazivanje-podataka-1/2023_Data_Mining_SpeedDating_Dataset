{
 "cells": [
  {
   "cell_type": "markdown",
   "metadata": {},
   "source": [
    "# ANALIZA PODATAKA"
   ]
  },
  {
   "cell_type": "code",
   "execution_count": 2,
   "metadata": {},
   "outputs": [],
   "source": [
    "import pandas as pd\n",
    "import numpy as np\n",
    "from matplotlib import pyplot as plt\n",
    "from sklearn.model_selection import train_test_split\n",
    "from sklearn.metrics import classification_report\n",
    "from termcolor import colored\n",
    "from sklearn.tree import DecisionTreeClassifier, plot_tree\n",
    "from scipy.io import arff\n",
    "from sklearn.ensemble import RandomForestClassifier\n",
    "from sklearn.metrics import confusion_matrix\n",
    "\n",
    "data2 = arff.loadarff('speeddating.arff')\n",
    "train2= pd.DataFrame(data2[0])\n",
    "catCols = [col for col in train2.columns if train2[col].dtype==\"O\"]\n",
    "train2[catCols]=train2[catCols].apply(lambda x: x.str.decode('utf8'))\n",
    "train2.to_csv('./podaci.csv',index=False)\n",
    "\n",
    "\n",
    "\n"
   ]
  },
  {
   "cell_type": "markdown",
   "metadata": {},
   "source": [
    "Analiza podataka"
   ]
  },
  {
   "cell_type": "code",
   "execution_count": 3,
   "metadata": {},
   "outputs": [
    {
     "name": "stdout",
     "output_type": "stream",
     "text": [
      "(8378, 122)\n"
     ]
    }
   ],
   "source": [
    "#Ucitavanje podataka:\n",
    "data = pd.read_csv('./podaci.csv')\n",
    "data.drop('has_null',axis=1,inplace= True)\n",
    "print(data.shape)\n"
   ]
  },
  {
   "cell_type": "code",
   "execution_count": 4,
   "metadata": {
    "scrolled": true
   },
   "outputs": [
    {
     "data": {
      "text/html": [
       "<div>\n",
       "<style scoped>\n",
       "    .dataframe tbody tr th:only-of-type {\n",
       "        vertical-align: middle;\n",
       "    }\n",
       "\n",
       "    .dataframe tbody tr th {\n",
       "        vertical-align: top;\n",
       "    }\n",
       "\n",
       "    .dataframe thead th {\n",
       "        text-align: right;\n",
       "    }\n",
       "</style>\n",
       "<table border=\"1\" class=\"dataframe\">\n",
       "  <thead>\n",
       "    <tr style=\"text-align: right;\">\n",
       "      <th></th>\n",
       "      <th>wave</th>\n",
       "      <th>gender</th>\n",
       "      <th>age</th>\n",
       "      <th>age_o</th>\n",
       "      <th>d_age</th>\n",
       "      <th>d_d_age</th>\n",
       "      <th>race</th>\n",
       "      <th>race_o</th>\n",
       "      <th>samerace</th>\n",
       "      <th>importance_same_race</th>\n",
       "      <th>...</th>\n",
       "      <th>d_expected_num_interested_in_me</th>\n",
       "      <th>d_expected_num_matches</th>\n",
       "      <th>like</th>\n",
       "      <th>guess_prob_liked</th>\n",
       "      <th>d_like</th>\n",
       "      <th>d_guess_prob_liked</th>\n",
       "      <th>met</th>\n",
       "      <th>decision</th>\n",
       "      <th>decision_o</th>\n",
       "      <th>match</th>\n",
       "    </tr>\n",
       "  </thead>\n",
       "  <tbody>\n",
       "    <tr>\n",
       "      <th>0</th>\n",
       "      <td>1.0</td>\n",
       "      <td>female</td>\n",
       "      <td>21.0</td>\n",
       "      <td>27.0</td>\n",
       "      <td>6.0</td>\n",
       "      <td>[4-6]</td>\n",
       "      <td>Asian/Pacific Islander/Asian-American</td>\n",
       "      <td>European/Caucasian-American</td>\n",
       "      <td>0</td>\n",
       "      <td>2.0</td>\n",
       "      <td>...</td>\n",
       "      <td>[0-3]</td>\n",
       "      <td>[3-5]</td>\n",
       "      <td>7.0</td>\n",
       "      <td>6.0</td>\n",
       "      <td>[6-8]</td>\n",
       "      <td>[5-6]</td>\n",
       "      <td>0.0</td>\n",
       "      <td>1</td>\n",
       "      <td>0</td>\n",
       "      <td>0</td>\n",
       "    </tr>\n",
       "    <tr>\n",
       "      <th>1</th>\n",
       "      <td>1.0</td>\n",
       "      <td>female</td>\n",
       "      <td>21.0</td>\n",
       "      <td>22.0</td>\n",
       "      <td>1.0</td>\n",
       "      <td>[0-1]</td>\n",
       "      <td>Asian/Pacific Islander/Asian-American</td>\n",
       "      <td>European/Caucasian-American</td>\n",
       "      <td>0</td>\n",
       "      <td>2.0</td>\n",
       "      <td>...</td>\n",
       "      <td>[0-3]</td>\n",
       "      <td>[3-5]</td>\n",
       "      <td>7.0</td>\n",
       "      <td>5.0</td>\n",
       "      <td>[6-8]</td>\n",
       "      <td>[5-6]</td>\n",
       "      <td>1.0</td>\n",
       "      <td>1</td>\n",
       "      <td>0</td>\n",
       "      <td>0</td>\n",
       "    </tr>\n",
       "    <tr>\n",
       "      <th>2</th>\n",
       "      <td>1.0</td>\n",
       "      <td>female</td>\n",
       "      <td>21.0</td>\n",
       "      <td>22.0</td>\n",
       "      <td>1.0</td>\n",
       "      <td>[0-1]</td>\n",
       "      <td>Asian/Pacific Islander/Asian-American</td>\n",
       "      <td>Asian/Pacific Islander/Asian-American</td>\n",
       "      <td>1</td>\n",
       "      <td>2.0</td>\n",
       "      <td>...</td>\n",
       "      <td>[0-3]</td>\n",
       "      <td>[3-5]</td>\n",
       "      <td>7.0</td>\n",
       "      <td>NaN</td>\n",
       "      <td>[6-8]</td>\n",
       "      <td>[0-4]</td>\n",
       "      <td>1.0</td>\n",
       "      <td>1</td>\n",
       "      <td>1</td>\n",
       "      <td>1</td>\n",
       "    </tr>\n",
       "    <tr>\n",
       "      <th>3</th>\n",
       "      <td>1.0</td>\n",
       "      <td>female</td>\n",
       "      <td>21.0</td>\n",
       "      <td>23.0</td>\n",
       "      <td>2.0</td>\n",
       "      <td>[2-3]</td>\n",
       "      <td>Asian/Pacific Islander/Asian-American</td>\n",
       "      <td>European/Caucasian-American</td>\n",
       "      <td>0</td>\n",
       "      <td>2.0</td>\n",
       "      <td>...</td>\n",
       "      <td>[0-3]</td>\n",
       "      <td>[3-5]</td>\n",
       "      <td>7.0</td>\n",
       "      <td>6.0</td>\n",
       "      <td>[6-8]</td>\n",
       "      <td>[5-6]</td>\n",
       "      <td>0.0</td>\n",
       "      <td>1</td>\n",
       "      <td>1</td>\n",
       "      <td>1</td>\n",
       "    </tr>\n",
       "    <tr>\n",
       "      <th>4</th>\n",
       "      <td>1.0</td>\n",
       "      <td>female</td>\n",
       "      <td>21.0</td>\n",
       "      <td>24.0</td>\n",
       "      <td>3.0</td>\n",
       "      <td>[2-3]</td>\n",
       "      <td>Asian/Pacific Islander/Asian-American</td>\n",
       "      <td>Latino/Hispanic American</td>\n",
       "      <td>0</td>\n",
       "      <td>2.0</td>\n",
       "      <td>...</td>\n",
       "      <td>[0-3]</td>\n",
       "      <td>[3-5]</td>\n",
       "      <td>6.0</td>\n",
       "      <td>6.0</td>\n",
       "      <td>[6-8]</td>\n",
       "      <td>[5-6]</td>\n",
       "      <td>0.0</td>\n",
       "      <td>1</td>\n",
       "      <td>1</td>\n",
       "      <td>1</td>\n",
       "    </tr>\n",
       "  </tbody>\n",
       "</table>\n",
       "<p>5 rows × 122 columns</p>\n",
       "</div>"
      ],
      "text/plain": [
       "   wave  gender   age  age_o  d_age d_d_age   \n",
       "0   1.0  female  21.0   27.0    6.0   [4-6]  \\\n",
       "1   1.0  female  21.0   22.0    1.0   [0-1]   \n",
       "2   1.0  female  21.0   22.0    1.0   [0-1]   \n",
       "3   1.0  female  21.0   23.0    2.0   [2-3]   \n",
       "4   1.0  female  21.0   24.0    3.0   [2-3]   \n",
       "\n",
       "                                    race   \n",
       "0  Asian/Pacific Islander/Asian-American  \\\n",
       "1  Asian/Pacific Islander/Asian-American   \n",
       "2  Asian/Pacific Islander/Asian-American   \n",
       "3  Asian/Pacific Islander/Asian-American   \n",
       "4  Asian/Pacific Islander/Asian-American   \n",
       "\n",
       "                                  race_o  samerace  importance_same_race  ...   \n",
       "0            European/Caucasian-American         0                   2.0  ...  \\\n",
       "1            European/Caucasian-American         0                   2.0  ...   \n",
       "2  Asian/Pacific Islander/Asian-American         1                   2.0  ...   \n",
       "3            European/Caucasian-American         0                   2.0  ...   \n",
       "4               Latino/Hispanic American         0                   2.0  ...   \n",
       "\n",
       "   d_expected_num_interested_in_me d_expected_num_matches like   \n",
       "0                            [0-3]                  [3-5]  7.0  \\\n",
       "1                            [0-3]                  [3-5]  7.0   \n",
       "2                            [0-3]                  [3-5]  7.0   \n",
       "3                            [0-3]                  [3-5]  7.0   \n",
       "4                            [0-3]                  [3-5]  6.0   \n",
       "\n",
       "  guess_prob_liked  d_like  d_guess_prob_liked  met  decision  decision_o   \n",
       "0              6.0   [6-8]               [5-6]  0.0         1           0  \\\n",
       "1              5.0   [6-8]               [5-6]  1.0         1           0   \n",
       "2              NaN   [6-8]               [0-4]  1.0         1           1   \n",
       "3              6.0   [6-8]               [5-6]  0.0         1           1   \n",
       "4              6.0   [6-8]               [5-6]  0.0         1           1   \n",
       "\n",
       "   match  \n",
       "0      0  \n",
       "1      0  \n",
       "2      1  \n",
       "3      1  \n",
       "4      1  \n",
       "\n",
       "[5 rows x 122 columns]"
      ]
     },
     "execution_count": 4,
     "metadata": {},
     "output_type": "execute_result"
    }
   ],
   "source": [
    "data.head()\n"
   ]
  },
  {
   "cell_type": "markdown",
   "metadata": {},
   "source": [
    "Vidimo da imamo 122 atributa, od cega su 121 za predvidjanje, a poslednji atrbut 'match' nam je ciljni atribut"
   ]
  },
  {
   "cell_type": "code",
   "execution_count": 5,
   "metadata": {},
   "outputs": [
    {
     "data": {
      "text/plain": [
       "Index(['wave', 'gender', 'age', 'age_o', 'd_age', 'd_d_age', 'race', 'race_o',\n",
       "       'samerace', 'importance_same_race',\n",
       "       ...\n",
       "       'd_expected_num_interested_in_me', 'd_expected_num_matches', 'like',\n",
       "       'guess_prob_liked', 'd_like', 'd_guess_prob_liked', 'met', 'decision',\n",
       "       'decision_o', 'match'],\n",
       "      dtype='object', length=122)"
      ]
     },
     "execution_count": 5,
     "metadata": {},
     "output_type": "execute_result"
    }
   ],
   "source": [
    "data.columns"
   ]
  },
  {
   "cell_type": "markdown",
   "metadata": {},
   "source": [
    "Provera nedostajucih vrednosti:"
   ]
  },
  {
   "cell_type": "code",
   "execution_count": 6,
   "metadata": {},
   "outputs": [
    {
     "data": {
      "text/html": [
       "<div>\n",
       "<style scoped>\n",
       "    .dataframe tbody tr th:only-of-type {\n",
       "        vertical-align: middle;\n",
       "    }\n",
       "\n",
       "    .dataframe tbody tr th {\n",
       "        vertical-align: top;\n",
       "    }\n",
       "\n",
       "    .dataframe thead th {\n",
       "        text-align: right;\n",
       "    }\n",
       "</style>\n",
       "<table border=\"1\" class=\"dataframe\">\n",
       "  <thead>\n",
       "    <tr style=\"text-align: right;\">\n",
       "      <th></th>\n",
       "      <th>wave</th>\n",
       "      <th>gender</th>\n",
       "      <th>age</th>\n",
       "      <th>age_o</th>\n",
       "      <th>d_age</th>\n",
       "      <th>d_d_age</th>\n",
       "      <th>race</th>\n",
       "      <th>race_o</th>\n",
       "      <th>samerace</th>\n",
       "      <th>importance_same_race</th>\n",
       "      <th>...</th>\n",
       "      <th>d_expected_num_interested_in_me</th>\n",
       "      <th>d_expected_num_matches</th>\n",
       "      <th>like</th>\n",
       "      <th>guess_prob_liked</th>\n",
       "      <th>d_like</th>\n",
       "      <th>d_guess_prob_liked</th>\n",
       "      <th>met</th>\n",
       "      <th>decision</th>\n",
       "      <th>decision_o</th>\n",
       "      <th>match</th>\n",
       "    </tr>\n",
       "  </thead>\n",
       "  <tbody>\n",
       "    <tr>\n",
       "      <th>0</th>\n",
       "      <td>False</td>\n",
       "      <td>False</td>\n",
       "      <td>False</td>\n",
       "      <td>False</td>\n",
       "      <td>False</td>\n",
       "      <td>False</td>\n",
       "      <td>False</td>\n",
       "      <td>False</td>\n",
       "      <td>False</td>\n",
       "      <td>False</td>\n",
       "      <td>...</td>\n",
       "      <td>False</td>\n",
       "      <td>False</td>\n",
       "      <td>False</td>\n",
       "      <td>False</td>\n",
       "      <td>False</td>\n",
       "      <td>False</td>\n",
       "      <td>False</td>\n",
       "      <td>False</td>\n",
       "      <td>False</td>\n",
       "      <td>False</td>\n",
       "    </tr>\n",
       "    <tr>\n",
       "      <th>1</th>\n",
       "      <td>False</td>\n",
       "      <td>False</td>\n",
       "      <td>False</td>\n",
       "      <td>False</td>\n",
       "      <td>False</td>\n",
       "      <td>False</td>\n",
       "      <td>False</td>\n",
       "      <td>False</td>\n",
       "      <td>False</td>\n",
       "      <td>False</td>\n",
       "      <td>...</td>\n",
       "      <td>False</td>\n",
       "      <td>False</td>\n",
       "      <td>False</td>\n",
       "      <td>False</td>\n",
       "      <td>False</td>\n",
       "      <td>False</td>\n",
       "      <td>False</td>\n",
       "      <td>False</td>\n",
       "      <td>False</td>\n",
       "      <td>False</td>\n",
       "    </tr>\n",
       "    <tr>\n",
       "      <th>2</th>\n",
       "      <td>False</td>\n",
       "      <td>False</td>\n",
       "      <td>False</td>\n",
       "      <td>False</td>\n",
       "      <td>False</td>\n",
       "      <td>False</td>\n",
       "      <td>False</td>\n",
       "      <td>False</td>\n",
       "      <td>False</td>\n",
       "      <td>False</td>\n",
       "      <td>...</td>\n",
       "      <td>False</td>\n",
       "      <td>False</td>\n",
       "      <td>False</td>\n",
       "      <td>True</td>\n",
       "      <td>False</td>\n",
       "      <td>False</td>\n",
       "      <td>False</td>\n",
       "      <td>False</td>\n",
       "      <td>False</td>\n",
       "      <td>False</td>\n",
       "    </tr>\n",
       "    <tr>\n",
       "      <th>3</th>\n",
       "      <td>False</td>\n",
       "      <td>False</td>\n",
       "      <td>False</td>\n",
       "      <td>False</td>\n",
       "      <td>False</td>\n",
       "      <td>False</td>\n",
       "      <td>False</td>\n",
       "      <td>False</td>\n",
       "      <td>False</td>\n",
       "      <td>False</td>\n",
       "      <td>...</td>\n",
       "      <td>False</td>\n",
       "      <td>False</td>\n",
       "      <td>False</td>\n",
       "      <td>False</td>\n",
       "      <td>False</td>\n",
       "      <td>False</td>\n",
       "      <td>False</td>\n",
       "      <td>False</td>\n",
       "      <td>False</td>\n",
       "      <td>False</td>\n",
       "    </tr>\n",
       "    <tr>\n",
       "      <th>4</th>\n",
       "      <td>False</td>\n",
       "      <td>False</td>\n",
       "      <td>False</td>\n",
       "      <td>False</td>\n",
       "      <td>False</td>\n",
       "      <td>False</td>\n",
       "      <td>False</td>\n",
       "      <td>False</td>\n",
       "      <td>False</td>\n",
       "      <td>False</td>\n",
       "      <td>...</td>\n",
       "      <td>False</td>\n",
       "      <td>False</td>\n",
       "      <td>False</td>\n",
       "      <td>False</td>\n",
       "      <td>False</td>\n",
       "      <td>False</td>\n",
       "      <td>False</td>\n",
       "      <td>False</td>\n",
       "      <td>False</td>\n",
       "      <td>False</td>\n",
       "    </tr>\n",
       "    <tr>\n",
       "      <th>...</th>\n",
       "      <td>...</td>\n",
       "      <td>...</td>\n",
       "      <td>...</td>\n",
       "      <td>...</td>\n",
       "      <td>...</td>\n",
       "      <td>...</td>\n",
       "      <td>...</td>\n",
       "      <td>...</td>\n",
       "      <td>...</td>\n",
       "      <td>...</td>\n",
       "      <td>...</td>\n",
       "      <td>...</td>\n",
       "      <td>...</td>\n",
       "      <td>...</td>\n",
       "      <td>...</td>\n",
       "      <td>...</td>\n",
       "      <td>...</td>\n",
       "      <td>...</td>\n",
       "      <td>...</td>\n",
       "      <td>...</td>\n",
       "      <td>...</td>\n",
       "    </tr>\n",
       "    <tr>\n",
       "      <th>8373</th>\n",
       "      <td>False</td>\n",
       "      <td>False</td>\n",
       "      <td>False</td>\n",
       "      <td>False</td>\n",
       "      <td>False</td>\n",
       "      <td>False</td>\n",
       "      <td>False</td>\n",
       "      <td>False</td>\n",
       "      <td>False</td>\n",
       "      <td>False</td>\n",
       "      <td>...</td>\n",
       "      <td>False</td>\n",
       "      <td>False</td>\n",
       "      <td>False</td>\n",
       "      <td>False</td>\n",
       "      <td>False</td>\n",
       "      <td>False</td>\n",
       "      <td>False</td>\n",
       "      <td>False</td>\n",
       "      <td>False</td>\n",
       "      <td>False</td>\n",
       "    </tr>\n",
       "    <tr>\n",
       "      <th>8374</th>\n",
       "      <td>False</td>\n",
       "      <td>False</td>\n",
       "      <td>False</td>\n",
       "      <td>False</td>\n",
       "      <td>False</td>\n",
       "      <td>False</td>\n",
       "      <td>False</td>\n",
       "      <td>False</td>\n",
       "      <td>False</td>\n",
       "      <td>False</td>\n",
       "      <td>...</td>\n",
       "      <td>False</td>\n",
       "      <td>False</td>\n",
       "      <td>False</td>\n",
       "      <td>False</td>\n",
       "      <td>False</td>\n",
       "      <td>False</td>\n",
       "      <td>False</td>\n",
       "      <td>False</td>\n",
       "      <td>False</td>\n",
       "      <td>False</td>\n",
       "    </tr>\n",
       "    <tr>\n",
       "      <th>8375</th>\n",
       "      <td>False</td>\n",
       "      <td>False</td>\n",
       "      <td>False</td>\n",
       "      <td>False</td>\n",
       "      <td>False</td>\n",
       "      <td>False</td>\n",
       "      <td>False</td>\n",
       "      <td>False</td>\n",
       "      <td>False</td>\n",
       "      <td>False</td>\n",
       "      <td>...</td>\n",
       "      <td>False</td>\n",
       "      <td>False</td>\n",
       "      <td>False</td>\n",
       "      <td>False</td>\n",
       "      <td>False</td>\n",
       "      <td>False</td>\n",
       "      <td>False</td>\n",
       "      <td>False</td>\n",
       "      <td>False</td>\n",
       "      <td>False</td>\n",
       "    </tr>\n",
       "    <tr>\n",
       "      <th>8376</th>\n",
       "      <td>False</td>\n",
       "      <td>False</td>\n",
       "      <td>False</td>\n",
       "      <td>False</td>\n",
       "      <td>False</td>\n",
       "      <td>False</td>\n",
       "      <td>False</td>\n",
       "      <td>False</td>\n",
       "      <td>False</td>\n",
       "      <td>False</td>\n",
       "      <td>...</td>\n",
       "      <td>False</td>\n",
       "      <td>False</td>\n",
       "      <td>False</td>\n",
       "      <td>False</td>\n",
       "      <td>False</td>\n",
       "      <td>False</td>\n",
       "      <td>False</td>\n",
       "      <td>False</td>\n",
       "      <td>False</td>\n",
       "      <td>False</td>\n",
       "    </tr>\n",
       "    <tr>\n",
       "      <th>8377</th>\n",
       "      <td>False</td>\n",
       "      <td>False</td>\n",
       "      <td>False</td>\n",
       "      <td>False</td>\n",
       "      <td>False</td>\n",
       "      <td>False</td>\n",
       "      <td>False</td>\n",
       "      <td>False</td>\n",
       "      <td>False</td>\n",
       "      <td>False</td>\n",
       "      <td>...</td>\n",
       "      <td>False</td>\n",
       "      <td>False</td>\n",
       "      <td>False</td>\n",
       "      <td>False</td>\n",
       "      <td>False</td>\n",
       "      <td>False</td>\n",
       "      <td>False</td>\n",
       "      <td>False</td>\n",
       "      <td>False</td>\n",
       "      <td>False</td>\n",
       "    </tr>\n",
       "  </tbody>\n",
       "</table>\n",
       "<p>8378 rows × 122 columns</p>\n",
       "</div>"
      ],
      "text/plain": [
       "       wave  gender    age  age_o  d_age  d_d_age   race  race_o  samerace   \n",
       "0     False   False  False  False  False    False  False   False     False  \\\n",
       "1     False   False  False  False  False    False  False   False     False   \n",
       "2     False   False  False  False  False    False  False   False     False   \n",
       "3     False   False  False  False  False    False  False   False     False   \n",
       "4     False   False  False  False  False    False  False   False     False   \n",
       "...     ...     ...    ...    ...    ...      ...    ...     ...       ...   \n",
       "8373  False   False  False  False  False    False  False   False     False   \n",
       "8374  False   False  False  False  False    False  False   False     False   \n",
       "8375  False   False  False  False  False    False  False   False     False   \n",
       "8376  False   False  False  False  False    False  False   False     False   \n",
       "8377  False   False  False  False  False    False  False   False     False   \n",
       "\n",
       "      importance_same_race  ...  d_expected_num_interested_in_me   \n",
       "0                    False  ...                            False  \\\n",
       "1                    False  ...                            False   \n",
       "2                    False  ...                            False   \n",
       "3                    False  ...                            False   \n",
       "4                    False  ...                            False   \n",
       "...                    ...  ...                              ...   \n",
       "8373                 False  ...                            False   \n",
       "8374                 False  ...                            False   \n",
       "8375                 False  ...                            False   \n",
       "8376                 False  ...                            False   \n",
       "8377                 False  ...                            False   \n",
       "\n",
       "      d_expected_num_matches   like  guess_prob_liked  d_like   \n",
       "0                      False  False             False   False  \\\n",
       "1                      False  False             False   False   \n",
       "2                      False  False              True   False   \n",
       "3                      False  False             False   False   \n",
       "4                      False  False             False   False   \n",
       "...                      ...    ...               ...     ...   \n",
       "8373                   False  False             False   False   \n",
       "8374                   False  False             False   False   \n",
       "8375                   False  False             False   False   \n",
       "8376                   False  False             False   False   \n",
       "8377                   False  False             False   False   \n",
       "\n",
       "      d_guess_prob_liked    met  decision  decision_o  match  \n",
       "0                  False  False     False       False  False  \n",
       "1                  False  False     False       False  False  \n",
       "2                  False  False     False       False  False  \n",
       "3                  False  False     False       False  False  \n",
       "4                  False  False     False       False  False  \n",
       "...                  ...    ...       ...         ...    ...  \n",
       "8373               False  False     False       False  False  \n",
       "8374               False  False     False       False  False  \n",
       "8375               False  False     False       False  False  \n",
       "8376               False  False     False       False  False  \n",
       "8377               False  False     False       False  False  \n",
       "\n",
       "[8378 rows x 122 columns]"
      ]
     },
     "execution_count": 6,
     "metadata": {},
     "output_type": "execute_result"
    }
   ],
   "source": [
    "data.isna()"
   ]
  },
  {
   "cell_type": "markdown",
   "metadata": {},
   "source": [
    "Posto je ovako nepregledno, proveravamo da li u svakoj koloni neka nedostajuca vrednost:"
   ]
  },
  {
   "cell_type": "code",
   "execution_count": 7,
   "metadata": {},
   "outputs": [
    {
     "data": {
      "text/plain": [
       "wave                  False\n",
       "gender                False\n",
       "age                    True\n",
       "age_o                  True\n",
       "d_age                 False\n",
       "                      ...  \n",
       "d_guess_prob_liked    False\n",
       "met                    True\n",
       "decision              False\n",
       "decision_o            False\n",
       "match                 False\n",
       "Length: 122, dtype: bool"
      ]
     },
     "execution_count": 7,
     "metadata": {},
     "output_type": "execute_result"
    }
   ],
   "source": [
    "data.isna().any()"
   ]
  },
  {
   "cell_type": "code",
   "execution_count": 8,
   "metadata": {},
   "outputs": [
    {
     "data": {
      "text/plain": [
       "True"
      ]
     },
     "execution_count": 8,
     "metadata": {},
     "output_type": "execute_result"
    }
   ],
   "source": [
    "data.isna().any().any()"
   ]
  },
  {
   "cell_type": "markdown",
   "metadata": {},
   "source": [
    "Na osnovu ovoga zakljucemo da postoje nedostajuce vrednosti Prva ideja  mi je bila da obrisem sve redove u kojima se javlaju nedostajuce vrednosti, medjutim, tih redova ima 7330, pa to ne mogu da uradim. Ideja mi je da zamenimo sve vrednosti brojevima i da onda NaN vrednosti zamenim prosekom. Dodatno, moramo sve atribute koji nisu brojevi da zamenimo brojevima."
   ]
  },
  {
   "cell_type": "code",
   "execution_count": null,
   "metadata": {},
   "outputs": [],
   "source": []
  },
  {
   "cell_type": "markdown",
   "metadata": {},
   "source": []
  },
  {
   "cell_type": "code",
   "execution_count": 9,
   "metadata": {},
   "outputs": [
    {
     "name": "stdout",
     "output_type": "stream",
     "text": [
      "[1 0 2]\n",
      "0\n"
     ]
    }
   ],
   "source": [
    "\n",
    "data['gender'] = data['gender'].replace(\"female\",0)\n",
    "data['gender'] = data['gender'].replace(\"male\",1)\n",
    "\n",
    "\n",
    "\n",
    "data['age'] = data['age'].replace(np.nan,data['age'].mean())\n",
    "\n",
    "\n",
    "data['age_o'] = data['age_o'].replace(np.nan,int(data['age_o'].mean()))\n",
    "data['importance_same_race'] = data['importance_same_race'].replace(np.nan,int(data['importance_same_race'].mean()))\n",
    "data['importance_same_religion'] = data['importance_same_religion'].replace(np.nan,int(data['importance_same_religion'].mean()))\n",
    "\n",
    "\n",
    "\n",
    "data['race'] = data['race'].replace(\"Asian/Pacific Islander/Asian-American\",0)\n",
    "data['race'] = data['race'].replace(\"European/Caucasian-American\",1)\n",
    "data['race'] = data['race'].replace('Other',2)\n",
    "data['race'] = data['race'].replace(\"Latino/Hispanic American\",3)\n",
    "data['race'] = data['race'].replace(\"Black/African American\",4)\n",
    "data['race'] = data['race'].replace('?',np.nan)\n",
    "data['race'] =data['race'].replace(np.nan,int(data['race'].mean()))\n",
    "\n",
    "data['race_o'] = data['race_o'].replace(\"Asian/Pacific Islander/Asian-American\",0)\n",
    "data['race_o'] = data['race_o'].replace(\"European/Caucasian-American\",1)\n",
    "data['race_o'] = data['race_o'].replace('Other',2)\n",
    "data['race_o'] = data['race_o'].replace('Latino/Hispanic American',3)\n",
    "data['race_o'] = data['race_o'].replace('Black/African American',4)\n",
    "data['race_o'] = data['race_o'].replace('?',np.nan)\n",
    "data['race_o'] =data['race_o'].replace(np.nan,int(data['race_o'].mean()))\n",
    "\n",
    "\n",
    "#polje sa profesijom ima mnogo vrednosti, ali mislim da nije bitno za ovaj zadatak, pa preskacem \n",
    "data['d_d_age'] = data['d_d_age'].replace('[0-1]',0)\n",
    "data['d_d_age'] = data['d_d_age'].replace('[2-3]',1)\n",
    "data['d_d_age'] = data['d_d_age'].replace('[4-6]',2)\n",
    "data['d_d_age'] = data['d_d_age'].replace('[7-37]',3)\n",
    "\n",
    "data['d_importance_same_race'] = data['d_importance_same_race'].replace('[0-1]',0)\n",
    "data['d_importance_same_race'] = data['d_importance_same_race'].replace('[2-5]',1)\n",
    "data['d_importance_same_race'] = data['d_importance_same_race'].replace('[6-10]',2)\n",
    "\n",
    "\n",
    "data['d_importance_same_religion'] = data['d_importance_same_religion'].replace('[0-1]',0)\n",
    "data['d_importance_same_religion'] = data['d_importance_same_religion'].replace('[2-5]',1)\n",
    "data['d_importance_same_religion'] = data['d_importance_same_religion'].replace('[6-10]',2)\n",
    "\n",
    "\n",
    "data['pref_o_attractive'] = data['pref_o_attractive'].replace(np.nan,data['pref_o_attractive'].mean()) \n",
    "data['pref_o_sincere'] = data['pref_o_sincere'].replace(np.nan,data['pref_o_sincere'].mean()) \n",
    "data['pref_o_intelligence'] = data['pref_o_intelligence'].replace(np.nan,data['pref_o_intelligence'].mean()) \n",
    "data['pref_o_funny'] = data['pref_o_funny'].replace(np.nan,data['pref_o_funny'].mean()) \n",
    "data['pref_o_ambitious'] = data['pref_o_ambitious'].replace(np.nan,data['pref_o_ambitious'].mean()) \n",
    "data['pref_o_shared_interests'] = data['pref_o_shared_interests'].replace(np.nan,data['pref_o_shared_interests'].mean()) \n",
    "\n",
    "data['d_pref_o_attractive'] = data['d_pref_o_attractive'].replace('[0-15]',0)\n",
    "data['d_pref_o_attractive'] = data['d_pref_o_attractive'].replace('[16-20]',1)\n",
    "data['d_pref_o_attractive'] = data['d_pref_o_attractive'].replace('[21-100]',2)\n",
    "\n",
    "data['d_pref_o_sincere'] = data['d_pref_o_sincere'].replace('[0-15]',0)\n",
    "data['d_pref_o_sincere'] = data['d_pref_o_sincere'].replace('[16-20]',1)\n",
    "data['d_pref_o_sincere'] = data['d_pref_o_sincere'].replace('[21-100]',2)\n",
    "\n",
    "\n",
    "data['d_pref_o_intelligence'] = data['d_pref_o_intelligence'].replace('[0-15]',0)\n",
    "data['d_pref_o_intelligence'] = data['d_pref_o_intelligence'].replace('[16-20]',1)\n",
    "data['d_pref_o_intelligence'] = data['d_pref_o_intelligence'].replace('[21-100]',2)\n",
    "\n",
    "\n",
    "data['d_pref_o_funny'] = data['d_pref_o_funny'].replace('[0-15]',0)\n",
    "data['d_pref_o_funny'] = data['d_pref_o_funny'].replace('[16-20]',1)\n",
    "data['d_pref_o_funny'] = data['d_pref_o_funny'].replace('[21-100]',2)\n",
    "\n",
    "data['d_pref_o_ambitious'] = data['d_pref_o_ambitious'].replace('[0-15]',0)\n",
    "data['d_pref_o_ambitious'] = data['d_pref_o_ambitious'].replace('[16-20]',1)\n",
    "data['d_pref_o_ambitious'] = data['d_pref_o_ambitious'].replace('[21-100]',2)\n",
    "\n",
    "data['d_pref_o_shared_interests'] = data['d_pref_o_shared_interests'].replace('[0-15]',0)\n",
    "data['d_pref_o_shared_interests'] = data['d_pref_o_shared_interests'].replace('[16-20]',1)\n",
    "data['d_pref_o_shared_interests'] = data['d_pref_o_shared_interests'].replace('[21-100]',2)\n",
    "\n",
    "data['attractive_o'] = data['attractive_o'].replace(np.nan,data['attractive_o'].mean()) \n",
    "data['sinsere_o'] = data['sinsere_o'].replace(np.nan,data['sinsere_o'].mean())\n",
    "data['intelligence_o'] = data['intelligence_o'].replace(np.nan,data['intelligence_o'].mean()) \n",
    "data['funny_o'] = data['funny_o'].replace(np.nan,data['funny_o'].mean()) \n",
    "data['ambitous_o'] = data['ambitous_o'].replace(np.nan,data['ambitous_o'].mean()) \n",
    "data['shared_interests_o'] = data['shared_interests_o'].replace(np.nan,data['shared_interests_o'].mean()) \n",
    "\n",
    "\n",
    "data['d_attractive_o'] = data['d_attractive_o'].replace('[0-5]',0)\n",
    "data['d_attractive_o'] = data['d_attractive_o'].replace('[6-8]',1)\n",
    "data['d_attractive_o'] = data['d_attractive_o'].replace('[9-10]',2)\n",
    "\n",
    "data['d_sinsere_o'] = data['d_sinsere_o'].replace('[0-5]',0)\n",
    "data['d_sinsere_o'] = data['d_sinsere_o'].replace('[6-8]',1)\n",
    "data['d_sinsere_o'] = data['d_sinsere_o'].replace('[9-10]',2)\n",
    "\n",
    "data['d_intelligence_o'] = data['d_intelligence_o'].replace('[0-5]',0)\n",
    "data['d_intelligence_o'] = data['d_intelligence_o'].replace('[6-8]',1)\n",
    "data['d_intelligence_o'] = data['d_intelligence_o'].replace('[9-10]',2)\n",
    "\n",
    "data['d_funny_o'] = data['d_funny_o'].replace('[0-5]',0)\n",
    "data['d_funny_o'] = data['d_funny_o'].replace('[6-8]',1)\n",
    "data['d_funny_o'] = data['d_funny_o'].replace('[9-10]',2)\n",
    "\n",
    "data['d_ambitous_o'] = data['d_ambitous_o'].replace('[0-5]',0)\n",
    "data['d_ambitous_o'] = data['d_ambitous_o'].replace('[6-8]',1)\n",
    "data['d_ambitous_o'] = data['d_ambitous_o'].replace('[9-10]',2)\n",
    "\n",
    "data['d_shared_interests_o'] = data['d_shared_interests_o'].replace('[0-5]',0)\n",
    "data['d_shared_interests_o'] = data['d_shared_interests_o'].replace('[6-8]',1)\n",
    "data['d_shared_interests_o'] = data['d_shared_interests_o'].replace('[9-10]',2)\n",
    "\n",
    "data['attractive_important'] = data['attractive_important'].replace(np.nan,data['attractive_important'].mean())\n",
    "data['sincere_important'] = data['sincere_important'].replace(np.nan,data['sincere_important'].mean()) \n",
    "data['intellicence_important'] = data['intellicence_important'].replace(np.nan,data['intellicence_important'].mean()) \n",
    "data['funny_important'] = data['funny_important'].replace(np.nan,data['funny_important'].mean())\n",
    "data['ambtition_important'] = data['ambtition_important'].replace(np.nan,data['ambtition_important'].mean())\n",
    "data['shared_interests_important'] = data['shared_interests_important'].replace(np.nan,data['shared_interests_important'].mean())\n",
    "\n",
    "data['d_attractive_important'] = data['d_attractive_important'].replace('[0-15]',0)\n",
    "data['d_attractive_important'] = data['d_attractive_important'].replace('[16-20]',1)\n",
    "data['d_attractive_important'] = data['d_attractive_important'].replace('[21-100]',2)\n",
    "\n",
    "data['d_sincere_important'] = data['d_sincere_important'].replace('[0-15]',0)\n",
    "data['d_sincere_important'] = data['d_sincere_important'].replace('[16-20]',1)\n",
    "data['d_sincere_important'] = data['d_sincere_important'].replace('[21-100]',2)\n",
    "\n",
    "data['d_intellicence_important'] = data['d_intellicence_important'].replace('[0-15]',0)\n",
    "data['d_intellicence_important'] = data['d_intellicence_important'].replace('[16-20]',1)\n",
    "data['d_intellicence_important'] = data['d_intellicence_important'].replace('[21-100]',2)\n",
    "\n",
    "data['d_funny_important'] = data['d_funny_important'].replace('[0-15]',0)\n",
    "data['d_funny_important'] = data['d_funny_important'].replace('[16-20]',1)\n",
    "data['d_funny_important'] = data['d_funny_important'].replace('[21-100]',2)\n",
    "\n",
    "\n",
    "data['d_ambtition_important'] = data['d_ambtition_important'].replace('[0-15]',0)\n",
    "data['d_ambtition_important'] = data['d_ambtition_important'].replace('[16-20]',1)\n",
    "data['d_ambtition_important'] = data['d_ambtition_important'].replace('[21-100]',2)\n",
    "\n",
    "data['d_shared_interests_important'] = data['d_shared_interests_important'].replace('[0-15]',0)\n",
    "data['d_shared_interests_important'] = data['d_shared_interests_important'].replace('[16-20]',1)\n",
    "data['d_shared_interests_important'] = data['d_shared_interests_important'].replace('[21-100]',2)\n",
    "\n",
    "data['attractive'] = data['attractive'].replace(np.nan,data['attractive'].mean()) \n",
    "data['sincere'] = data['sincere'].replace(np.nan,data['sincere'].mean())\n",
    "data['intelligence'] = data['intelligence'].replace(np.nan,data['intelligence'].mean()) \n",
    "data['funny'] = data['funny'].replace(np.nan,data['funny'].mean()) \n",
    "data['ambition'] = data['ambition'].replace(np.nan,data['ambition'].mean()) \n",
    "\n",
    "#----------------------------------------\n",
    "data['d_attractive'] = data['d_attractive'].replace('[0-5]',0)\n",
    "data['d_attractive'] = data['d_attractive'].replace('[6-8]',1)\n",
    "data['d_attractive'] = data['d_attractive'].replace('[9-10]',2)\n",
    "\n",
    "data['d_sincere'] = data['d_sincere'].replace('[0-5]',0)\n",
    "data['d_sincere'] = data['d_sincere'].replace('[6-8]',1)\n",
    "data['d_sincere'] = data['d_sincere'].replace('[9-10]',2)\n",
    "\n",
    "data['d_intelligence'] = data['d_intelligence'].replace('[0-5]',0)\n",
    "data['d_intelligence'] = data['d_intelligence'].replace('[6-8]',1)\n",
    "data['d_intelligence'] = data['d_intelligence'].replace('[9-10]',2)\n",
    "\n",
    "data['d_funny'] = data['d_funny'].replace('[0-5]',0)\n",
    "data['d_funny'] = data['d_funny'].replace('[6-8]',1)\n",
    "data['d_funny'] = data['d_funny'].replace('[9-10]',2)\n",
    "\n",
    "data['d_ambition'] = data['d_ambition'].replace('[0-5]',0)\n",
    "data['d_ambition'] = data['d_ambition'].replace('[6-8]',1)\n",
    "data['d_ambition'] = data['d_ambition'].replace('[9-10]',2)\n",
    "\n",
    "data['attractive_partner'] = data['attractive_partner'].replace(np.nan,data['attractive_partner'].mean()) \n",
    "data['sincere_partner'] = data['sincere_partner'].replace(np.nan,data['sincere_partner'].mean())\n",
    "data['intelligence_partner'] = data['intelligence_partner'].replace(np.nan,data['intelligence_partner'].mean()) \n",
    "data['funny_partner'] = data['funny_partner'].replace(np.nan,data['funny_partner'].mean()) \n",
    "data['ambition_partner'] = data['ambition_partner'].replace(np.nan,data['ambition_partner'].mean()) \n",
    "data['shared_interests_partner'] = data['shared_interests_partner'].replace(np.nan,data['shared_interests_partner'].mean()) \n",
    "\n",
    "data['d_attractive_partner'] = data['d_attractive_partner'].replace('[0-5]',0)\n",
    "data['d_attractive_partner'] = data['d_attractive_partner'].replace('[6-8]',1)\n",
    "data['d_attractive_partner'] = data['d_attractive_partner'].replace('[9-10]',2)\n",
    "\n",
    "data['d_sincere_partner'] = data['d_sincere_partner'].replace('[0-5]',0)\n",
    "data['d_sincere_partner'] = data['d_sincere_partner'].replace('[6-8]',1)\n",
    "data['d_sincere_partner'] = data['d_sincere_partner'].replace('[9-10]',2)\n",
    "\n",
    "data['d_intelligence_partner'] = data['d_intelligence_partner'].replace('[0-5]',0)\n",
    "data['d_intelligence_partner'] = data['d_intelligence_partner'].replace('[6-8]',1)\n",
    "data['d_intelligence_partner'] = data['d_intelligence_partner'].replace('[9-10]',2)\n",
    "\n",
    "data['d_funny_partner'] = data['d_funny_partner'].replace('[0-5]',0)\n",
    "data['d_funny_partner'] = data['d_funny_partner'].replace('[6-8]',1)\n",
    "data['d_funny_partner'] = data['d_funny_partner'].replace('[9-10]',2)\n",
    "\n",
    "data['d_ambition_partner'] = data['d_ambition_partner'].replace('[0-5]',0)\n",
    "data['d_ambition_partner'] = data['d_ambition_partner'].replace('[6-8]',1)\n",
    "data['d_ambition_partner'] = data['d_ambition_partner'].replace('[9-10]',2)\n",
    "\n",
    "data['d_shared_interests_partner'] = data['d_shared_interests_partner'].replace('[0-5]',0)\n",
    "data['d_shared_interests_partner'] = data['d_shared_interests_partner'].replace('[6-8]',1)\n",
    "data['d_shared_interests_partner'] = data['d_shared_interests_partner'].replace('[9-10]',2)\n",
    "\n",
    "data['sports'] = data['sports'].replace(np.nan,data['sports'].mean()) \n",
    "data['tvsports'] = data['tvsports'].replace(np.nan,data['tvsports'].mean())\n",
    "data['exercise'] = data['exercise'].replace(np.nan,data['exercise'].mean()) \n",
    "data['dining'] = data['dining'].replace(np.nan,data['dining'].mean()) \n",
    "\n",
    "data['museums'] = data['museums'].replace(np.nan,data['museums'].mean())\n",
    "data['art'] = data['art'].replace(np.nan,data['art'].mean())\n",
    "data['hiking'] = data['hiking'].replace(np.nan,data['hiking'].mean())\n",
    "\n",
    "data['gaming'] = data['gaming'].replace(np.nan,data['gaming'].mean())\n",
    "data['clubbing'] = data['clubbing'].replace(np.nan,data['clubbing'].mean())\n",
    "data['reading'] = data['reading'].replace(np.nan,data['reading'].mean())\n",
    "\n",
    "data['tv']= data['tv'].replace(np.nan,data['tv'].mean())\n",
    "data['theater'] = data['theater'].replace(np.nan,data['theater'].mean())\n",
    "data['movies'] = data['movies'].replace(np.nan,data['movies'].mean())\n",
    "\n",
    "data['concerts']= data['concerts'].replace(np.nan,data['concerts'].mean())\n",
    "data['music'] = data['music'].replace(np.nan,data['music'].mean())\n",
    "data['shopping'] = data['shopping'].replace(np.nan,data['shopping'].mean())\n",
    "data['yoga']= data['yoga'].replace(np.nan,data['yoga'].mean())\n",
    " \n",
    "#stigla sam do d_sports \n",
    "data['d_sports'] = data['d_sports'].replace('[0-5]',0)\n",
    "data['d_sports'] = data['d_sports'].replace('[6-8]',1)\n",
    "data['d_sports'] = data['d_sports'].replace('[9-10]',2)\n",
    "\n",
    "data['d_tvsports'] = data['d_tvsports'].replace('[0-5]',0)\n",
    "data['d_tvsports'] = data['d_tvsports'].replace('[6-8]',1)\n",
    "data['d_tvsports'] = data['d_tvsports'].replace('[9-10]',2)\n",
    "\n",
    "\n",
    "data['d_exercise'] = data['d_exercise'].replace('[0-5]',0)\n",
    "data['d_exercise'] = data['d_exercise'].replace('[6-8]',1)\n",
    "data['d_exercise'] = data['d_exercise'].replace('[9-10]',2)\n",
    "\n",
    "data['d_dining'] = data['d_dining'].replace('[0-5]',0)\n",
    "data['d_dining'] = data['d_dining'].replace('[6-8]',1)\n",
    "data['d_dining'] = data['d_dining'].replace('[9-10]',2)\n",
    "\n",
    "data['d_museums'] = data['d_museums'].replace('[0-5]',0)\n",
    "data['d_museums'] = data['d_museums'].replace('[6-8]',1)\n",
    "data['d_museums'] = data['d_museums'].replace('[9-10]',2)\n",
    "\n",
    "\n",
    "data['d_art'] = data['d_art'].replace('[0-5]',0)\n",
    "data['d_art'] = data['d_art'].replace('[6-8]',1)\n",
    "data['d_art'] = data['d_art'].replace('[9-10]',2)\n",
    "\n",
    "data['d_hiking'] = data['d_hiking'].replace('[0-5]',0)\n",
    "data['d_hiking'] = data['d_hiking'].replace('[6-8]',1)\n",
    "data['d_hiking'] = data['d_hiking'].replace('[9-10]',2)\n",
    "\n",
    "data['d_gaming'] = data['d_gaming'].replace('[0-5]',0)\n",
    "data['d_gaming'] = data['d_gaming'].replace('[6-8]',1)\n",
    "data['d_gaming'] = data['d_gaming'].replace('[9-10]',2)\n",
    "\n",
    "data['d_clubbing'] = data['d_clubbing'].replace('[0-5]',0)\n",
    "data['d_clubbing'] = data['d_clubbing'].replace('[6-8]',1)\n",
    "data['d_clubbing'] = data['d_clubbing'].replace('[9-10]',2)\n",
    "\n",
    "data['d_reading'] = data['d_reading'].replace('[0-5]',0)\n",
    "data['d_reading'] = data['d_reading'].replace('[6-8]',1)\n",
    "data['d_reading'] = data['d_reading'].replace('[9-10]',2)\n",
    "\n",
    "data['d_tv'] = data['d_tv'].replace('[0-5]',0)\n",
    "data['d_tv'] = data['d_tv'].replace('[6-8]',1)\n",
    "data['d_tv'] = data['d_tv'].replace('[9-10]',2)\n",
    "\n",
    "\n",
    "data['d_theater'] = data['d_theater'].replace('[0-5]',0)\n",
    "data['d_theater'] = data['d_theater'].replace('[6-8]',1)\n",
    "data['d_theater'] = data['d_theater'].replace('[9-10]',2)\n",
    "\n",
    "data['d_movies'] = data['d_movies'].replace('[0-5]',0)\n",
    "data['d_movies'] = data['d_movies'].replace('[6-8]',1)\n",
    "data['d_movies'] = data['d_movies'].replace('[9-10]',2)\n",
    "\n",
    "data['d_concerts'] = data['d_concerts'].replace('[0-5]',0)\n",
    "data['d_concerts'] = data['d_concerts'].replace('[6-8]',1)\n",
    "data['d_concerts'] = data['d_concerts'].replace('[9-10]',2)\n",
    "\n",
    "data['d_music'] = data['d_music'].replace('[0-5]',0)\n",
    "data['d_music'] = data['d_music'].replace('[6-8]',1)\n",
    "data['d_music'] = data['d_music'].replace('[9-10]',2)\n",
    "\n",
    "data['d_shopping'] = data['d_shopping'].replace('[0-5]',0)\n",
    "data['d_shopping'] = data['d_shopping'].replace('[6-8]',1)\n",
    "data['d_shopping'] = data['d_shopping'].replace('[9-10]',2)\n",
    "\n",
    "data['d_yoga'] = data['d_yoga'].replace('[0-5]',0)\n",
    "data['d_yoga'] = data['d_yoga'].replace('[6-8]',1)\n",
    "data['d_yoga'] = data['d_yoga'].replace('[9-10]',2)\n",
    "\n",
    "data['interests_correlate']= data['interests_correlate'].replace(np.nan,data['interests_correlate'].mean())\n",
    "\n",
    "\n",
    "data['d_interests_correlate'] = data['d_interests_correlate'].replace('[-1-0]',0)\n",
    "data['d_interests_correlate'] = data['d_interests_correlate'].replace('[0-0.33]',1)\n",
    "data['d_interests_correlate'] = data['d_interests_correlate'].replace('[0.33-1]',2)\n",
    "\n",
    "data['expected_happy_with_sd_people']= data['expected_happy_with_sd_people'].replace(np.nan,data['expected_happy_with_sd_people'].mean())\n",
    "data['expected_num_interested_in_me']= data['expected_num_interested_in_me'].replace(np.nan,data['expected_num_interested_in_me'].mean())\n",
    "data['expected_num_matches']= data['expected_num_matches'].replace(np.nan,data['expected_num_matches'].mean())\n",
    "\n",
    "\n",
    "data['d_expected_happy_with_sd_people'] = data['d_expected_happy_with_sd_people'].replace('[0-4]',0)\n",
    "data['d_expected_happy_with_sd_people'] = data['d_expected_happy_with_sd_people'].replace('[5-6]',1)\n",
    "data['d_expected_happy_with_sd_people'] = data['d_expected_happy_with_sd_people'].replace('[7-10]',2)\n",
    "\n",
    "\n",
    "\n",
    "data['d_expected_num_interested_in_me'] = data['d_expected_num_interested_in_me'].replace('[0-3]',0)\n",
    "data['d_expected_num_interested_in_me'] = data['d_expected_num_interested_in_me'].replace('[4-9]',1)\n",
    "data['d_expected_num_interested_in_me'] = data['d_expected_num_interested_in_me'].replace('[10-20]',2)\n",
    "\n",
    "data['d_expected_num_matches'] = data['d_expected_num_matches'].replace('[0-2]',0)\n",
    "data['d_expected_num_matches'] = data['d_expected_num_matches'].replace('[3-5]',1)\n",
    "data['d_expected_num_matches'] = data['d_expected_num_matches'].replace('[5-18]',2)\n",
    "\n",
    "#to like smo stigli!\n",
    "\n",
    "data['like']= data['like'].replace(np.nan,data['like'].mean())\n",
    "data['guess_prob_liked']= data['guess_prob_liked'].replace(np.nan,data['guess_prob_liked'].mean())\n",
    "\n",
    "data['d_like'] = data['d_like'].replace('[0-5]',0)\n",
    "data['d_like'] = data['d_like'].replace('[6-8]',1)\n",
    "data['d_like'] = data['d_like'].replace('[9-10]',2)\n",
    "\n",
    "data['d_guess_prob_liked'] = data['d_guess_prob_liked'].replace('[0-4]',0)\n",
    "data['d_guess_prob_liked'] = data['d_guess_prob_liked'].replace('[5-6]',1)\n",
    "data['d_guess_prob_liked'] = data['d_guess_prob_liked'].replace('[7-10]',2)\n",
    "\n",
    "data['met']= data['met'].replace(np.nan,data['met'].mean())\n",
    "\n",
    "print(data['d_like'].unique())\n",
    "print(data.isna().any().sum())\n"
   ]
  },
  {
   "cell_type": "markdown",
   "metadata": {},
   "source": [
    "Sledeci korak je podela atributa na one koji sluze za predvidjanje cilja  i ciljni atribut"
   ]
  },
  {
   "cell_type": "code",
   "execution_count": 11,
   "metadata": {
    "scrolled": true
   },
   "outputs": [
    {
     "data": {
      "text/plain": [
       "0       0\n",
       "1       0\n",
       "2       1\n",
       "3       1\n",
       "4       1\n",
       "       ..\n",
       "8373    0\n",
       "8374    0\n",
       "8375    0\n",
       "8376    0\n",
       "8377    0\n",
       "Name: match, Length: 8378, dtype: int64"
      ]
     },
     "execution_count": 11,
     "metadata": {},
     "output_type": "execute_result"
    }
   ],
   "source": [
    "Y = data['match']\n",
    "Y"
   ]
  },
  {
   "cell_type": "code",
   "execution_count": 10,
   "metadata": {},
   "outputs": [
    {
     "name": "stdout",
     "output_type": "stream",
     "text": [
      "   wave  gender   age  age_o  d_age  d_d_age  race  race_o  samerace   \n",
      "0   1.0       0  21.0   27.0    6.0        2   0.0     1.0         0  \\\n",
      "1   1.0       0  21.0   22.0    1.0        0   0.0     1.0         0   \n",
      "2   1.0       0  21.0   22.0    1.0        0   0.0     0.0         1   \n",
      "3   1.0       0  21.0   23.0    2.0        1   0.0     1.0         0   \n",
      "4   1.0       0  21.0   24.0    3.0        1   0.0     3.0         0   \n",
      "\n",
      "   importance_same_race  ...  d_expected_happy_with_sd_people   \n",
      "0                   2.0  ...                                0  \\\n",
      "1                   2.0  ...                                0   \n",
      "2                   2.0  ...                                0   \n",
      "3                   2.0  ...                                0   \n",
      "4                   2.0  ...                                0   \n",
      "\n",
      "   d_expected_num_interested_in_me  d_expected_num_matches like   \n",
      "0                                0                       1  7.0  \\\n",
      "1                                0                       1  7.0   \n",
      "2                                0                       1  7.0   \n",
      "3                                0                       1  7.0   \n",
      "4                                0                       1  6.0   \n",
      "\n",
      "   guess_prob_liked  d_like  d_guess_prob_liked  met  decision  decision_o  \n",
      "0          6.000000       1                   1  0.0         1           0  \n",
      "1          5.000000       1                   1  1.0         1           0  \n",
      "2          5.207523       1                   0  1.0         1           1  \n",
      "3          6.000000       1                   1  0.0         1           1  \n",
      "4          6.000000       1                   1  0.0         1           1  \n",
      "\n",
      "[5 rows x 121 columns]\n"
     ]
    }
   ],
   "source": [
    "\n",
    "#brisemo field, to je polje sa prosefesijom,koje ima mnogo reci koje bih trebala  da zamenim brojevima, a mislim da nije bitno za ovaj zadatak \n",
    "X = data.drop('field',axis = 1)\n",
    "#brisemo match,jer nam je to ciljni atrbut\n",
    "X = data.drop('match',axis = 1)\n",
    "print(X.head())\n"
   ]
  },
  {
   "cell_type": "markdown",
   "metadata": {},
   "source": [
    "Analiza podataka:"
   ]
  },
  {
   "cell_type": "code",
   "execution_count": 12,
   "metadata": {},
   "outputs": [
    {
     "name": "stdout",
     "output_type": "stream",
     "text": [
      "wave\n",
      "gender\n",
      "age\n",
      "age_o\n",
      "d_age\n",
      "d_d_age\n",
      "race\n",
      "race_o\n",
      "samerace\n",
      "importance_same_race\n",
      "importance_same_religion\n",
      "d_importance_same_race\n",
      "d_importance_same_religion\n",
      "field\n",
      "pref_o_attractive\n",
      "pref_o_sincere\n",
      "pref_o_intelligence\n",
      "pref_o_funny\n",
      "pref_o_ambitious\n",
      "pref_o_shared_interests\n",
      "d_pref_o_attractive\n",
      "d_pref_o_sincere\n",
      "d_pref_o_intelligence\n",
      "d_pref_o_funny\n",
      "d_pref_o_ambitious\n",
      "d_pref_o_shared_interests\n",
      "attractive_o\n",
      "sinsere_o\n",
      "intelligence_o\n",
      "funny_o\n",
      "ambitous_o\n",
      "shared_interests_o\n",
      "d_attractive_o\n",
      "d_sinsere_o\n",
      "d_intelligence_o\n",
      "d_funny_o\n",
      "d_ambitous_o\n",
      "d_shared_interests_o\n",
      "attractive_important\n",
      "sincere_important\n",
      "intellicence_important\n",
      "funny_important\n",
      "ambtition_important\n",
      "shared_interests_important\n",
      "d_attractive_important\n",
      "d_sincere_important\n",
      "d_intellicence_important\n",
      "d_funny_important\n",
      "d_ambtition_important\n",
      "d_shared_interests_important\n",
      "attractive\n",
      "sincere\n",
      "intelligence\n",
      "funny\n",
      "ambition\n",
      "d_attractive\n",
      "d_sincere\n",
      "d_intelligence\n",
      "d_funny\n",
      "d_ambition\n",
      "attractive_partner\n",
      "sincere_partner\n",
      "intelligence_partner\n",
      "funny_partner\n",
      "ambition_partner\n",
      "shared_interests_partner\n",
      "d_attractive_partner\n",
      "d_sincere_partner\n",
      "d_intelligence_partner\n",
      "d_funny_partner\n",
      "d_ambition_partner\n",
      "d_shared_interests_partner\n",
      "sports\n",
      "tvsports\n",
      "exercise\n",
      "dining\n",
      "museums\n",
      "art\n",
      "hiking\n",
      "gaming\n",
      "clubbing\n",
      "reading\n",
      "tv\n",
      "theater\n",
      "movies\n",
      "concerts\n",
      "music\n",
      "shopping\n",
      "yoga\n",
      "d_sports\n",
      "d_tvsports\n",
      "d_exercise\n",
      "d_dining\n",
      "d_museums\n",
      "d_art\n",
      "d_hiking\n",
      "d_gaming\n",
      "d_clubbing\n",
      "d_reading\n",
      "d_tv\n",
      "d_theater\n",
      "d_movies\n",
      "d_concerts\n",
      "d_music\n",
      "d_shopping\n",
      "d_yoga\n",
      "interests_correlate\n",
      "d_interests_correlate\n",
      "expected_happy_with_sd_people\n",
      "expected_num_interested_in_me\n",
      "expected_num_matches\n",
      "d_expected_happy_with_sd_people\n",
      "d_expected_num_interested_in_me\n",
      "d_expected_num_matches\n",
      "like\n",
      "guess_prob_liked\n",
      "d_like\n",
      "d_guess_prob_liked\n",
      "met\n",
      "decision\n",
      "decision_o\n"
     ]
    }
   ],
   "source": [
    "feature_names = X.columns\n",
    "#X.describe()\n",
    "for c in feature_names:\n",
    "    print(c)"
   ]
  },
  {
   "cell_type": "code",
   "execution_count": 13,
   "metadata": {},
   "outputs": [
    {
     "data": {
      "text/plain": [
       "count    8378.000000\n",
       "mean        0.164717\n",
       "std         0.370947\n",
       "min         0.000000\n",
       "25%         0.000000\n",
       "50%         0.000000\n",
       "75%         0.000000\n",
       "max         1.000000\n",
       "Name: match, dtype: float64"
      ]
     },
     "execution_count": 13,
     "metadata": {},
     "output_type": "execute_result"
    }
   ],
   "source": [
    "Y.describe()"
   ]
  },
  {
   "cell_type": "code",
   "execution_count": 14,
   "metadata": {},
   "outputs": [
    {
     "data": {
      "text/plain": [
       "array([0, 1])"
      ]
     },
     "execution_count": 14,
     "metadata": {},
     "output_type": "execute_result"
    }
   ],
   "source": [
    "Y.unique()"
   ]
  },
  {
   "cell_type": "markdown",
   "metadata": {},
   "source": [
    "Nas ciljni atrbut ima samo dve klase (0 i 1), pa zakljucujemo da se radi o binarnoj klasifikaciji"
   ]
  },
  {
   "cell_type": "markdown",
   "metadata": {},
   "source": [
    "Zelimo da vidimo kako su raspodeljene klase, odnosno koliko ima istanci prve, a koliko istanci druge klase "
   ]
  },
  {
   "cell_type": "code",
   "execution_count": 15,
   "metadata": {},
   "outputs": [
    {
     "data": {
      "image/png": "[encoded data removed]",
      "text/plain": [
       "<Figure size 432x288 with 1 Axes>"
      ]
     },
     "metadata": {
      "needs_background": "light"
     },
     "output_type": "display_data"
    }
   ],
   "source": [
    "import numpy as np\n",
    "\n",
    "freq, bins, _ = plt.hist(Y, edgecolor='white', bins=2)\n",
    "\n",
    "bin_centers = np.diff(bins)*0.5 + bins[:-1] # računanje centra korpice\n",
    "\n",
    "for fr, x in zip(freq, bin_centers):\n",
    "    height = int(fr)\n",
    "    plt.annotate(\"{}\".format(height),\n",
    "               xy = (x, height),             # poziciranje broja iznad korpice\n",
    "               xytext = (0,0.2),             # odvajanje teksta od korpice\n",
    "               textcoords = \"offset points\", \n",
    "               ha = 'center', va = 'bottom'\n",
    "               )\n",
    "\n",
    "plt.show()\n",
    "\n"
   ]
  },
  {
   "cell_type": "markdown",
   "metadata": {},
   "source": [
    "Primecujemo da je broj instanci prve klase znatno veci od broja instanci druge klase, sto znaci da je stablo prilicno nebalansirano."
   ]
  },
  {
   "cell_type": "markdown",
   "metadata": {},
   "source": [
    "Sada podatke delimo na TRENING i TEST skup. 75% ce biti podaci za trening, dok su 25% podaci za testiranje. Stratify koristimo da se ne bi desilo da u trening skupu imamo samo instance koje pripadaju jednoj klasi, vec da imamo instance iz obe klase"
   ]
  },
  {
   "cell_type": "code",
   "execution_count": 16,
   "metadata": {},
   "outputs": [],
   "source": [
    "X.drop('field',axis=1,inplace = True)"
   ]
  },
  {
   "cell_type": "code",
   "execution_count": 17,
   "metadata": {},
   "outputs": [],
   "source": [
    "X_train, X_test, Y_train, Y_test = train_test_split(X, Y, test_size=0.25, stratify=Y, random_state=12)\n"
   ]
  },
  {
   "cell_type": "code",
   "execution_count": 18,
   "metadata": {},
   "outputs": [
    {
     "name": "stdout",
     "output_type": "stream",
     "text": [
      "(6283, 120)\n",
      "(6283,)\n",
      "(2095, 120)\n",
      "(2095,)\n"
     ]
    }
   ],
   "source": [
    "print(X_train.shape)\n",
    "print(Y_train.shape)\n",
    "print(X_test.shape)\n",
    "print(Y_test.shape)"
   ]
  },
  {
   "cell_type": "code",
   "execution_count": 19,
   "metadata": {},
   "outputs": [
    {
     "name": "stdout",
     "output_type": "stream",
     "text": [
      "[0 1]\n",
      "[0 1]\n"
     ]
    }
   ],
   "source": [
    "print(Y_train.unique())\n",
    "print(Y_train.unique())"
   ]
  },
  {
   "cell_type": "markdown",
   "metadata": {},
   "source": []
  },
  {
   "cell_type": "markdown",
   "metadata": {},
   "source": [
    "# Stabla odlucivanja"
   ]
  },
  {
   "cell_type": "markdown",
   "metadata": {},
   "source": []
  },
  {
   "cell_type": "markdown",
   "metadata": {},
   "source": [
    "Pomocne fukcije za vizuelizaciju stabla.Kod je preuzet iz materijala sa vezbi:"
   ]
  },
  {
   "cell_type": "code",
   "execution_count": 20,
   "metadata": {},
   "outputs": [],
   "source": [
    "def report(model, x, y, text = \"training\"):\n",
    "    y_pred = model.predict(x)\n",
    "    \n",
    "    print(colored(\"Izvestaj o klasifikaciji za model{} nad {} podacima\".format(type(model).__name__, text), \"green\"))\n",
    "    print(\"---------------------------------------------------------------------------------\")\n",
    "    print(classification_report(y, y_pred))\n",
    "    print(\"---------------------------------------------------------------------------------\")\n",
    "    \n",
    "    print(colored(\"Matrica konfuzije za model {} nad {} podacima \".format(type(model).__name__, text), \"green\"))\n",
    "    print(\"---------------------------------------------------------------------------------\")\n",
    "    print(pd.DataFrame(confusion_matrix(y, y_pred), columns=['1', '0'], index=['1', '0']))\n",
    "    print(\"---------------------------------------------------------------------------------\")\n",
    "    \n",
    "\n",
    "def plot_decision_tree(model, feature_names):\n",
    "    plt.figure(figsize=(7, 7))\n",
    "    plot_tree(model, class_names=['1', '0'], feature_names=feature_names, filled=True)\n",
    "    plt.title(\"Stablo odlucivanja dubine{} sa {} cvorova\".format(model.get_depth(), model.get_n_leaves()))\n",
    "    plt.show()\n",
    "    print(\"---------------------------------------------------------------------------------\")\n",
    "    print(colored(\"Parametri modela {}\".format(type(model).__name__), \"green\"))\n",
    "    for k, v in model.get_params().items():\n",
    "        print(colored(k, 'blue'), v)\n",
    "    \n",
    "    print(\"---------------------------------------------------------------------------------\")\n"
   ]
  },
  {
   "cell_type": "markdown",
   "metadata": {},
   "source": [
    "Moramo da nekako konverujemo sve atribute koji nisu brojevi."
   ]
  },
  {
   "cell_type": "code",
   "execution_count": null,
   "metadata": {},
   "outputs": [],
   "source": []
  },
  {
   "cell_type": "code",
   "execution_count": 22,
   "metadata": {},
   "outputs": [
    {
     "data": {
      "image/png": "[encoded data removed]",
      "text/plain": [
       "<Figure size 504x504 with 1 Axes>"
      ]
     },
     "metadata": {
      "needs_background": "light"
     },
     "output_type": "display_data"
    },
    {
     "name": "stdout",
     "output_type": "stream",
     "text": [
      "---------------------------------------------------------------------------------\n",
      "Parametri modela DecisionTreeClassifier\n",
      "ccp_alpha 0.0\n",
      "class_weight None\n",
      "criterion gini\n",
      "max_depth None\n",
      "max_features None\n",
      "max_leaf_nodes None\n",
      "min_impurity_decrease 0.0\n",
      "min_samples_leaf 1\n",
      "min_samples_split 2\n",
      "min_weight_fraction_leaf 0.0\n",
      "random_state None\n",
      "splitter best\n",
      "---------------------------------------------------------------------------------\n"
     ]
    }
   ],
   "source": [
    "dt = DecisionTreeClassifier()\n",
    "\n",
    "dt.fit(X_train, Y_train)\n",
    "plot_decision_tree(dt, feature_names)"
   ]
  },
  {
   "cell_type": "markdown",
   "metadata": {},
   "source": [
    "Proveravamo koliko koji atribut utice na formiranje stabla odlucivanja"
   ]
  },
  {
   "cell_type": "code",
   "execution_count": 23,
   "metadata": {},
   "outputs": [
    {
     "name": "stdout",
     "output_type": "stream",
     "text": [
      "[0.         0.         0.         0.         0.         0.\n",
      " 0.         0.         0.         0.         0.         0.\n",
      " 0.         0.         0.         0.         0.         0.\n",
      " 0.         0.         0.         0.         0.         0.\n",
      " 0.         0.         0.         0.         0.         0.\n",
      " 0.         0.         0.         0.         0.         0.\n",
      " 0.         0.         0.         0.         0.         0.\n",
      " 0.         0.         0.         0.         0.         0.\n",
      " 0.         0.         0.         0.         0.         0.\n",
      " 0.         0.         0.         0.         0.         0.\n",
      " 0.         0.         0.         0.         0.         0.\n",
      " 0.         0.         0.         0.         0.         0.\n",
      " 0.         0.         0.         0.         0.         0.\n",
      " 0.         0.         0.         0.         0.         0.\n",
      " 0.         0.         0.         0.         0.         0.\n",
      " 0.         0.         0.         0.         0.         0.\n",
      " 0.         0.         0.         0.         0.         0.\n",
      " 0.         0.         0.         0.         0.         0.\n",
      " 0.         0.         0.         0.         0.         0.\n",
      " 0.         0.         0.         0.         0.27357252 0.72642748]\n"
     ]
    }
   ],
   "source": [
    "\n",
    "print(dt.feature_importances_)\n",
    "\n",
    "\n"
   ]
  },
  {
   "cell_type": "markdown",
   "metadata": {},
   "source": [
    "Zakljucujemo da se za klasifikaciju koriste samo 2 artibuta."
   ]
  },
  {
   "cell_type": "markdown",
   "metadata": {},
   "source": [
    "Proveravamo kako se model ponasa na TRENING skupu"
   ]
  },
  {
   "cell_type": "code",
   "execution_count": 167,
   "metadata": {},
   "outputs": [
    {
     "name": "stdout",
     "output_type": "stream",
     "text": [
      "Izvestaj o klasifikaciji za modelDecisionTreeClassifier nad training podacima\n",
      "---------------------------------------------------------------------------------\n",
      "              precision    recall  f1-score   support\n",
      "\n",
      "           0       1.00      1.00      1.00      5248\n",
      "           1       1.00      1.00      1.00      1035\n",
      "\n",
      "    accuracy                           1.00      6283\n",
      "   macro avg       1.00      1.00      1.00      6283\n",
      "weighted avg       1.00      1.00      1.00      6283\n",
      "\n",
      "---------------------------------------------------------------------------------\n",
      "Matrica konfuzije za model DecisionTreeClassifier nad training podacima \n",
      "---------------------------------------------------------------------------------\n",
      "      1     0\n",
      "1  5248     0\n",
      "0     0  1035\n",
      "---------------------------------------------------------------------------------\n"
     ]
    }
   ],
   "source": [
    "report(dtc, X_train, Y_train)"
   ]
  },
  {
   "cell_type": "markdown",
   "metadata": {},
   "source": [
    "Vidimo da je tacnost na trening skupu jedan.Sada proveravamo kako se model ponasa na test skupu."
   ]
  },
  {
   "cell_type": "code",
   "execution_count": 28,
   "metadata": {},
   "outputs": [
    {
     "name": "stdout",
     "output_type": "stream",
     "text": [
      "Izvestaj o klasifikaciji za modelDecisionTreeClassifier nad TEST podacima\n",
      "---------------------------------------------------------------------------------\n",
      "              precision    recall  f1-score   support\n",
      "\n",
      "           0       1.00      1.00      1.00      1750\n",
      "           1       1.00      1.00      1.00       345\n",
      "\n",
      "    accuracy                           1.00      2095\n",
      "   macro avg       1.00      1.00      1.00      2095\n",
      "weighted avg       1.00      1.00      1.00      2095\n",
      "\n",
      "---------------------------------------------------------------------------------\n",
      "Matrica konfuzije za model DecisionTreeClassifier nad TEST podacima \n",
      "---------------------------------------------------------------------------------\n",
      "      1    0\n",
      "1  1750    0\n",
      "0     0  345\n",
      "---------------------------------------------------------------------------------\n"
     ]
    }
   ],
   "source": [
    "report(dt, X_test, Y_test,\"TEST\")"
   ]
  },
  {
   "cell_type": "markdown",
   "metadata": {},
   "source": [
    "Tacnost na test skupu je takodje jednaka jedan."
   ]
  },
  {
   "cell_type": "markdown",
   "metadata": {},
   "source": [
    "Model ima tacnost jedan na test skupu, ali probacemo i da podesimo hiper paramentre, da vidimo koji su optimalni parametri "
   ]
  },
  {
   "cell_type": "code",
   "execution_count": 29,
   "metadata": {},
   "outputs": [
    {
     "data": {
      "text/html": [
       "<style>#sk-container-id-2 {color: black;background-color: white;}#sk-container-id-2 pre{padding: 0;}#sk-container-id-2 div.sk-toggleable {background-color: white;}#sk-container-id-2 label.sk-toggleable__label {cursor: pointer;display: block;width: 100%;margin-bottom: 0;padding: 0.3em;box-sizing: border-box;text-align: center;}#sk-container-id-2 label.sk-toggleable__label-arrow:before {content: \"▸\";float: left;margin-right: 0.25em;color: #696969;}#sk-container-id-2 label.sk-toggleable__label-arrow:hover:before {color: black;}#sk-container-id-2 div.sk-estimator:hover label.sk-toggleable__label-arrow:before {color: black;}#sk-container-id-2 div.sk-toggleable__content {max-height: 0;max-width: 0;overflow: hidden;text-align: left;background-color: #f0f8ff;}#sk-container-id-2 div.sk-toggleable__content pre {margin: 0.2em;color: black;border-radius: 0.25em;background-color: #f0f8ff;}#sk-container-id-2 input.sk-toggleable__control:checked~div.sk-toggleable__content {max-height: 200px;max-width: 100%;overflow: auto;}#sk-container-id-2 input.sk-toggleable__control:checked~label.sk-toggleable__label-arrow:before {content: \"▾\";}#sk-container-id-2 div.sk-estimator input.sk-toggleable__control:checked~label.sk-toggleable__label {background-color: #d4ebff;}#sk-container-id-2 div.sk-label input.sk-toggleable__control:checked~label.sk-toggleable__label {background-color: #d4ebff;}#sk-container-id-2 input.sk-hidden--visually {border: 0;clip: rect(1px 1px 1px 1px);clip: rect(1px, 1px, 1px, 1px);height: 1px;margin: -1px;overflow: hidden;padding: 0;position: absolute;width: 1px;}#sk-container-id-2 div.sk-estimator {font-family: monospace;background-color: #f0f8ff;border: 1px dotted black;border-radius: 0.25em;box-sizing: border-box;margin-bottom: 0.5em;}#sk-container-id-2 div.sk-estimator:hover {background-color: #d4ebff;}#sk-container-id-2 div.sk-parallel-item::after {content: \"\";width: 100%;border-bottom: 1px solid gray;flex-grow: 1;}#sk-container-id-2 div.sk-label:hover label.sk-toggleable__label {background-color: #d4ebff;}#sk-container-id-2 div.sk-serial::before {content: \"\";position: absolute;border-left: 1px solid gray;box-sizing: border-box;top: 0;bottom: 0;left: 50%;z-index: 0;}#sk-container-id-2 div.sk-serial {display: flex;flex-direction: column;align-items: center;background-color: white;padding-right: 0.2em;padding-left: 0.2em;position: relative;}#sk-container-id-2 div.sk-item {position: relative;z-index: 1;}#sk-container-id-2 div.sk-parallel {display: flex;align-items: stretch;justify-content: center;background-color: white;position: relative;}#sk-container-id-2 div.sk-item::before, #sk-container-id-2 div.sk-parallel-item::before {content: \"\";position: absolute;border-left: 1px solid gray;box-sizing: border-box;top: 0;bottom: 0;left: 50%;z-index: -1;}#sk-container-id-2 div.sk-parallel-item {display: flex;flex-direction: column;z-index: 1;position: relative;background-color: white;}#sk-container-id-2 div.sk-parallel-item:first-child::after {align-self: flex-end;width: 50%;}#sk-container-id-2 div.sk-parallel-item:last-child::after {align-self: flex-start;width: 50%;}#sk-container-id-2 div.sk-parallel-item:only-child::after {width: 0;}#sk-container-id-2 div.sk-dashed-wrapped {border: 1px dashed gray;margin: 0 0.4em 0.5em 0.4em;box-sizing: border-box;padding-bottom: 0.4em;background-color: white;}#sk-container-id-2 div.sk-label label {font-family: monospace;font-weight: bold;display: inline-block;line-height: 1.2em;}#sk-container-id-2 div.sk-label-container {text-align: center;}#sk-container-id-2 div.sk-container {/* jupyter's `normalize.less` sets `[hidden] { display: none; }` but bootstrap.min.css set `[hidden] { display: none !important; }` so we also need the `!important` here to be able to override the default hidden behavior on the sphinx rendered scikit-learn.org. See: https://github.com/scikit-learn/scikit-learn/issues/21755 */display: inline-block !important;position: relative;}#sk-container-id-2 div.sk-text-repr-fallback {display: none;}</style><div id=\"sk-container-id-2\" class=\"sk-top-container\"><div class=\"sk-text-repr-fallback\"><pre>GridSearchCV(cv=3, estimator=DecisionTreeClassifier(),\n",
       "             param_grid={&#x27;criterion&#x27;: [&#x27;gini&#x27;, &#x27;entropy&#x27;],\n",
       "                         &#x27;max_depth&#x27;: [2, 4, 6, 8]})</pre><b>In a Jupyter environment, please rerun this cell to show the HTML representation or trust the notebook. <br />On GitHub, the HTML representation is unable to render, please try loading this page with nbviewer.org.</b></div><div class=\"sk-container\" hidden><div class=\"sk-item sk-dashed-wrapped\"><div class=\"sk-label-container\"><div class=\"sk-label sk-toggleable\"><input class=\"sk-toggleable__control sk-hidden--visually\" id=\"sk-estimator-id-4\" type=\"checkbox\" ><label for=\"sk-estimator-id-4\" class=\"sk-toggleable__label sk-toggleable__label-arrow\">GridSearchCV</label><div class=\"sk-toggleable__content\"><pre>GridSearchCV(cv=3, estimator=DecisionTreeClassifier(),\n",
       "             param_grid={&#x27;criterion&#x27;: [&#x27;gini&#x27;, &#x27;entropy&#x27;],\n",
       "                         &#x27;max_depth&#x27;: [2, 4, 6, 8]})</pre></div></div></div><div class=\"sk-parallel\"><div class=\"sk-parallel-item\"><div class=\"sk-item\"><div class=\"sk-label-container\"><div class=\"sk-label sk-toggleable\"><input class=\"sk-toggleable__control sk-hidden--visually\" id=\"sk-estimator-id-5\" type=\"checkbox\" ><label for=\"sk-estimator-id-5\" class=\"sk-toggleable__label sk-toggleable__label-arrow\">estimator: DecisionTreeClassifier</label><div class=\"sk-toggleable__content\"><pre>DecisionTreeClassifier()</pre></div></div></div><div class=\"sk-serial\"><div class=\"sk-item\"><div class=\"sk-estimator sk-toggleable\"><input class=\"sk-toggleable__control sk-hidden--visually\" id=\"sk-estimator-id-6\" type=\"checkbox\" ><label for=\"sk-estimator-id-6\" class=\"sk-toggleable__label sk-toggleable__label-arrow\">DecisionTreeClassifier</label><div class=\"sk-toggleable__content\"><pre>DecisionTreeClassifier()</pre></div></div></div></div></div></div></div></div></div></div>"
      ],
      "text/plain": [
       "GridSearchCV(cv=3, estimator=DecisionTreeClassifier(),\n",
       "             param_grid={'criterion': ['gini', 'entropy'],\n",
       "                         'max_depth': [2, 4, 6, 8]})"
      ]
     },
     "execution_count": 29,
     "metadata": {},
     "output_type": "execute_result"
    }
   ],
   "source": [
    "\n",
    "from sklearn.model_selection import GridSearchCV\n",
    "\n",
    "params = {'criterion': ['gini', 'entropy'],\n",
    "          'max_depth': [2,4,6, 8]\n",
    "         }\n",
    "estimator = GridSearchCV(DecisionTreeClassifier(), param_grid=params, cv=3) \n",
    "estimator.fit(X_train, Y_train)\n"
   ]
  },
  {
   "cell_type": "code",
   "execution_count": 26,
   "metadata": {},
   "outputs": [
    {
     "data": {
      "text/plain": [
       "{'criterion': 'gini', 'max_depth': 2}"
      ]
     },
     "execution_count": 26,
     "metadata": {},
     "output_type": "execute_result"
    }
   ],
   "source": [
    "\n",
    "\n",
    "estimator.best_params_\n",
    "\n"
   ]
  },
  {
   "cell_type": "code",
   "execution_count": 30,
   "metadata": {},
   "outputs": [
    {
     "data": {
      "text/plain": [
       "1.0"
      ]
     },
     "execution_count": 30,
     "metadata": {},
     "output_type": "execute_result"
    }
   ],
   "source": [
    "estimator.best_score_"
   ]
  },
  {
   "cell_type": "markdown",
   "metadata": {},
   "source": [
    "Vidimo da nam GridSearch daje iste rezultate kao sto ima nase prvo stablo, isti kriterijum i maksimalnu dubinu."
   ]
  },
  {
   "cell_type": "code",
   "execution_count": null,
   "metadata": {},
   "outputs": [],
   "source": []
  }
 ],
 "metadata": {
  "kernelspec": {
   "display_name": "Python 3",
   "language": "python",
   "name": "python3"
  },
  "language_info": {
   "codemirror_mode": {
    "name": "ipython",
    "version": 3
   },
   "file_extension": ".py",
   "mimetype": "text/x-python",
   "name": "python",
   "nbconvert_exporter": "python",
   "pygments_lexer": "ipython3",
   "version": "3.8.5"
  }
 },
 "nbformat": 4,
 "nbformat_minor": 4
}
