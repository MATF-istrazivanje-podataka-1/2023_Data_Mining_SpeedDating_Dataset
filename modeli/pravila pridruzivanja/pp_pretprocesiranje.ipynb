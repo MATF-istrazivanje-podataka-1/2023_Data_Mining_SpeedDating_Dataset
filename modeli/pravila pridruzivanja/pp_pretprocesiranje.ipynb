{
 "cells": [
  {
   "cell_type": "markdown",
   "metadata": {},
   "source": [
    "# Pretprocesiranje podataka za primenu pravila pridruzivanja"
   ]
  },
  {
   "cell_type": "code",
   "execution_count": 1,
   "metadata": {},
   "outputs": [],
   "source": [
    "import pandas as pd\n",
    "import numpy as np\n",
    "from matplotlib import pyplot as plt\n",
    "from sklearn.model_selection import train_test_split\n",
    "from sklearn.metrics import classification_report\n",
    "from termcolor import colored\n",
    "from sklearn.tree import DecisionTreeClassifier, plot_tree\n",
    "from scipy.io import arff\n",
    "from sklearn.ensemble import RandomForestClassifier\n",
    "from sklearn.metrics import confusion_matrix\n",
    "\n",
    "from sklearn.preprocessing import MinMaxScaler\n",
    "from sklearn.model_selection import GridSearchCV\n",
    "\n",
    "\n",
    "from sklearn.neighbors import KNeighborsClassifier \n",
    "import plotly.express as px\n",
    "from sklearn.ensemble import BaggingClassifier\n",
    "from sklearn.metrics import roc_curve, roc_auc_score\n",
    "from sklearn.preprocessing import LabelEncoder\n",
    "from sklearn.feature_selection import SelectKBest\n",
    "\n",
    "\n"
   ]
  },
  {
   "cell_type": "code",
   "execution_count": 2,
   "metadata": {},
   "outputs": [],
   "source": [
    "data = pd.read_csv('/home/user/Desktop/IP/sredjeni_podaci.csv')"
   ]
  },
  {
   "cell_type": "code",
   "execution_count": 3,
   "metadata": {},
   "outputs": [
    {
     "name": "stdout",
     "output_type": "stream",
     "text": [
      "Index(['attractive_o', 'sinsere_o', 'intelligence_o', 'funny_o', 'ambitous_o',\n",
      "       'shared_interests_o', 'd_attractive_o', 'd_sinsere_o',\n",
      "       'd_intelligence_o', 'd_funny_o', 'd_ambitous_o', 'd_shared_interests_o',\n",
      "       'attractive_partner', 'sincere_partner', 'intelligence_partner',\n",
      "       'funny_partner', 'ambition_partner', 'shared_interests_partner',\n",
      "       'd_attractive_partner', 'd_sincere_partner', 'd_intelligence_partner',\n",
      "       'd_funny_partner', 'd_ambition_partner', 'd_shared_interests_partner',\n",
      "       'd_clubbing', 'expected_num_interested_in_me', 'expected_num_matches',\n",
      "       'd_expected_num_matches', 'like', 'guess_prob_liked', 'd_like',\n",
      "       'd_guess_prob_liked', 'met', 'decision', 'decision_o'],\n",
      "      dtype='object')\n"
     ]
    }
   ],
   "source": [
    "y = data['match']\n",
    "X = data.drop('match',axis=1)\n",
    "\n",
    "k = 35  \n",
    "selector = SelectKBest(k=k)\n",
    "X_new = selector.fit_transform(X, y)\n",
    "\n",
    "selected_features = X.columns[selector.get_support(indices=True)]\n",
    "\n",
    "print(selected_features)"
   ]
  },
  {
   "cell_type": "code",
   "execution_count": 4,
   "metadata": {},
   "outputs": [],
   "source": [
    "selected = ['attractive_o', 'sinsere_o', 'intelligence_o', 'funny_o', 'ambitous_o',\n",
    "       'shared_interests_o', 'd_attractive_o', 'd_sinsere_o',\n",
    "       'd_intelligence_o', 'd_funny_o', 'd_ambitous_o', 'd_shared_interests_o',\n",
    "       'attractive_partner', 'sincere_partner', 'intelligence_partner',\n",
    "       'funny_partner', 'ambition_partner', 'shared_interests_partner',\n",
    "       'd_attractive_partner', 'd_sincere_partner', 'd_intelligence_partner',\n",
    "       'd_funny_partner', 'd_ambition_partner', 'd_shared_interests_partner',\n",
    "       'd_clubbing', 'expected_num_interested_in_me', 'expected_num_matches',\n",
    "       'd_expected_num_matches', 'like', 'guess_prob_liked', 'd_like',\n",
    "       'd_guess_prob_liked', 'met', 'decision', 'decision_o','match']"
   ]
  },
  {
   "cell_type": "code",
   "execution_count": 5,
   "metadata": {},
   "outputs": [],
   "source": [
    "new_data = data[selected]"
   ]
  },
  {
   "cell_type": "code",
   "execution_count": 6,
   "metadata": {},
   "outputs": [
    {
     "name": "stdout",
     "output_type": "stream",
     "text": [
      "      attractive_o  sinsere_o  intelligence_o  funny_o  ambitous_o   \n",
      "0              6.0        8.0             8.0      8.0         8.0  \\\n",
      "1              7.0        8.0            10.0      7.0         7.0   \n",
      "2             10.0       10.0            10.0     10.0        10.0   \n",
      "3              7.0        8.0             9.0      8.0         9.0   \n",
      "4              8.0        7.0             9.0      6.0         9.0   \n",
      "...            ...        ...             ...      ...         ...   \n",
      "8373          10.0        5.0             3.0      2.0         6.0   \n",
      "8374           6.0        3.0             7.0      3.0         7.0   \n",
      "8375           2.0        1.0             2.0      2.0         2.0   \n",
      "8376           5.0        7.0             5.0      5.0         3.0   \n",
      "8377           8.0        8.0             7.0      7.0         7.0   \n",
      "\n",
      "      shared_interests_o  d_attractive_o  d_sinsere_o  d_intelligence_o   \n",
      "0                    6.0               1            1                 1  \\\n",
      "1                    5.0               1            1                 2   \n",
      "2                   10.0               2            2                 2   \n",
      "3                    8.0               1            1                 2   \n",
      "4                    7.0               1            1                 2   \n",
      "...                  ...             ...          ...               ...   \n",
      "8373                 5.0               2            0                 0   \n",
      "8374                 2.0               1            0                 1   \n",
      "8375                 1.0               0            0                 0   \n",
      "8376                 6.0               0            1                 0   \n",
      "8377                 7.0               1            1                 1   \n",
      "\n",
      "      d_funny_o  ...  expected_num_matches  d_expected_num_matches  like   \n",
      "0             1  ...                   4.0                       1   7.0  \\\n",
      "1             1  ...                   4.0                       1   7.0   \n",
      "2             2  ...                   4.0                       1   7.0   \n",
      "3             1  ...                   4.0                       1   7.0   \n",
      "4             1  ...                   4.0                       1   6.0   \n",
      "...         ...  ...                   ...                     ...   ...   \n",
      "8373          0  ...                   3.0                       1   2.0   \n",
      "8374          0  ...                   3.0                       1   4.0   \n",
      "8375          0  ...                   3.0                       1   6.0   \n",
      "8376          0  ...                   3.0                       1   5.0   \n",
      "8377          1  ...                   3.0                       1   4.0   \n",
      "\n",
      "      guess_prob_liked  d_like  d_guess_prob_liked  met  decision  decision_o   \n",
      "0                  6.0       1                   1  0.0         1           0  \\\n",
      "1                  5.0       1                   1  1.0         1           0   \n",
      "2                  5.0       1                   0  1.0         1           1   \n",
      "3                  6.0       1                   1  0.0         1           1   \n",
      "4                  6.0       1                   1  0.0         1           1   \n",
      "...                ...     ...                 ...  ...       ...         ...   \n",
      "8373               5.0       0                   1  0.0         0           1   \n",
      "8374               4.0       0                   0  0.0         0           0   \n",
      "8375               5.0       1                   1  0.0         0           0   \n",
      "8376               5.0       0                   1  0.0         0           1   \n",
      "8377               5.0       0                   1  0.0         0           1   \n",
      "\n",
      "      match  \n",
      "0         0  \n",
      "1         0  \n",
      "2         1  \n",
      "3         1  \n",
      "4         1  \n",
      "...     ...  \n",
      "8373      0  \n",
      "8374      0  \n",
      "8375      0  \n",
      "8376      0  \n",
      "8377      0  \n",
      "\n",
      "[8378 rows x 36 columns]\n"
     ]
    }
   ],
   "source": [
    "print(new_data)"
   ]
  },
  {
   "cell_type": "code",
   "execution_count": 7,
   "metadata": {},
   "outputs": [
    {
     "data": {
      "text/plain": [
       "0"
      ]
     },
     "execution_count": 7,
     "metadata": {},
     "output_type": "execute_result"
    }
   ],
   "source": [
    "new_data.isna().sum().sum()"
   ]
  },
  {
   "cell_type": "code",
   "execution_count": 8,
   "metadata": {},
   "outputs": [],
   "source": [
    "new_data.to_csv('pp_pretprocesiranje.csv',index= False)"
   ]
  }
 ],
 "metadata": {
  "kernelspec": {
   "display_name": "Python 3",
   "language": "python",
   "name": "python3"
  },
  "language_info": {
   "codemirror_mode": {
    "name": "ipython",
    "version": 3
   },
   "file_extension": ".py",
   "mimetype": "text/x-python",
   "name": "python",
   "nbconvert_exporter": "python",
   "pygments_lexer": "ipython3",
   "version": "3.8.5"
  }
 },
 "nbformat": 4,
 "nbformat_minor": 4
}
