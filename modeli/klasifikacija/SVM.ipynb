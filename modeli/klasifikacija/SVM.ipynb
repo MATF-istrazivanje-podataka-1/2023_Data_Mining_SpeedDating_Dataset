{
 "cells": [
  {
   "cell_type": "markdown",
   "metadata": {},
   "source": [
    "# SVM"
   ]
  },
  {
   "cell_type": "code",
   "execution_count": 19,
   "metadata": {},
   "outputs": [],
   "source": [
    "import pandas as pd\n",
    "import numpy as np\n",
    "from matplotlib import pyplot as plt\n",
    "from sklearn.model_selection import train_test_split\n",
    "from sklearn.metrics import classification_report\n",
    "from termcolor import colored\n",
    "from sklearn.tree import DecisionTreeClassifier, plot_tree\n",
    "from scipy.io import arff\n",
    "from sklearn.ensemble import RandomForestClassifier\n",
    "from sklearn.metrics import confusion_matrix\n",
    "import seaborn\n",
    "from sklearn.model_selection import GridSearchCV\n",
    "from sklearn.preprocessing import StandardScaler\n",
    "from sklearn.svm import SVC\n",
    "from sklearn.metrics import confusion_matrix, accuracy_score\n",
    "from sklearn.metrics import roc_curve, roc_auc_score\n"
   ]
  },
  {
   "cell_type": "markdown",
   "metadata": {},
   "source": [
    "Ideja je pronaci hiperravan koja razdvaja podatke iz 2 klase. \n",
    "Ako su podaci linearno razdvojeni koristimo marginu, \n",
    "odnosno imacemo uslove da se hipperavan nalazi na bezbednom rastojanju od podataka i da su podaci iz jedne ravni sa jedne strane hiperrvani, a drugi sa druge.Ukoliko podaci nisu linearno razdvojeni koristimo meku marginu, odnosno dopustamo da imamo neke pogresne instance.  "
   ]
  },
  {
   "cell_type": "markdown",
   "metadata": {},
   "source": [
    "Ucitavamo skup podataka"
   ]
  },
  {
   "cell_type": "code",
   "execution_count": 2,
   "metadata": {},
   "outputs": [],
   "source": [
    "data = pd.read_csv('/home/user/Desktop/IP/sredjeni_podaci.csv')\n"
   ]
  },
  {
   "cell_type": "code",
   "execution_count": 3,
   "metadata": {},
   "outputs": [
    {
     "data": {
      "text/html": [
       "<div>\n",
       "<style scoped>\n",
       "    .dataframe tbody tr th:only-of-type {\n",
       "        vertical-align: middle;\n",
       "    }\n",
       "\n",
       "    .dataframe tbody tr th {\n",
       "        vertical-align: top;\n",
       "    }\n",
       "\n",
       "    .dataframe thead th {\n",
       "        text-align: right;\n",
       "    }\n",
       "</style>\n",
       "<table border=\"1\" class=\"dataframe\">\n",
       "  <thead>\n",
       "    <tr style=\"text-align: right;\">\n",
       "      <th></th>\n",
       "      <th>Unnamed: 0</th>\n",
       "      <th>wave</th>\n",
       "      <th>gender</th>\n",
       "      <th>age</th>\n",
       "      <th>age_o</th>\n",
       "      <th>d_age</th>\n",
       "      <th>d_d_age</th>\n",
       "      <th>race</th>\n",
       "      <th>race_o</th>\n",
       "      <th>samerace</th>\n",
       "      <th>...</th>\n",
       "      <th>d_expected_num_interested_in_me</th>\n",
       "      <th>d_expected_num_matches</th>\n",
       "      <th>like</th>\n",
       "      <th>guess_prob_liked</th>\n",
       "      <th>d_like</th>\n",
       "      <th>d_guess_prob_liked</th>\n",
       "      <th>met</th>\n",
       "      <th>decision</th>\n",
       "      <th>decision_o</th>\n",
       "      <th>match</th>\n",
       "    </tr>\n",
       "  </thead>\n",
       "  <tbody>\n",
       "    <tr>\n",
       "      <th>0</th>\n",
       "      <td>0</td>\n",
       "      <td>1.0</td>\n",
       "      <td>0</td>\n",
       "      <td>21.0</td>\n",
       "      <td>27.0</td>\n",
       "      <td>6.0</td>\n",
       "      <td>2</td>\n",
       "      <td>1</td>\n",
       "      <td>3</td>\n",
       "      <td>0</td>\n",
       "      <td>...</td>\n",
       "      <td>0</td>\n",
       "      <td>1</td>\n",
       "      <td>7.0</td>\n",
       "      <td>6.0</td>\n",
       "      <td>1</td>\n",
       "      <td>1</td>\n",
       "      <td>0.0</td>\n",
       "      <td>1</td>\n",
       "      <td>0</td>\n",
       "      <td>0</td>\n",
       "    </tr>\n",
       "    <tr>\n",
       "      <th>1</th>\n",
       "      <td>1</td>\n",
       "      <td>1.0</td>\n",
       "      <td>0</td>\n",
       "      <td>21.0</td>\n",
       "      <td>22.0</td>\n",
       "      <td>1.0</td>\n",
       "      <td>0</td>\n",
       "      <td>1</td>\n",
       "      <td>3</td>\n",
       "      <td>0</td>\n",
       "      <td>...</td>\n",
       "      <td>0</td>\n",
       "      <td>1</td>\n",
       "      <td>7.0</td>\n",
       "      <td>5.0</td>\n",
       "      <td>1</td>\n",
       "      <td>1</td>\n",
       "      <td>1.0</td>\n",
       "      <td>1</td>\n",
       "      <td>0</td>\n",
       "      <td>0</td>\n",
       "    </tr>\n",
       "    <tr>\n",
       "      <th>2</th>\n",
       "      <td>2</td>\n",
       "      <td>1.0</td>\n",
       "      <td>0</td>\n",
       "      <td>21.0</td>\n",
       "      <td>22.0</td>\n",
       "      <td>1.0</td>\n",
       "      <td>0</td>\n",
       "      <td>1</td>\n",
       "      <td>1</td>\n",
       "      <td>1</td>\n",
       "      <td>...</td>\n",
       "      <td>0</td>\n",
       "      <td>1</td>\n",
       "      <td>7.0</td>\n",
       "      <td>5.0</td>\n",
       "      <td>1</td>\n",
       "      <td>0</td>\n",
       "      <td>1.0</td>\n",
       "      <td>1</td>\n",
       "      <td>1</td>\n",
       "      <td>1</td>\n",
       "    </tr>\n",
       "    <tr>\n",
       "      <th>3</th>\n",
       "      <td>3</td>\n",
       "      <td>1.0</td>\n",
       "      <td>0</td>\n",
       "      <td>21.0</td>\n",
       "      <td>23.0</td>\n",
       "      <td>2.0</td>\n",
       "      <td>1</td>\n",
       "      <td>1</td>\n",
       "      <td>3</td>\n",
       "      <td>0</td>\n",
       "      <td>...</td>\n",
       "      <td>0</td>\n",
       "      <td>1</td>\n",
       "      <td>7.0</td>\n",
       "      <td>6.0</td>\n",
       "      <td>1</td>\n",
       "      <td>1</td>\n",
       "      <td>0.0</td>\n",
       "      <td>1</td>\n",
       "      <td>1</td>\n",
       "      <td>1</td>\n",
       "    </tr>\n",
       "    <tr>\n",
       "      <th>4</th>\n",
       "      <td>4</td>\n",
       "      <td>1.0</td>\n",
       "      <td>0</td>\n",
       "      <td>21.0</td>\n",
       "      <td>24.0</td>\n",
       "      <td>3.0</td>\n",
       "      <td>1</td>\n",
       "      <td>1</td>\n",
       "      <td>4</td>\n",
       "      <td>0</td>\n",
       "      <td>...</td>\n",
       "      <td>0</td>\n",
       "      <td>1</td>\n",
       "      <td>6.0</td>\n",
       "      <td>6.0</td>\n",
       "      <td>1</td>\n",
       "      <td>1</td>\n",
       "      <td>0.0</td>\n",
       "      <td>1</td>\n",
       "      <td>1</td>\n",
       "      <td>1</td>\n",
       "    </tr>\n",
       "    <tr>\n",
       "      <th>...</th>\n",
       "      <td>...</td>\n",
       "      <td>...</td>\n",
       "      <td>...</td>\n",
       "      <td>...</td>\n",
       "      <td>...</td>\n",
       "      <td>...</td>\n",
       "      <td>...</td>\n",
       "      <td>...</td>\n",
       "      <td>...</td>\n",
       "      <td>...</td>\n",
       "      <td>...</td>\n",
       "      <td>...</td>\n",
       "      <td>...</td>\n",
       "      <td>...</td>\n",
       "      <td>...</td>\n",
       "      <td>...</td>\n",
       "      <td>...</td>\n",
       "      <td>...</td>\n",
       "      <td>...</td>\n",
       "      <td>...</td>\n",
       "      <td>...</td>\n",
       "    </tr>\n",
       "    <tr>\n",
       "      <th>8373</th>\n",
       "      <td>8373</td>\n",
       "      <td>21.0</td>\n",
       "      <td>1</td>\n",
       "      <td>25.0</td>\n",
       "      <td>26.0</td>\n",
       "      <td>1.0</td>\n",
       "      <td>0</td>\n",
       "      <td>3</td>\n",
       "      <td>4</td>\n",
       "      <td>0</td>\n",
       "      <td>...</td>\n",
       "      <td>0</td>\n",
       "      <td>1</td>\n",
       "      <td>2.0</td>\n",
       "      <td>5.0</td>\n",
       "      <td>0</td>\n",
       "      <td>1</td>\n",
       "      <td>0.0</td>\n",
       "      <td>0</td>\n",
       "      <td>1</td>\n",
       "      <td>0</td>\n",
       "    </tr>\n",
       "    <tr>\n",
       "      <th>8374</th>\n",
       "      <td>8374</td>\n",
       "      <td>21.0</td>\n",
       "      <td>1</td>\n",
       "      <td>25.0</td>\n",
       "      <td>24.0</td>\n",
       "      <td>1.0</td>\n",
       "      <td>0</td>\n",
       "      <td>3</td>\n",
       "      <td>5</td>\n",
       "      <td>0</td>\n",
       "      <td>...</td>\n",
       "      <td>0</td>\n",
       "      <td>1</td>\n",
       "      <td>4.0</td>\n",
       "      <td>4.0</td>\n",
       "      <td>0</td>\n",
       "      <td>0</td>\n",
       "      <td>0.0</td>\n",
       "      <td>0</td>\n",
       "      <td>0</td>\n",
       "      <td>0</td>\n",
       "    </tr>\n",
       "    <tr>\n",
       "      <th>8375</th>\n",
       "      <td>8375</td>\n",
       "      <td>21.0</td>\n",
       "      <td>1</td>\n",
       "      <td>25.0</td>\n",
       "      <td>29.0</td>\n",
       "      <td>4.0</td>\n",
       "      <td>2</td>\n",
       "      <td>3</td>\n",
       "      <td>4</td>\n",
       "      <td>0</td>\n",
       "      <td>...</td>\n",
       "      <td>0</td>\n",
       "      <td>1</td>\n",
       "      <td>6.0</td>\n",
       "      <td>5.0</td>\n",
       "      <td>1</td>\n",
       "      <td>1</td>\n",
       "      <td>0.0</td>\n",
       "      <td>0</td>\n",
       "      <td>0</td>\n",
       "      <td>0</td>\n",
       "    </tr>\n",
       "    <tr>\n",
       "      <th>8376</th>\n",
       "      <td>8376</td>\n",
       "      <td>21.0</td>\n",
       "      <td>1</td>\n",
       "      <td>25.0</td>\n",
       "      <td>22.0</td>\n",
       "      <td>3.0</td>\n",
       "      <td>1</td>\n",
       "      <td>3</td>\n",
       "      <td>1</td>\n",
       "      <td>0</td>\n",
       "      <td>...</td>\n",
       "      <td>0</td>\n",
       "      <td>1</td>\n",
       "      <td>5.0</td>\n",
       "      <td>5.0</td>\n",
       "      <td>0</td>\n",
       "      <td>1</td>\n",
       "      <td>0.0</td>\n",
       "      <td>0</td>\n",
       "      <td>1</td>\n",
       "      <td>0</td>\n",
       "    </tr>\n",
       "    <tr>\n",
       "      <th>8377</th>\n",
       "      <td>8377</td>\n",
       "      <td>21.0</td>\n",
       "      <td>1</td>\n",
       "      <td>25.0</td>\n",
       "      <td>22.0</td>\n",
       "      <td>3.0</td>\n",
       "      <td>1</td>\n",
       "      <td>3</td>\n",
       "      <td>1</td>\n",
       "      <td>0</td>\n",
       "      <td>...</td>\n",
       "      <td>0</td>\n",
       "      <td>1</td>\n",
       "      <td>4.0</td>\n",
       "      <td>5.0</td>\n",
       "      <td>0</td>\n",
       "      <td>1</td>\n",
       "      <td>0.0</td>\n",
       "      <td>0</td>\n",
       "      <td>1</td>\n",
       "      <td>0</td>\n",
       "    </tr>\n",
       "  </tbody>\n",
       "</table>\n",
       "<p>8378 rows × 123 columns</p>\n",
       "</div>"
      ],
      "text/plain": [
       "      Unnamed: 0  wave  gender   age  age_o  d_age  d_d_age  race  race_o   \n",
       "0              0   1.0       0  21.0   27.0    6.0        2     1       3  \\\n",
       "1              1   1.0       0  21.0   22.0    1.0        0     1       3   \n",
       "2              2   1.0       0  21.0   22.0    1.0        0     1       1   \n",
       "3              3   1.0       0  21.0   23.0    2.0        1     1       3   \n",
       "4              4   1.0       0  21.0   24.0    3.0        1     1       4   \n",
       "...          ...   ...     ...   ...    ...    ...      ...   ...     ...   \n",
       "8373        8373  21.0       1  25.0   26.0    1.0        0     3       4   \n",
       "8374        8374  21.0       1  25.0   24.0    1.0        0     3       5   \n",
       "8375        8375  21.0       1  25.0   29.0    4.0        2     3       4   \n",
       "8376        8376  21.0       1  25.0   22.0    3.0        1     3       1   \n",
       "8377        8377  21.0       1  25.0   22.0    3.0        1     3       1   \n",
       "\n",
       "      samerace  ...  d_expected_num_interested_in_me  d_expected_num_matches   \n",
       "0            0  ...                                0                       1  \\\n",
       "1            0  ...                                0                       1   \n",
       "2            1  ...                                0                       1   \n",
       "3            0  ...                                0                       1   \n",
       "4            0  ...                                0                       1   \n",
       "...        ...  ...                              ...                     ...   \n",
       "8373         0  ...                                0                       1   \n",
       "8374         0  ...                                0                       1   \n",
       "8375         0  ...                                0                       1   \n",
       "8376         0  ...                                0                       1   \n",
       "8377         0  ...                                0                       1   \n",
       "\n",
       "      like  guess_prob_liked  d_like  d_guess_prob_liked  met  decision   \n",
       "0      7.0               6.0       1                   1  0.0         1  \\\n",
       "1      7.0               5.0       1                   1  1.0         1   \n",
       "2      7.0               5.0       1                   0  1.0         1   \n",
       "3      7.0               6.0       1                   1  0.0         1   \n",
       "4      6.0               6.0       1                   1  0.0         1   \n",
       "...    ...               ...     ...                 ...  ...       ...   \n",
       "8373   2.0               5.0       0                   1  0.0         0   \n",
       "8374   4.0               4.0       0                   0  0.0         0   \n",
       "8375   6.0               5.0       1                   1  0.0         0   \n",
       "8376   5.0               5.0       0                   1  0.0         0   \n",
       "8377   4.0               5.0       0                   1  0.0         0   \n",
       "\n",
       "      decision_o  match  \n",
       "0              0      0  \n",
       "1              0      0  \n",
       "2              1      1  \n",
       "3              1      1  \n",
       "4              1      1  \n",
       "...          ...    ...  \n",
       "8373           1      0  \n",
       "8374           0      0  \n",
       "8375           0      0  \n",
       "8376           1      0  \n",
       "8377           1      0  \n",
       "\n",
       "[8378 rows x 123 columns]"
      ]
     },
     "execution_count": 3,
     "metadata": {},
     "output_type": "execute_result"
    }
   ],
   "source": [
    "data"
   ]
  },
  {
   "cell_type": "code",
   "execution_count": 4,
   "metadata": {},
   "outputs": [],
   "source": [
    "data.drop('Unnamed: 0',axis =1,inplace = True)"
   ]
  },
  {
   "cell_type": "markdown",
   "metadata": {},
   "source": [
    "Razdvajamo ciljnu promenljivu od ostalih atrbuta:"
   ]
  },
  {
   "cell_type": "code",
   "execution_count": 5,
   "metadata": {},
   "outputs": [],
   "source": [
    "y = data['match']\n",
    "X = data.drop('match',axis =1)"
   ]
  },
  {
   "cell_type": "markdown",
   "metadata": {},
   "source": [
    "Podatke delimo na trening i test skup,u odnosu 75% - 25 %"
   ]
  },
  {
   "cell_type": "code",
   "execution_count": 6,
   "metadata": {},
   "outputs": [],
   "source": [
    "X_train, X_test, y_train, y_test = train_test_split(X, y, test_size=0.25, stratify=y, random_state=121)"
   ]
  },
  {
   "cell_type": "markdown",
   "metadata": {},
   "source": [
    "Standardizujemo podatke"
   ]
  },
  {
   "cell_type": "code",
   "execution_count": 7,
   "metadata": {},
   "outputs": [],
   "source": [
    "\n",
    "\n",
    "scaler = StandardScaler()\n",
    "scaler.fit(X_train)\n",
    "X_train = scaler.transform(X_train)\n",
    "X_test = scaler.transform(X_test)\n",
    "\n"
   ]
  },
  {
   "cell_type": "code",
   "execution_count": 8,
   "metadata": {},
   "outputs": [],
   "source": [
    "params = [\n",
    "            {\n",
    "                'kernel': ['linear'],\n",
    "                'C': [0.001, 0.01,0.1, 1, 10],\n",
    "            },\n",
    "            {\n",
    "                'kernel': ['rbf'],\n",
    "                'C': [0.01, 0.1, 1, 10],\n",
    "                'gamma': [0.001, 0.01,0.1, 1, 10],\n",
    "            },\n",
    "         ]"
   ]
  },
  {
   "cell_type": "code",
   "execution_count": 9,
   "metadata": {},
   "outputs": [],
   "source": [
    "grid_search = GridSearchCV(SVC(), params, scoring='accuracy', cv=4, verbose=4)"
   ]
  },
  {
   "cell_type": "code",
   "execution_count": 10,
   "metadata": {},
   "outputs": [
    {
     "name": "stdout",
     "output_type": "stream",
     "text": [
      "Fitting 4 folds for each of 25 candidates, totalling 100 fits\n",
      "[CV 1/4] END ............C=0.001, kernel=linear;, score=1.000 total time=   2.0s\n",
      "[CV 2/4] END ............C=0.001, kernel=linear;, score=1.000 total time=   1.7s\n",
      "[CV 3/4] END ............C=0.001, kernel=linear;, score=1.000 total time=   1.9s\n",
      "[CV 4/4] END ............C=0.001, kernel=linear;, score=1.000 total time=   1.6s\n",
      "[CV 1/4] END .............C=0.01, kernel=linear;, score=1.000 total time=   0.6s\n",
      "[CV 2/4] END .............C=0.01, kernel=linear;, score=1.000 total time=   0.6s\n",
      "[CV 3/4] END .............C=0.01, kernel=linear;, score=1.000 total time=   0.6s\n",
      "[CV 4/4] END .............C=0.01, kernel=linear;, score=1.000 total time=   0.6s\n",
      "[CV 1/4] END ..............C=0.1, kernel=linear;, score=1.000 total time=   0.5s\n",
      "[CV 2/4] END ..............C=0.1, kernel=linear;, score=1.000 total time=   0.5s\n",
      "[CV 3/4] END ..............C=0.1, kernel=linear;, score=1.000 total time=   0.5s\n",
      "[CV 4/4] END ..............C=0.1, kernel=linear;, score=1.000 total time=   0.5s\n",
      "[CV 1/4] END ................C=1, kernel=linear;, score=1.000 total time=   0.5s\n",
      "[CV 2/4] END ................C=1, kernel=linear;, score=1.000 total time=   0.5s\n",
      "[CV 3/4] END ................C=1, kernel=linear;, score=1.000 total time=   0.5s\n",
      "[CV 4/4] END ................C=1, kernel=linear;, score=1.000 total time=   0.5s\n",
      "[CV 1/4] END ...............C=10, kernel=linear;, score=1.000 total time=   0.5s\n",
      "[CV 2/4] END ...............C=10, kernel=linear;, score=1.000 total time=   0.5s\n",
      "[CV 3/4] END ...............C=10, kernel=linear;, score=1.000 total time=   0.5s\n",
      "[CV 4/4] END ...............C=10, kernel=linear;, score=1.000 total time=   0.5s\n",
      "[CV 1/4] END ...C=0.01, gamma=0.001, kernel=rbf;, score=0.835 total time=   2.4s\n",
      "[CV 2/4] END ...C=0.01, gamma=0.001, kernel=rbf;, score=0.835 total time=   2.4s\n",
      "[CV 3/4] END ...C=0.01, gamma=0.001, kernel=rbf;, score=0.835 total time=   2.5s\n",
      "[CV 4/4] END ...C=0.01, gamma=0.001, kernel=rbf;, score=0.836 total time=   2.7s\n",
      "[CV 1/4] END ....C=0.01, gamma=0.01, kernel=rbf;, score=0.835 total time=   2.9s\n",
      "[CV 2/4] END ....C=0.01, gamma=0.01, kernel=rbf;, score=0.835 total time=   3.4s\n",
      "[CV 3/4] END ....C=0.01, gamma=0.01, kernel=rbf;, score=0.835 total time=   3.1s\n",
      "[CV 4/4] END ....C=0.01, gamma=0.01, kernel=rbf;, score=0.836 total time=   3.0s\n",
      "[CV 1/4] END .....C=0.01, gamma=0.1, kernel=rbf;, score=0.835 total time=   7.0s\n",
      "[CV 2/4] END .....C=0.01, gamma=0.1, kernel=rbf;, score=0.835 total time=   6.9s\n",
      "[CV 3/4] END .....C=0.01, gamma=0.1, kernel=rbf;, score=0.835 total time=   7.5s\n",
      "[CV 4/4] END .....C=0.01, gamma=0.1, kernel=rbf;, score=0.836 total time=   7.4s\n",
      "[CV 1/4] END .......C=0.01, gamma=1, kernel=rbf;, score=0.835 total time=   6.8s\n",
      "[CV 2/4] END .......C=0.01, gamma=1, kernel=rbf;, score=0.835 total time=   6.9s\n",
      "[CV 3/4] END .......C=0.01, gamma=1, kernel=rbf;, score=0.835 total time=   7.4s\n",
      "[CV 4/4] END .......C=0.01, gamma=1, kernel=rbf;, score=0.836 total time=   7.6s\n",
      "[CV 1/4] END ......C=0.01, gamma=10, kernel=rbf;, score=0.835 total time=   8.1s\n",
      "[CV 2/4] END ......C=0.01, gamma=10, kernel=rbf;, score=0.835 total time=   8.9s\n",
      "[CV 3/4] END ......C=0.01, gamma=10, kernel=rbf;, score=0.835 total time=   9.3s\n",
      "[CV 4/4] END ......C=0.01, gamma=10, kernel=rbf;, score=0.836 total time=   7.6s\n",
      "[CV 1/4] END ....C=0.1, gamma=0.001, kernel=rbf;, score=0.835 total time=   2.4s\n",
      "[CV 2/4] END ....C=0.1, gamma=0.001, kernel=rbf;, score=0.835 total time=   2.5s\n",
      "[CV 3/4] END ....C=0.1, gamma=0.001, kernel=rbf;, score=0.835 total time=   2.3s\n",
      "[CV 4/4] END ....C=0.1, gamma=0.001, kernel=rbf;, score=0.836 total time=   2.4s\n",
      "[CV 1/4] END .....C=0.1, gamma=0.01, kernel=rbf;, score=0.836 total time=   3.0s\n",
      "[CV 2/4] END .....C=0.1, gamma=0.01, kernel=rbf;, score=0.836 total time=   3.1s\n",
      "[CV 3/4] END .....C=0.1, gamma=0.01, kernel=rbf;, score=0.835 total time=   3.3s\n",
      "[CV 4/4] END .....C=0.1, gamma=0.01, kernel=rbf;, score=0.836 total time=   3.1s\n",
      "[CV 1/4] END ......C=0.1, gamma=0.1, kernel=rbf;, score=0.835 total time=   6.9s\n",
      "[CV 2/4] END ......C=0.1, gamma=0.1, kernel=rbf;, score=0.835 total time=   6.8s\n",
      "[CV 3/4] END ......C=0.1, gamma=0.1, kernel=rbf;, score=0.835 total time=   7.2s\n",
      "[CV 4/4] END ......C=0.1, gamma=0.1, kernel=rbf;, score=0.836 total time=   7.7s\n",
      "[CV 1/4] END ........C=0.1, gamma=1, kernel=rbf;, score=0.835 total time=   6.8s\n",
      "[CV 2/4] END ........C=0.1, gamma=1, kernel=rbf;, score=0.835 total time=   6.9s\n",
      "[CV 3/4] END ........C=0.1, gamma=1, kernel=rbf;, score=0.835 total time=   6.9s\n",
      "[CV 4/4] END ........C=0.1, gamma=1, kernel=rbf;, score=0.836 total time=   6.9s\n",
      "[CV 1/4] END .......C=0.1, gamma=10, kernel=rbf;, score=0.835 total time=   6.3s\n",
      "[CV 2/4] END .......C=0.1, gamma=10, kernel=rbf;, score=0.835 total time=   6.3s\n",
      "[CV 3/4] END .......C=0.1, gamma=10, kernel=rbf;, score=0.835 total time=   6.3s\n",
      "[CV 4/4] END .......C=0.1, gamma=10, kernel=rbf;, score=0.836 total time=   6.2s\n",
      "[CV 1/4] END ......C=1, gamma=0.001, kernel=rbf;, score=1.000 total time=   2.5s\n",
      "[CV 2/4] END ......C=1, gamma=0.001, kernel=rbf;, score=1.000 total time=   2.6s\n",
      "[CV 3/4] END ......C=1, gamma=0.001, kernel=rbf;, score=1.000 total time=   2.6s\n",
      "[CV 4/4] END ......C=1, gamma=0.001, kernel=rbf;, score=1.000 total time=   2.6s\n",
      "[CV 1/4] END .......C=1, gamma=0.01, kernel=rbf;, score=0.996 total time=   2.9s\n",
      "[CV 2/4] END .......C=1, gamma=0.01, kernel=rbf;, score=0.993 total time=   2.8s\n",
      "[CV 3/4] END .......C=1, gamma=0.01, kernel=rbf;, score=0.998 total time=   2.9s\n",
      "[CV 4/4] END .......C=1, gamma=0.01, kernel=rbf;, score=0.997 total time=   3.1s\n",
      "[CV 1/4] END ........C=1, gamma=0.1, kernel=rbf;, score=0.835 total time=   7.0s\n",
      "[CV 2/4] END ........C=1, gamma=0.1, kernel=rbf;, score=0.835 total time=   7.0s\n",
      "[CV 3/4] END ........C=1, gamma=0.1, kernel=rbf;, score=0.835 total time=   7.1s\n",
      "[CV 4/4] END ........C=1, gamma=0.1, kernel=rbf;, score=0.836 total time=   7.0s\n",
      "[CV 1/4] END ..........C=1, gamma=1, kernel=rbf;, score=0.835 total time=   7.1s\n",
      "[CV 2/4] END ..........C=1, gamma=1, kernel=rbf;, score=0.835 total time=   7.7s\n",
      "[CV 3/4] END ..........C=1, gamma=1, kernel=rbf;, score=0.835 total time=   7.3s\n",
      "[CV 4/4] END ..........C=1, gamma=1, kernel=rbf;, score=0.836 total time=   8.8s\n",
      "[CV 1/4] END .........C=1, gamma=10, kernel=rbf;, score=0.835 total time=   7.2s\n",
      "[CV 2/4] END .........C=1, gamma=10, kernel=rbf;, score=0.835 total time=   7.0s\n",
      "[CV 3/4] END .........C=1, gamma=10, kernel=rbf;, score=0.835 total time=   7.1s\n",
      "[CV 4/4] END .........C=1, gamma=10, kernel=rbf;, score=0.836 total time=   7.1s\n",
      "[CV 1/4] END .....C=10, gamma=0.001, kernel=rbf;, score=1.000 total time=   1.5s\n",
      "[CV 2/4] END .....C=10, gamma=0.001, kernel=rbf;, score=1.000 total time=   1.5s\n",
      "[CV 3/4] END .....C=10, gamma=0.001, kernel=rbf;, score=1.000 total time=   1.6s\n",
      "[CV 4/4] END .....C=10, gamma=0.001, kernel=rbf;, score=1.000 total time=   1.6s\n",
      "[CV 1/4] END ......C=10, gamma=0.01, kernel=rbf;, score=0.998 total time=   2.9s\n",
      "[CV 2/4] END ......C=10, gamma=0.01, kernel=rbf;, score=0.996 total time=   2.9s\n",
      "[CV 3/4] END ......C=10, gamma=0.01, kernel=rbf;, score=0.999 total time=   2.9s\n",
      "[CV 4/4] END ......C=10, gamma=0.01, kernel=rbf;, score=0.997 total time=   2.9s\n",
      "[CV 1/4] END .......C=10, gamma=0.1, kernel=rbf;, score=0.836 total time=   7.5s\n",
      "[CV 2/4] END .......C=10, gamma=0.1, kernel=rbf;, score=0.835 total time=   7.7s\n",
      "[CV 3/4] END .......C=10, gamma=0.1, kernel=rbf;, score=0.835 total time=   7.8s\n",
      "[CV 4/4] END .......C=10, gamma=0.1, kernel=rbf;, score=0.836 total time=   8.7s\n",
      "[CV 1/4] END .........C=10, gamma=1, kernel=rbf;, score=0.835 total time=   7.9s\n",
      "[CV 2/4] END .........C=10, gamma=1, kernel=rbf;, score=0.835 total time=   8.2s\n",
      "[CV 3/4] END .........C=10, gamma=1, kernel=rbf;, score=0.835 total time=   8.3s\n",
      "[CV 4/4] END .........C=10, gamma=1, kernel=rbf;, score=0.836 total time=   8.3s\n",
      "[CV 1/4] END ........C=10, gamma=10, kernel=rbf;, score=0.835 total time=   7.4s\n",
      "[CV 2/4] END ........C=10, gamma=10, kernel=rbf;, score=0.835 total time=   8.2s\n",
      "[CV 3/4] END ........C=10, gamma=10, kernel=rbf;, score=0.835 total time=   7.9s\n",
      "[CV 4/4] END ........C=10, gamma=10, kernel=rbf;, score=0.836 total time=   7.6s\n"
     ]
    },
    {
     "data": {
      "text/html": [
       "<style>#sk-container-id-1 {color: black;background-color: white;}#sk-container-id-1 pre{padding: 0;}#sk-container-id-1 div.sk-toggleable {background-color: white;}#sk-container-id-1 label.sk-toggleable__label {cursor: pointer;display: block;width: 100%;margin-bottom: 0;padding: 0.3em;box-sizing: border-box;text-align: center;}#sk-container-id-1 label.sk-toggleable__label-arrow:before {content: \"▸\";float: left;margin-right: 0.25em;color: #696969;}#sk-container-id-1 label.sk-toggleable__label-arrow:hover:before {color: black;}#sk-container-id-1 div.sk-estimator:hover label.sk-toggleable__label-arrow:before {color: black;}#sk-container-id-1 div.sk-toggleable__content {max-height: 0;max-width: 0;overflow: hidden;text-align: left;background-color: #f0f8ff;}#sk-container-id-1 div.sk-toggleable__content pre {margin: 0.2em;color: black;border-radius: 0.25em;background-color: #f0f8ff;}#sk-container-id-1 input.sk-toggleable__control:checked~div.sk-toggleable__content {max-height: 200px;max-width: 100%;overflow: auto;}#sk-container-id-1 input.sk-toggleable__control:checked~label.sk-toggleable__label-arrow:before {content: \"▾\";}#sk-container-id-1 div.sk-estimator input.sk-toggleable__control:checked~label.sk-toggleable__label {background-color: #d4ebff;}#sk-container-id-1 div.sk-label input.sk-toggleable__control:checked~label.sk-toggleable__label {background-color: #d4ebff;}#sk-container-id-1 input.sk-hidden--visually {border: 0;clip: rect(1px 1px 1px 1px);clip: rect(1px, 1px, 1px, 1px);height: 1px;margin: -1px;overflow: hidden;padding: 0;position: absolute;width: 1px;}#sk-container-id-1 div.sk-estimator {font-family: monospace;background-color: #f0f8ff;border: 1px dotted black;border-radius: 0.25em;box-sizing: border-box;margin-bottom: 0.5em;}#sk-container-id-1 div.sk-estimator:hover {background-color: #d4ebff;}#sk-container-id-1 div.sk-parallel-item::after {content: \"\";width: 100%;border-bottom: 1px solid gray;flex-grow: 1;}#sk-container-id-1 div.sk-label:hover label.sk-toggleable__label {background-color: #d4ebff;}#sk-container-id-1 div.sk-serial::before {content: \"\";position: absolute;border-left: 1px solid gray;box-sizing: border-box;top: 0;bottom: 0;left: 50%;z-index: 0;}#sk-container-id-1 div.sk-serial {display: flex;flex-direction: column;align-items: center;background-color: white;padding-right: 0.2em;padding-left: 0.2em;position: relative;}#sk-container-id-1 div.sk-item {position: relative;z-index: 1;}#sk-container-id-1 div.sk-parallel {display: flex;align-items: stretch;justify-content: center;background-color: white;position: relative;}#sk-container-id-1 div.sk-item::before, #sk-container-id-1 div.sk-parallel-item::before {content: \"\";position: absolute;border-left: 1px solid gray;box-sizing: border-box;top: 0;bottom: 0;left: 50%;z-index: -1;}#sk-container-id-1 div.sk-parallel-item {display: flex;flex-direction: column;z-index: 1;position: relative;background-color: white;}#sk-container-id-1 div.sk-parallel-item:first-child::after {align-self: flex-end;width: 50%;}#sk-container-id-1 div.sk-parallel-item:last-child::after {align-self: flex-start;width: 50%;}#sk-container-id-1 div.sk-parallel-item:only-child::after {width: 0;}#sk-container-id-1 div.sk-dashed-wrapped {border: 1px dashed gray;margin: 0 0.4em 0.5em 0.4em;box-sizing: border-box;padding-bottom: 0.4em;background-color: white;}#sk-container-id-1 div.sk-label label {font-family: monospace;font-weight: bold;display: inline-block;line-height: 1.2em;}#sk-container-id-1 div.sk-label-container {text-align: center;}#sk-container-id-1 div.sk-container {/* jupyter's `normalize.less` sets `[hidden] { display: none; }` but bootstrap.min.css set `[hidden] { display: none !important; }` so we also need the `!important` here to be able to override the default hidden behavior on the sphinx rendered scikit-learn.org. See: https://github.com/scikit-learn/scikit-learn/issues/21755 */display: inline-block !important;position: relative;}#sk-container-id-1 div.sk-text-repr-fallback {display: none;}</style><div id=\"sk-container-id-1\" class=\"sk-top-container\"><div class=\"sk-text-repr-fallback\"><pre>GridSearchCV(cv=4, estimator=SVC(),\n",
       "             param_grid=[{&#x27;C&#x27;: [0.001, 0.01, 0.1, 1, 10], &#x27;kernel&#x27;: [&#x27;linear&#x27;]},\n",
       "                         {&#x27;C&#x27;: [0.01, 0.1, 1, 10],\n",
       "                          &#x27;gamma&#x27;: [0.001, 0.01, 0.1, 1, 10],\n",
       "                          &#x27;kernel&#x27;: [&#x27;rbf&#x27;]}],\n",
       "             scoring=&#x27;accuracy&#x27;, verbose=4)</pre><b>In a Jupyter environment, please rerun this cell to show the HTML representation or trust the notebook. <br />On GitHub, the HTML representation is unable to render, please try loading this page with nbviewer.org.</b></div><div class=\"sk-container\" hidden><div class=\"sk-item sk-dashed-wrapped\"><div class=\"sk-label-container\"><div class=\"sk-label sk-toggleable\"><input class=\"sk-toggleable__control sk-hidden--visually\" id=\"sk-estimator-id-1\" type=\"checkbox\" ><label for=\"sk-estimator-id-1\" class=\"sk-toggleable__label sk-toggleable__label-arrow\">GridSearchCV</label><div class=\"sk-toggleable__content\"><pre>GridSearchCV(cv=4, estimator=SVC(),\n",
       "             param_grid=[{&#x27;C&#x27;: [0.001, 0.01, 0.1, 1, 10], &#x27;kernel&#x27;: [&#x27;linear&#x27;]},\n",
       "                         {&#x27;C&#x27;: [0.01, 0.1, 1, 10],\n",
       "                          &#x27;gamma&#x27;: [0.001, 0.01, 0.1, 1, 10],\n",
       "                          &#x27;kernel&#x27;: [&#x27;rbf&#x27;]}],\n",
       "             scoring=&#x27;accuracy&#x27;, verbose=4)</pre></div></div></div><div class=\"sk-parallel\"><div class=\"sk-parallel-item\"><div class=\"sk-item\"><div class=\"sk-label-container\"><div class=\"sk-label sk-toggleable\"><input class=\"sk-toggleable__control sk-hidden--visually\" id=\"sk-estimator-id-2\" type=\"checkbox\" ><label for=\"sk-estimator-id-2\" class=\"sk-toggleable__label sk-toggleable__label-arrow\">estimator: SVC</label><div class=\"sk-toggleable__content\"><pre>SVC()</pre></div></div></div><div class=\"sk-serial\"><div class=\"sk-item\"><div class=\"sk-estimator sk-toggleable\"><input class=\"sk-toggleable__control sk-hidden--visually\" id=\"sk-estimator-id-3\" type=\"checkbox\" ><label for=\"sk-estimator-id-3\" class=\"sk-toggleable__label sk-toggleable__label-arrow\">SVC</label><div class=\"sk-toggleable__content\"><pre>SVC()</pre></div></div></div></div></div></div></div></div></div></div>"
      ],
      "text/plain": [
       "GridSearchCV(cv=4, estimator=SVC(),\n",
       "             param_grid=[{'C': [0.001, 0.01, 0.1, 1, 10], 'kernel': ['linear']},\n",
       "                         {'C': [0.01, 0.1, 1, 10],\n",
       "                          'gamma': [0.001, 0.01, 0.1, 1, 10],\n",
       "                          'kernel': ['rbf']}],\n",
       "             scoring='accuracy', verbose=4)"
      ]
     },
     "execution_count": 10,
     "metadata": {},
     "output_type": "execute_result"
    }
   ],
   "source": [
    "grid_search.fit(X_train,y_train)"
   ]
  },
  {
   "cell_type": "markdown",
   "metadata": {},
   "source": [
    "Optimalni parametri:"
   ]
  },
  {
   "cell_type": "code",
   "execution_count": 11,
   "metadata": {},
   "outputs": [
    {
     "data": {
      "text/plain": [
       "{'C': 0.001, 'kernel': 'linear'}"
      ]
     },
     "execution_count": 11,
     "metadata": {},
     "output_type": "execute_result"
    }
   ],
   "source": [
    "grid_search.best_params_\n"
   ]
  },
  {
   "cell_type": "markdown",
   "metadata": {},
   "source": [
    "Najveca tacnost:"
   ]
  },
  {
   "cell_type": "code",
   "execution_count": 12,
   "metadata": {},
   "outputs": [
    {
     "data": {
      "text/plain": [
       "1.0"
      ]
     },
     "execution_count": 12,
     "metadata": {},
     "output_type": "execute_result"
    }
   ],
   "source": [
    "grid_search.best_score_"
   ]
  },
  {
   "cell_type": "markdown",
   "metadata": {},
   "source": [
    "Pomocna funkcija za proveru kvaliteta modela"
   ]
  },
  {
   "cell_type": "code",
   "execution_count": 13,
   "metadata": {},
   "outputs": [],
   "source": [
    "def report(model, x, y, text = \"training\"):\n",
    "    y_pred = model.predict(x)\n",
    "    \n",
    "    print(colored(\"Izvestaj o klasifikaciji za model{} nad {} podacima\".format(type(model).__name__, text), \"green\"))\n",
    "    print(\"---------------------------------------------------------------------------------\")\n",
    "    print(classification_report(y, y_pred))\n",
    "    print(\"---------------------------------------------------------------------------------\")\n",
    "    \n",
    "    print(colored(\"Matrica konfuzije za model {} nad {} podacima \".format(type(model).__name__, text), \"green\"))\n",
    "    print(\"---------------------------------------------------------------------------------\")\n",
    "    print(pd.DataFrame(confusion_matrix(y, y_pred), columns=['1', '0'], index=['1', '0']))\n",
    "    print(\"---------------------------------------------------------------------------------\")\n",
    "    \n"
   ]
  },
  {
   "cell_type": "code",
   "execution_count": 14,
   "metadata": {},
   "outputs": [],
   "source": [
    "best = grid_search.best_estimator_"
   ]
  },
  {
   "cell_type": "code",
   "execution_count": 15,
   "metadata": {},
   "outputs": [],
   "source": [
    "y_pred = best.predict(X_test)"
   ]
  },
  {
   "cell_type": "code",
   "execution_count": 16,
   "metadata": {
    "scrolled": true
   },
   "outputs": [
    {
     "name": "stdout",
     "output_type": "stream",
     "text": [
      "Izvestaj o klasifikaciji za modelSVC nad TRENING podacima\n",
      "---------------------------------------------------------------------------------\n",
      "              precision    recall  f1-score   support\n",
      "\n",
      "           0       1.00      1.00      1.00      5248\n",
      "           1       1.00      1.00      1.00      1035\n",
      "\n",
      "    accuracy                           1.00      6283\n",
      "   macro avg       1.00      1.00      1.00      6283\n",
      "weighted avg       1.00      1.00      1.00      6283\n",
      "\n",
      "---------------------------------------------------------------------------------\n",
      "Matrica konfuzije za model SVC nad TRENING podacima \n",
      "---------------------------------------------------------------------------------\n",
      "      1     0\n",
      "1  5248     0\n",
      "0     0  1035\n",
      "---------------------------------------------------------------------------------\n",
      "Izvestaj o klasifikaciji za modelSVC nad TEST podacima\n",
      "---------------------------------------------------------------------------------\n",
      "              precision    recall  f1-score   support\n",
      "\n",
      "           0       1.00      1.00      1.00      1750\n",
      "           1       1.00      1.00      1.00       345\n",
      "\n",
      "    accuracy                           1.00      2095\n",
      "   macro avg       1.00      1.00      1.00      2095\n",
      "weighted avg       1.00      1.00      1.00      2095\n",
      "\n",
      "---------------------------------------------------------------------------------\n",
      "Matrica konfuzije za model SVC nad TEST podacima \n",
      "---------------------------------------------------------------------------------\n",
      "      1    0\n",
      "1  1750    0\n",
      "0     0  345\n",
      "---------------------------------------------------------------------------------\n"
     ]
    }
   ],
   "source": [
    "report(best,X_train,y_train,text = \"TRENING\")\n",
    "report(best,X_test,y_test,text = \"TEST\")"
   ]
  },
  {
   "cell_type": "code",
   "execution_count": null,
   "metadata": {},
   "outputs": [],
   "source": [
    "Ovaj model ima tacnost 1 na trening i na test skupu i kad pogledamo matricu konfuzije vidimo da nije napravio nijednu gresku."
   ]
  },
  {
   "cell_type": "code",
   "execution_count": 21,
   "metadata": {},
   "outputs": [
    {
     "data": {
      "image/png": "[encoded data removed]",
      "text/plain": [
       "<Figure size 432x288 with 1 Axes>"
      ]
     },
     "metadata": {
      "needs_background": "light"
     },
     "output_type": "display_data"
    }
   ],
   "source": [
    "models = [best]\n",
    "model_names = ['SVM']\n",
    "for model, model_name in zip(models, model_names):\n",
    "    y_pred = model.predict(X_test)\n",
    "    fpr,tpr, _ = roc_curve(y_test, y_pred)\n",
    "    auc = roc_auc_score(y_test, y_pred)\n",
    "    lab = model_name + \"(auc: \" + str(round(auc, 2)) + \")\"\n",
    "    plt.plot(fpr, tpr, label=lab)\n",
    "\n",
    "plt.plot([0, 1], [0, 1], label='Random (auc: 0.5)', color='red')\n",
    "plt.title(\"Poređenje modela sa random modelom\")\n",
    "plt.legend()\n",
    "plt.show()\n"
   ]
  },
  {
   "cell_type": "code",
   "execution_count": null,
   "metadata": {},
   "outputs": [],
   "source": []
  }
 ],
 "metadata": {
  "kernelspec": {
   "display_name": "Python 3",
   "language": "python",
   "name": "python3"
  },
  "language_info": {
   "codemirror_mode": {
    "name": "ipython",
    "version": 3
   },
   "file_extension": ".py",
   "mimetype": "text/x-python",
   "name": "python",
   "nbconvert_exporter": "python",
   "pygments_lexer": "ipython3",
   "version": "3.8.5"
  }
 },
 "nbformat": 4,
 "nbformat_minor": 4
}
