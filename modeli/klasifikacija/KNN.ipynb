{
 "cells": [
  {
   "cell_type": "markdown",
   "metadata": {},
   "source": [
    "# KNN"
   ]
  },
  {
   "cell_type": "markdown",
   "metadata": {},
   "source": [
    "Ukljucivanje potreblih biblioteka"
   ]
  },
  {
   "cell_type": "code",
   "execution_count": 1,
   "metadata": {},
   "outputs": [],
   "source": [
    "import pandas as pd\n",
    "import numpy as np\n",
    "from matplotlib import pyplot as plt\n",
    "from sklearn.model_selection import train_test_split\n",
    "from sklearn.metrics import classification_report\n",
    "from termcolor import colored\n",
    "from sklearn.tree import DecisionTreeClassifier, plot_tree\n",
    "from scipy.io import arff\n",
    "from sklearn.ensemble import RandomForestClassifier\n",
    "from sklearn.metrics import confusion_matrix\n",
    "\n",
    "from sklearn.preprocessing import MinMaxScaler,StandardScaler\n",
    "from sklearn.model_selection import GridSearchCV\n",
    "\n",
    "\n",
    "from sklearn.neighbors import KNeighborsClassifier \n",
    "import plotly.express as px\n",
    "from sklearn.ensemble import BaggingClassifier\n",
    "from sklearn.metrics import roc_curve, roc_auc_score\n",
    "\n",
    "\n"
   ]
  },
  {
   "cell_type": "markdown",
   "metadata": {},
   "source": [
    "Ucitavanje podataka"
   ]
  },
  {
   "cell_type": "code",
   "execution_count": 2,
   "metadata": {},
   "outputs": [
    {
     "name": "stdout",
     "output_type": "stream",
     "text": [
      "(8378, 123)\n"
     ]
    }
   ],
   "source": [
    "\n",
    "data = pd.read_csv('/home/user/Desktop/IP/sredjeni_podaci.csv')\n",
    "print(data.shape)\n",
    "\n"
   ]
  },
  {
   "cell_type": "code",
   "execution_count": 3,
   "metadata": {},
   "outputs": [
    {
     "name": "stdout",
     "output_type": "stream",
     "text": [
      "0          0\n",
      "1          1\n",
      "2          2\n",
      "3          3\n",
      "4          4\n",
      "        ... \n",
      "8373    8373\n",
      "8374    8374\n",
      "8375    8375\n",
      "8376    8376\n",
      "8377    8377\n",
      "Name: Unnamed: 0, Length: 8378, dtype: int64\n"
     ]
    }
   ],
   "source": [
    "\n",
    "print(data['Unnamed: 0'])\n",
    "data.drop('Unnamed: 0',axis = 1,inplace = True)\n"
   ]
  },
  {
   "cell_type": "markdown",
   "metadata": {},
   "source": [
    "Razdvajamo ciljni atribut od ostalih atributa,pa podatke delimo na trening i test skup"
   ]
  },
  {
   "cell_type": "code",
   "execution_count": 4,
   "metadata": {},
   "outputs": [],
   "source": [
    "Y = data['match']\n",
    "X = data.drop('match',axis = 1)"
   ]
  },
  {
   "cell_type": "code",
   "execution_count": 5,
   "metadata": {},
   "outputs": [],
   "source": [
    "X_train, X_test, Y_train, Y_test = train_test_split(X, Y, test_size=0.3, stratify=Y, random_state=112)"
   ]
  },
  {
   "cell_type": "markdown",
   "metadata": {},
   "source": [
    "Pomocne fukcije za proveru kvaliteta modela.Kod je preuzet iz materijala sa vezbi:"
   ]
  },
  {
   "cell_type": "code",
   "execution_count": 6,
   "metadata": {},
   "outputs": [],
   "source": [
    " def report(model, x, y, text = \"training\"):\n",
    "    y_pred = model.predict(x)\n",
    "    \n",
    "    print(colored(\"Izvestaj o klasifikaciji za model{} nad {} podacima\".format(type(model).__name__, text), \"green\"))\n",
    "    print(\"---------------------------------------------------------------------------------\")\n",
    "    print(classification_report(y, y_pred))\n",
    "    print(\"---------------------------------------------------------------------------------\")\n",
    "    \n",
    "    print(colored(\"Matrica konfuzije za model {} nad {} podacima \".format(type(model).__name__, text), \"green\"))\n",
    "    print(\"---------------------------------------------------------------------------------\")\n",
    "    print(pd.DataFrame(confusion_matrix(y, y_pred), columns=['1', '0'], index=['1', '0']))\n",
    "    print(\"---------------------------------------------------------------------------------\")"
   ]
  },
  {
   "cell_type": "markdown",
   "metadata": {},
   "source": [
    "Pre primene KNN algoritma moramo da normalizujemo podatke, a pre toga cemo da proverimo da li postoje vrednost van granica i kako oni uticu na ovaj model.\n",
    "Za proveru vrednosti van granica koristicemo IQR.\n"
   ]
  },
  {
   "cell_type": "code",
   "execution_count": 7,
   "metadata": {},
   "outputs": [],
   "source": [
    "\n",
    "def IQR(data, feature_names):\n",
    "    \n",
    "    iqr = pd.DataFrame(0, index=feature_names, columns=['lower', 'min', 'num_lower', 'upper', 'max', 'num_upper', 'percantage'])\n",
    "    for name in feature_names:\n",
    "\n",
    "        (Q1, Q3) = X[name].quantile([0.25, 0.75])\n",
    "        IQR = Q3 - Q1\n",
    "        upper = Q3 + (1.5 * IQR)\n",
    "        lower = Q1 - (1.5 * IQR)\n",
    "        \n",
    "        iqr.loc[name, 'upper'] = upper\n",
    "        iqr.loc[name, 'lower'] = lower\n",
    "\n",
    "        num_of_out_lower = (X[name] < lower).sum()\n",
    "        num_of_out_upper = (X[name] > upper).sum()\n",
    "\n",
    "        percentage = round((num_of_out_lower + num_of_out_upper) / X.shape[0] * 100)\n",
    "\n",
    "        iqr.loc[name, 'num_lower'], iqr.loc[name, 'num_upper'], iqr.loc[name, 'percantage']  = num_of_out_lower, num_of_out_upper, percentage\n",
    "        iqr.loc[name, 'min'], iqr.loc[name, 'max'] = min(X[name]), max(X[name])    \n",
    "    return iqr"
   ]
  },
  {
   "cell_type": "code",
   "execution_count": 8,
   "metadata": {},
   "outputs": [
    {
     "name": "stdout",
     "output_type": "stream",
     "text": [
      "                    lower   min  num_lower  upper   max  num_upper  percantage\n",
      "wave                 -5.0   1.0          0   27.0  21.0          0           0\n",
      "gender               -1.5   0.0          0    2.5   1.0          0           0\n",
      "age                  18.0  18.0          0   34.0  55.0        173           2\n",
      "age_o                18.0  18.0          0   34.0  55.0        173           2\n",
      "d_age                -5.0   0.0          0   11.0  37.0        355           4\n",
      "...                   ...   ...        ...    ...   ...        ...         ...\n",
      "d_like               -1.5   0.0          0    2.5   2.0          0           0\n",
      "d_guess_prob_liked   -3.0   0.0          0    5.0   2.0          0           0\n",
      "met                   0.0   0.0          0    0.0   8.0        359           4\n",
      "decision             -1.5   0.0          0    2.5   1.0          0           0\n",
      "decision_o           -1.5   0.0          0    2.5   1.0          0           0\n",
      "\n",
      "[121 rows x 7 columns]\n"
     ]
    }
   ],
   "source": [
    "feature_names = X.columns\n",
    "iqr = IQR(X_train,feature_names)\n",
    "print(iqr)"
   ]
  },
  {
   "cell_type": "markdown",
   "metadata": {},
   "source": [
    "Kolona pergantage nam govori koliko procenata podataka su outlieri."
   ]
  },
  {
   "cell_type": "code",
   "execution_count": 9,
   "metadata": {},
   "outputs": [
    {
     "name": "stdout",
     "output_type": "stream",
     "text": [
      "2\n",
      "2\n",
      "4\n",
      "7\n",
      "7\n",
      "7\n",
      "14\n",
      "6\n",
      "9\n",
      "11\n",
      "20\n",
      "1\n",
      "19\n",
      "2\n",
      "38\n",
      "36\n",
      "7\n",
      "14\n",
      "6\n",
      "9\n",
      "11\n",
      "20\n",
      "10\n",
      "2\n",
      "4\n",
      "3\n",
      "26\n",
      "1\n",
      "19\n",
      "2\n",
      "38\n",
      "36\n",
      "2\n",
      "2\n",
      "1\n",
      "6\n",
      "2\n",
      "2\n",
      "49\n",
      "1\n",
      "19\n",
      "6\n",
      "12\n",
      "1\n",
      "4\n",
      "Maksimalan procenat outliera je:  49\n"
     ]
    }
   ],
   "source": [
    "for p in iqr['percantage']:\n",
    "    if p > 0:\n",
    "        print(p)\n",
    "print('Maksimalan procenat outliera je: ', iqr['percantage'].max())"
   ]
  },
  {
   "cell_type": "markdown",
   "metadata": {},
   "source": [
    "Na osnovu ovoga zakljucujemo da postoji veliki broj elemenata van granica (u nekoj koloni cak 49%), pa zato mislim da bi trebalo da na neki nacin obradim outliere.Mislim da je najbolje da outliere zamenim medijanom, zato sto bih u slucaju brisanja izgubila veliki procenat podata."
   ]
  },
  {
   "cell_type": "markdown",
   "metadata": {},
   "source": [
    "# Normalizacija originalnih podataka i primena algoritma knn"
   ]
  },
  {
   "cell_type": "code",
   "execution_count": 10,
   "metadata": {},
   "outputs": [
    {
     "name": "stdout",
     "output_type": "stream",
     "text": [
      "Izvestaj o klasifikaciji za modelKNeighborsClassifier nad TRENING podacima\n",
      "---------------------------------------------------------------------------------\n",
      "              precision    recall  f1-score   support\n",
      "\n",
      "           0       0.90      0.98      0.94      4898\n",
      "           1       0.79      0.47      0.59       966\n",
      "\n",
      "    accuracy                           0.89      5864\n",
      "   macro avg       0.85      0.72      0.76      5864\n",
      "weighted avg       0.88      0.89      0.88      5864\n",
      "\n",
      "---------------------------------------------------------------------------------\n",
      "Matrica konfuzije za model KNeighborsClassifier nad TRENING podacima \n",
      "---------------------------------------------------------------------------------\n",
      "      1    0\n",
      "1  4780  118\n",
      "0   516  450\n",
      "---------------------------------------------------------------------------------\n",
      "Izvestaj o klasifikaciji za modelKNeighborsClassifier nad TEST podacima\n",
      "---------------------------------------------------------------------------------\n",
      "              precision    recall  f1-score   support\n",
      "\n",
      "           0       0.87      0.96      0.91      2100\n",
      "           1       0.58      0.26      0.36       414\n",
      "\n",
      "    accuracy                           0.85      2514\n",
      "   macro avg       0.73      0.61      0.64      2514\n",
      "weighted avg       0.82      0.85      0.82      2514\n",
      "\n",
      "---------------------------------------------------------------------------------\n",
      "Matrica konfuzije za model KNeighborsClassifier nad TEST podacima \n",
      "---------------------------------------------------------------------------------\n",
      "      1    0\n",
      "1  2024   76\n",
      "0   307  107\n",
      "---------------------------------------------------------------------------------\n"
     ]
    }
   ],
   "source": [
    "scaler = StandardScaler()\n",
    "scaler.fit(X_train)\n",
    "X_train = scaler.transform(X_train)\n",
    "X_test = scaler.transform(X_test)\n",
    "knn = KNeighborsClassifier()\n",
    "knn.fit(X_train,Y_train)\n",
    "report(knn,X_train,Y_train,text = \"TRENING\")\n",
    "report(knn,X_test,Y_test,text = \"TEST\")\n"
   ]
  },
  {
   "cell_type": "markdown",
   "metadata": {},
   "source": [
    "Model pravi jako veliki broja gresaka gre instance cija je stvarna klasa 1 klasifikuje kao instance klase 0."
   ]
  },
  {
   "cell_type": "markdown",
   "metadata": {},
   "source": [
    "# Outliere menjamo medijanom, vrsimo normalizaciju nad izmenjenim podacima i pozivamo KNN"
   ]
  },
  {
   "cell_type": "markdown",
   "metadata": {},
   "source": [
    "Htela sam da proverim da li cu zamenom outliera medijanom uspeti da malo popravim model."
   ]
  },
  {
   "cell_type": "code",
   "execution_count": 11,
   "metadata": {},
   "outputs": [],
   "source": [
    "def replace_outliers_IQR(df):\n",
    "\n",
    "   q1=df.quantile(0.25)\n",
    "\n",
    "   q3=df.quantile(0.75)\n",
    "\n",
    "   IQR=q3-q1\n",
    "\n",
    "   upper = df[~(df>(q3+1.5*IQR))].max()\n",
    "\n",
    "   lower = df[~(df<(q1-1.5*IQR))].min()\n",
    "\n",
    "   df = np.where(df > upper,\n",
    "\n",
    "       df.median(),\n",
    "\n",
    "       np.where(\n",
    "\n",
    "           df < lower,\n",
    "\n",
    "           df.median(),\n",
    "\n",
    "           df\n",
    "\n",
    "           )\n",
    "\n",
    "       )\n",
    "\n",
    "   return df"
   ]
  },
  {
   "cell_type": "code",
   "execution_count": 12,
   "metadata": {},
   "outputs": [],
   "source": [
    "column_num = len(feature_names)\n",
    "for i in range(0,column_num):\n",
    "    column_name = feature_names[i];\n",
    "    p = iqr.iat[i,6];\n",
    "    if p >= 1:\n",
    "        data[column_name] = replace_outliers_IQR(data[column_name])"
   ]
  },
  {
   "cell_type": "markdown",
   "metadata": {},
   "source": [
    " Pozivamo IQR da proverimo da li sada imamo outliera i u kojoj meri"
   ]
  },
  {
   "cell_type": "code",
   "execution_count": 13,
   "metadata": {},
   "outputs": [
    {
     "name": "stdout",
     "output_type": "stream",
     "text": [
      "16\n"
     ]
    }
   ],
   "source": [
    "Y = data['match'];\n",
    "X = data.drop('match',axis = 1)\n",
    "X_train, X_test, Y_train, Y_test = train_test_split(X, Y, test_size=0.3, stratify=Y, random_state=12)\n",
    "iqr2 = IQR(X_train,feature_names)\n",
    "print(iqr2['percantage'].max())\n"
   ]
  },
  {
   "cell_type": "markdown",
   "metadata": {},
   "source": [
    "Kada smo jednom outliere zamenili medijanom, nismo uspeli da izgubimo sve outliere,a ako zelimo da nemamo vrednosti van granica mozemo da pozovemo vise puta istu fju.Sada radimo opet normalizaciju, pa primenjujem algoritam knn"
   ]
  },
  {
   "cell_type": "code",
   "execution_count": 14,
   "metadata": {},
   "outputs": [],
   "source": [
    "scaler = StandardScaler()\n",
    "scaler.fit(X_train)\n",
    "X_train = scaler.transform(X_train)\n",
    "X_test = scaler.transform(X_test)\n"
   ]
  },
  {
   "cell_type": "code",
   "execution_count": 15,
   "metadata": {},
   "outputs": [
    {
     "name": "stdout",
     "output_type": "stream",
     "text": [
      "Izvestaj o klasifikaciji za modelKNeighborsClassifier nad TRENING podacima\n",
      "---------------------------------------------------------------------------------\n",
      "              precision    recall  f1-score   support\n",
      "\n",
      "           0       0.90      0.98      0.94      4898\n",
      "           1       0.80      0.45      0.58       966\n",
      "\n",
      "    accuracy                           0.89      5864\n",
      "   macro avg       0.85      0.71      0.76      5864\n",
      "weighted avg       0.88      0.89      0.88      5864\n",
      "\n",
      "---------------------------------------------------------------------------------\n",
      "Matrica konfuzije za model KNeighborsClassifier nad TRENING podacima \n",
      "---------------------------------------------------------------------------------\n",
      "      1    0\n",
      "1  4788  110\n",
      "0   529  437\n",
      "---------------------------------------------------------------------------------\n",
      "Izvestaj o klasifikaciji za modelKNeighborsClassifier nad TEST podacima\n",
      "---------------------------------------------------------------------------------\n",
      "              precision    recall  f1-score   support\n",
      "\n",
      "           0       0.87      0.96      0.91      2100\n",
      "           1       0.56      0.28      0.37       414\n",
      "\n",
      "    accuracy                           0.85      2514\n",
      "   macro avg       0.72      0.62      0.64      2514\n",
      "weighted avg       0.82      0.85      0.82      2514\n",
      "\n",
      "---------------------------------------------------------------------------------\n",
      "Matrica konfuzije za model KNeighborsClassifier nad TEST podacima \n",
      "---------------------------------------------------------------------------------\n",
      "      1    0\n",
      "1  2012   88\n",
      "0   300  114\n",
      "---------------------------------------------------------------------------------\n"
     ]
    }
   ],
   "source": [
    "\n",
    "knn = KNeighborsClassifier()\n",
    "knn.fit(X_train,Y_train)\n",
    "report(knn,X_train,Y_train,text = \"TRENING\")\n",
    "report(knn,X_test,Y_test,text = \"TEST\")"
   ]
  },
  {
   "cell_type": "markdown",
   "metadata": {},
   "source": [
    "Model je skoro jednako los kao i pre ovog postupka."
   ]
  },
  {
   "cell_type": "markdown",
   "metadata": {},
   "source": [
    "# Podesavanje hiper parametara"
   ]
  },
  {
   "cell_type": "code",
   "execution_count": 16,
   "metadata": {},
   "outputs": [
    {
     "name": "stdout",
     "output_type": "stream",
     "text": [
      "Fitting 4 folds for each of 16 candidates, totalling 64 fits\n",
      "[CV 1/4] END n_neighbors=10, p=1, weights=uniform;, score=0.199 total time=   1.5s\n",
      "[CV 2/4] END n_neighbors=10, p=1, weights=uniform;, score=0.207 total time=   1.4s\n",
      "[CV 3/4] END n_neighbors=10, p=1, weights=uniform;, score=0.215 total time=   1.3s\n",
      "[CV 4/4] END n_neighbors=10, p=1, weights=uniform;, score=0.141 total time=   1.4s\n",
      "[CV 1/4] END n_neighbors=10, p=1, weights=distance;, score=0.312 total time=   1.4s\n",
      "[CV 2/4] END n_neighbors=10, p=1, weights=distance;, score=0.294 total time=   1.3s\n",
      "[CV 3/4] END n_neighbors=10, p=1, weights=distance;, score=0.339 total time=   1.3s\n",
      "[CV 4/4] END n_neighbors=10, p=1, weights=distance;, score=0.224 total time=   1.3s\n",
      "[CV 1/4] END n_neighbors=10, p=2, weights=uniform;, score=0.264 total time=   0.3s\n",
      "[CV 2/4] END n_neighbors=10, p=2, weights=uniform;, score=0.266 total time=   0.2s\n",
      "[CV 3/4] END n_neighbors=10, p=2, weights=uniform;, score=0.241 total time=   0.2s\n",
      "[CV 4/4] END n_neighbors=10, p=2, weights=uniform;, score=0.182 total time=   0.3s\n",
      "[CV 1/4] END n_neighbors=10, p=2, weights=distance;, score=0.365 total time=   0.2s\n",
      "[CV 2/4] END n_neighbors=10, p=2, weights=distance;, score=0.352 total time=   0.1s\n",
      "[CV 3/4] END n_neighbors=10, p=2, weights=distance;, score=0.382 total time=   0.1s\n",
      "[CV 4/4] END n_neighbors=10, p=2, weights=distance;, score=0.252 total time=   0.1s\n",
      "[CV 1/4] END n_neighbors=15, p=1, weights=uniform;, score=0.263 total time=   1.3s\n",
      "[CV 2/4] END n_neighbors=15, p=1, weights=uniform;, score=0.305 total time=   1.2s\n",
      "[CV 3/4] END n_neighbors=15, p=1, weights=uniform;, score=0.254 total time=   1.3s\n",
      "[CV 4/4] END n_neighbors=15, p=1, weights=uniform;, score=0.254 total time=   1.3s\n",
      "[CV 1/4] END n_neighbors=15, p=1, weights=distance;, score=0.305 total time=   1.2s\n",
      "[CV 2/4] END n_neighbors=15, p=1, weights=distance;, score=0.306 total time=   1.3s\n",
      "[CV 3/4] END n_neighbors=15, p=1, weights=distance;, score=0.314 total time=   1.1s\n",
      "[CV 4/4] END n_neighbors=15, p=1, weights=distance;, score=0.217 total time=   1.3s\n",
      "[CV 1/4] END n_neighbors=15, p=2, weights=uniform;, score=0.312 total time=   0.2s\n",
      "[CV 2/4] END n_neighbors=15, p=2, weights=uniform;, score=0.329 total time=   0.2s\n",
      "[CV 3/4] END n_neighbors=15, p=2, weights=uniform;, score=0.345 total time=   0.2s\n",
      "[CV 4/4] END n_neighbors=15, p=2, weights=uniform;, score=0.310 total time=   0.2s\n",
      "[CV 1/4] END n_neighbors=15, p=2, weights=distance;, score=0.325 total time=   0.1s\n",
      "[CV 2/4] END n_neighbors=15, p=2, weights=distance;, score=0.341 total time=   0.1s\n",
      "[CV 3/4] END n_neighbors=15, p=2, weights=distance;, score=0.343 total time=   0.1s\n",
      "[CV 4/4] END n_neighbors=15, p=2, weights=distance;, score=0.309 total time=   0.1s\n",
      "[CV 1/4] END n_neighbors=20, p=1, weights=uniform;, score=0.291 total time=   1.2s\n",
      "[CV 2/4] END n_neighbors=20, p=1, weights=uniform;, score=0.296 total time=   1.6s\n",
      "[CV 3/4] END n_neighbors=20, p=1, weights=uniform;, score=0.251 total time=   1.3s\n",
      "[CV 4/4] END n_neighbors=20, p=1, weights=uniform;, score=0.224 total time=   1.2s\n",
      "[CV 1/4] END n_neighbors=20, p=1, weights=distance;, score=0.329 total time=   1.2s\n",
      "[CV 2/4] END n_neighbors=20, p=1, weights=distance;, score=0.326 total time=   1.3s\n",
      "[CV 3/4] END n_neighbors=20, p=1, weights=distance;, score=0.379 total time=   1.2s\n",
      "[CV 4/4] END n_neighbors=20, p=1, weights=distance;, score=0.243 total time=   1.4s\n",
      "[CV 1/4] END n_neighbors=20, p=2, weights=uniform;, score=0.274 total time=   0.2s\n",
      "[CV 2/4] END n_neighbors=20, p=2, weights=uniform;, score=0.304 total time=   0.2s\n",
      "[CV 3/4] END n_neighbors=20, p=2, weights=uniform;, score=0.271 total time=   0.2s\n",
      "[CV 4/4] END n_neighbors=20, p=2, weights=uniform;, score=0.250 total time=   0.2s\n",
      "[CV 1/4] END n_neighbors=20, p=2, weights=distance;, score=0.323 total time=   0.1s\n",
      "[CV 2/4] END n_neighbors=20, p=2, weights=distance;, score=0.334 total time=   0.1s\n",
      "[CV 3/4] END n_neighbors=20, p=2, weights=distance;, score=0.355 total time=   0.1s\n",
      "[CV 4/4] END n_neighbors=20, p=2, weights=distance;, score=0.279 total time=   0.1s\n",
      "[CV 1/4] END n_neighbors=25, p=1, weights=uniform;, score=0.356 total time=   1.3s\n",
      "[CV 2/4] END n_neighbors=25, p=1, weights=uniform;, score=0.329 total time=   1.4s\n",
      "[CV 3/4] END n_neighbors=25, p=1, weights=uniform;, score=0.310 total time=   1.3s\n",
      "[CV 4/4] END n_neighbors=25, p=1, weights=uniform;, score=0.261 total time=   1.2s\n",
      "[CV 1/4] END n_neighbors=25, p=1, weights=distance;, score=0.331 total time=   1.1s\n",
      "[CV 2/4] END n_neighbors=25, p=1, weights=distance;, score=0.312 total time=   1.1s\n",
      "[CV 3/4] END n_neighbors=25, p=1, weights=distance;, score=0.336 total time=   1.3s\n",
      "[CV 4/4] END n_neighbors=25, p=1, weights=distance;, score=0.261 total time=   1.4s\n",
      "[CV 1/4] END n_neighbors=25, p=2, weights=uniform;, score=0.337 total time=   0.2s\n",
      "[CV 2/4] END n_neighbors=25, p=2, weights=uniform;, score=0.299 total time=   0.2s\n",
      "[CV 3/4] END n_neighbors=25, p=2, weights=uniform;, score=0.290 total time=   0.2s\n",
      "[CV 4/4] END n_neighbors=25, p=2, weights=uniform;, score=0.261 total time=   0.3s\n",
      "[CV 1/4] END n_neighbors=25, p=2, weights=distance;, score=0.319 total time=   0.1s\n",
      "[CV 2/4] END n_neighbors=25, p=2, weights=distance;, score=0.312 total time=   0.1s\n",
      "[CV 3/4] END n_neighbors=25, p=2, weights=distance;, score=0.330 total time=   0.1s\n",
      "[CV 4/4] END n_neighbors=25, p=2, weights=distance;, score=0.267 total time=   0.1s\n"
     ]
    },
    {
     "data": {
      "text/html": [
       "<style>#sk-container-id-1 {color: black;background-color: white;}#sk-container-id-1 pre{padding: 0;}#sk-container-id-1 div.sk-toggleable {background-color: white;}#sk-container-id-1 label.sk-toggleable__label {cursor: pointer;display: block;width: 100%;margin-bottom: 0;padding: 0.3em;box-sizing: border-box;text-align: center;}#sk-container-id-1 label.sk-toggleable__label-arrow:before {content: \"▸\";float: left;margin-right: 0.25em;color: #696969;}#sk-container-id-1 label.sk-toggleable__label-arrow:hover:before {color: black;}#sk-container-id-1 div.sk-estimator:hover label.sk-toggleable__label-arrow:before {color: black;}#sk-container-id-1 div.sk-toggleable__content {max-height: 0;max-width: 0;overflow: hidden;text-align: left;background-color: #f0f8ff;}#sk-container-id-1 div.sk-toggleable__content pre {margin: 0.2em;color: black;border-radius: 0.25em;background-color: #f0f8ff;}#sk-container-id-1 input.sk-toggleable__control:checked~div.sk-toggleable__content {max-height: 200px;max-width: 100%;overflow: auto;}#sk-container-id-1 input.sk-toggleable__control:checked~label.sk-toggleable__label-arrow:before {content: \"▾\";}#sk-container-id-1 div.sk-estimator input.sk-toggleable__control:checked~label.sk-toggleable__label {background-color: #d4ebff;}#sk-container-id-1 div.sk-label input.sk-toggleable__control:checked~label.sk-toggleable__label {background-color: #d4ebff;}#sk-container-id-1 input.sk-hidden--visually {border: 0;clip: rect(1px 1px 1px 1px);clip: rect(1px, 1px, 1px, 1px);height: 1px;margin: -1px;overflow: hidden;padding: 0;position: absolute;width: 1px;}#sk-container-id-1 div.sk-estimator {font-family: monospace;background-color: #f0f8ff;border: 1px dotted black;border-radius: 0.25em;box-sizing: border-box;margin-bottom: 0.5em;}#sk-container-id-1 div.sk-estimator:hover {background-color: #d4ebff;}#sk-container-id-1 div.sk-parallel-item::after {content: \"\";width: 100%;border-bottom: 1px solid gray;flex-grow: 1;}#sk-container-id-1 div.sk-label:hover label.sk-toggleable__label {background-color: #d4ebff;}#sk-container-id-1 div.sk-serial::before {content: \"\";position: absolute;border-left: 1px solid gray;box-sizing: border-box;top: 0;bottom: 0;left: 50%;z-index: 0;}#sk-container-id-1 div.sk-serial {display: flex;flex-direction: column;align-items: center;background-color: white;padding-right: 0.2em;padding-left: 0.2em;position: relative;}#sk-container-id-1 div.sk-item {position: relative;z-index: 1;}#sk-container-id-1 div.sk-parallel {display: flex;align-items: stretch;justify-content: center;background-color: white;position: relative;}#sk-container-id-1 div.sk-item::before, #sk-container-id-1 div.sk-parallel-item::before {content: \"\";position: absolute;border-left: 1px solid gray;box-sizing: border-box;top: 0;bottom: 0;left: 50%;z-index: -1;}#sk-container-id-1 div.sk-parallel-item {display: flex;flex-direction: column;z-index: 1;position: relative;background-color: white;}#sk-container-id-1 div.sk-parallel-item:first-child::after {align-self: flex-end;width: 50%;}#sk-container-id-1 div.sk-parallel-item:last-child::after {align-self: flex-start;width: 50%;}#sk-container-id-1 div.sk-parallel-item:only-child::after {width: 0;}#sk-container-id-1 div.sk-dashed-wrapped {border: 1px dashed gray;margin: 0 0.4em 0.5em 0.4em;box-sizing: border-box;padding-bottom: 0.4em;background-color: white;}#sk-container-id-1 div.sk-label label {font-family: monospace;font-weight: bold;display: inline-block;line-height: 1.2em;}#sk-container-id-1 div.sk-label-container {text-align: center;}#sk-container-id-1 div.sk-container {/* jupyter's `normalize.less` sets `[hidden] { display: none; }` but bootstrap.min.css set `[hidden] { display: none !important; }` so we also need the `!important` here to be able to override the default hidden behavior on the sphinx rendered scikit-learn.org. See: https://github.com/scikit-learn/scikit-learn/issues/21755 */display: inline-block !important;position: relative;}#sk-container-id-1 div.sk-text-repr-fallback {display: none;}</style><div id=\"sk-container-id-1\" class=\"sk-top-container\"><div class=\"sk-text-repr-fallback\"><pre>GridSearchCV(cv=4, estimator=KNeighborsClassifier(),\n",
       "             param_grid={&#x27;n_neighbors&#x27;: range(10, 30, 5), &#x27;p&#x27;: [1, 2],\n",
       "                         &#x27;weights&#x27;: [&#x27;uniform&#x27;, &#x27;distance&#x27;]},\n",
       "             scoring=&#x27;f1&#x27;, verbose=4)</pre><b>In a Jupyter environment, please rerun this cell to show the HTML representation or trust the notebook. <br />On GitHub, the HTML representation is unable to render, please try loading this page with nbviewer.org.</b></div><div class=\"sk-container\" hidden><div class=\"sk-item sk-dashed-wrapped\"><div class=\"sk-label-container\"><div class=\"sk-label sk-toggleable\"><input class=\"sk-toggleable__control sk-hidden--visually\" id=\"sk-estimator-id-1\" type=\"checkbox\" ><label for=\"sk-estimator-id-1\" class=\"sk-toggleable__label sk-toggleable__label-arrow\">GridSearchCV</label><div class=\"sk-toggleable__content\"><pre>GridSearchCV(cv=4, estimator=KNeighborsClassifier(),\n",
       "             param_grid={&#x27;n_neighbors&#x27;: range(10, 30, 5), &#x27;p&#x27;: [1, 2],\n",
       "                         &#x27;weights&#x27;: [&#x27;uniform&#x27;, &#x27;distance&#x27;]},\n",
       "             scoring=&#x27;f1&#x27;, verbose=4)</pre></div></div></div><div class=\"sk-parallel\"><div class=\"sk-parallel-item\"><div class=\"sk-item\"><div class=\"sk-label-container\"><div class=\"sk-label sk-toggleable\"><input class=\"sk-toggleable__control sk-hidden--visually\" id=\"sk-estimator-id-2\" type=\"checkbox\" ><label for=\"sk-estimator-id-2\" class=\"sk-toggleable__label sk-toggleable__label-arrow\">estimator: KNeighborsClassifier</label><div class=\"sk-toggleable__content\"><pre>KNeighborsClassifier()</pre></div></div></div><div class=\"sk-serial\"><div class=\"sk-item\"><div class=\"sk-estimator sk-toggleable\"><input class=\"sk-toggleable__control sk-hidden--visually\" id=\"sk-estimator-id-3\" type=\"checkbox\" ><label for=\"sk-estimator-id-3\" class=\"sk-toggleable__label sk-toggleable__label-arrow\">KNeighborsClassifier</label><div class=\"sk-toggleable__content\"><pre>KNeighborsClassifier()</pre></div></div></div></div></div></div></div></div></div></div>"
      ],
      "text/plain": [
       "GridSearchCV(cv=4, estimator=KNeighborsClassifier(),\n",
       "             param_grid={'n_neighbors': range(10, 30, 5), 'p': [1, 2],\n",
       "                         'weights': ['uniform', 'distance']},\n",
       "             scoring='f1', verbose=4)"
      ]
     },
     "execution_count": 16,
     "metadata": {},
     "output_type": "execute_result"
    }
   ],
   "source": [
    "\n",
    "params_grid = {'n_neighbors': range(10, 30, 5),\n",
    "               'weights': ['uniform', 'distance'],\n",
    "                'p': [1, 2]}\n",
    "\n",
    "estimator = GridSearchCV(KNeighborsClassifier(), params_grid, cv=4, verbose=4,scoring = 'f1')\n",
    "estimator.fit(X_train, Y_train)"
   ]
  },
  {
   "cell_type": "markdown",
   "metadata": {},
   "source": [
    "Proveravamo koji su optimalni parametni KNN algoritma koje smo dobili GreadSearchom, kao i koji je najveci f1-score"
   ]
  },
  {
   "cell_type": "code",
   "execution_count": 17,
   "metadata": {},
   "outputs": [
    {
     "name": "stdout",
     "output_type": "stream",
     "text": [
      "{'n_neighbors': 10, 'p': 2, 'weights': 'distance'}\n"
     ]
    }
   ],
   "source": [
    "print(estimator.best_params_)"
   ]
  },
  {
   "cell_type": "code",
   "execution_count": 18,
   "metadata": {},
   "outputs": [
    {
     "name": "stdout",
     "output_type": "stream",
     "text": [
      "0.337686852214641\n"
     ]
    }
   ],
   "source": [
    "print(estimator.best_score_)"
   ]
  },
  {
   "cell_type": "code",
   "execution_count": 19,
   "metadata": {},
   "outputs": [
    {
     "name": "stdout",
     "output_type": "stream",
     "text": [
      "Izvestaj o klasifikaciji za modelKNeighborsClassifier nad TRAIN podacima\n",
      "---------------------------------------------------------------------------------\n",
      "              precision    recall  f1-score   support\n",
      "\n",
      "           0       1.00      1.00      1.00      4898\n",
      "           1       1.00      1.00      1.00       966\n",
      "\n",
      "    accuracy                           1.00      5864\n",
      "   macro avg       1.00      1.00      1.00      5864\n",
      "weighted avg       1.00      1.00      1.00      5864\n",
      "\n",
      "---------------------------------------------------------------------------------\n",
      "Matrica konfuzije za model KNeighborsClassifier nad TRAIN podacima \n",
      "---------------------------------------------------------------------------------\n",
      "      1    0\n",
      "1  4898    0\n",
      "0     0  966\n",
      "---------------------------------------------------------------------------------\n",
      "Izvestaj o klasifikaciji za modelKNeighborsClassifier nad TEST podacima\n",
      "---------------------------------------------------------------------------------\n",
      "              precision    recall  f1-score   support\n",
      "\n",
      "           0       0.86      0.97      0.91      2100\n",
      "           1       0.60      0.20      0.30       414\n",
      "\n",
      "    accuracy                           0.85      2514\n",
      "   macro avg       0.73      0.59      0.61      2514\n",
      "weighted avg       0.82      0.85      0.81      2514\n",
      "\n",
      "---------------------------------------------------------------------------------\n",
      "Matrica konfuzije za model KNeighborsClassifier nad TEST podacima \n",
      "---------------------------------------------------------------------------------\n",
      "      1   0\n",
      "1  2044  56\n",
      "0   331  83\n",
      "---------------------------------------------------------------------------------\n"
     ]
    }
   ],
   "source": [
    "report(estimator.best_estimator_, X_train, Y_train,text = \"TRAIN\")\n",
    "report(estimator.best_estimator_, X_test,Y_test,text = \"TEST\")"
   ]
  },
  {
   "cell_type": "markdown",
   "metadata": {},
   "source": [
    "Koriscenjem grid search algoritma dobili smo model koji se preprilagodio trening podacima."
   ]
  },
  {
   "cell_type": "markdown",
   "metadata": {},
   "source": [
    "# BaggingClassifier"
   ]
  },
  {
   "cell_type": "code",
   "execution_count": 20,
   "metadata": {},
   "outputs": [
    {
     "name": "stdout",
     "output_type": "stream",
     "text": [
      "Izvestaj o klasifikaciji za modelBaggingClassifier nad TRENING podacima\n",
      "---------------------------------------------------------------------------------\n",
      "              precision    recall  f1-score   support\n",
      "\n",
      "           0       0.90      0.98      0.94      4898\n",
      "           1       0.83      0.44      0.58       966\n",
      "\n",
      "    accuracy                           0.89      5864\n",
      "   macro avg       0.87      0.71      0.76      5864\n",
      "weighted avg       0.89      0.89      0.88      5864\n",
      "\n",
      "---------------------------------------------------------------------------------\n",
      "Matrica konfuzije za model BaggingClassifier nad TRENING podacima \n",
      "---------------------------------------------------------------------------------\n",
      "      1    0\n",
      "1  4812   86\n",
      "0   537  429\n",
      "---------------------------------------------------------------------------------\n",
      "Izvestaj o klasifikaciji za modelBaggingClassifier nad TEST podacima\n",
      "---------------------------------------------------------------------------------\n",
      "              precision    recall  f1-score   support\n",
      "\n",
      "           0       0.87      0.96      0.91      2100\n",
      "           1       0.57      0.27      0.37       414\n",
      "\n",
      "    accuracy                           0.85      2514\n",
      "   macro avg       0.72      0.62      0.64      2514\n",
      "weighted avg       0.82      0.85      0.82      2514\n",
      "\n",
      "---------------------------------------------------------------------------------\n",
      "Matrica konfuzije za model BaggingClassifier nad TEST podacima \n",
      "---------------------------------------------------------------------------------\n",
      "      1    0\n",
      "1  2014   86\n",
      "0   301  113\n",
      "---------------------------------------------------------------------------------\n"
     ]
    }
   ],
   "source": [
    "\n",
    "baggingKnn = BaggingClassifier(estimator=KNeighborsClassifier(), n_estimators=20)\n",
    "baggingKnn.fit(X_train, Y_train)\n",
    "\n",
    "report(baggingKnn, X_train, Y_train,text = \"TRENING\")\n",
    "report(baggingKnn, X_test, Y_test, \"TEST\")"
   ]
  },
  {
   "cell_type": "markdown",
   "metadata": {},
   "source": [
    "# Poredjenje modela ROC krivom"
   ]
  },
  {
   "cell_type": "code",
   "execution_count": 21,
   "metadata": {},
   "outputs": [
    {
     "data": {
      "image/png": "[encoded data removed]",
      "text/plain": [
       "<Figure size 432x288 with 1 Axes>"
      ]
     },
     "metadata": {
      "needs_background": "light"
     },
     "output_type": "display_data"
    }
   ],
   "source": [
    "models = [knn, estimator.best_estimator_,baggingKnn]\n",
    "model_names = ['KNN', 'GridSearchCV','Ensemble']\n",
    "for model, model_name in zip(models, model_names):\n",
    "    y_pred = model.predict(X_test)\n",
    "    fpr,tpr, _ = roc_curve(Y_test, y_pred)\n",
    "    auc = roc_auc_score(Y_test, y_pred)\n",
    "    lab = model_name + \"(auc: \" + str(round(auc, 2)) + \")\"\n",
    "    plt.plot(fpr, tpr, label=lab)\n",
    "\n",
    "plt.plot([0, 1], [0, 1], label='Random (auc: 0.5)', color='red')\n",
    "plt.title(\"Poređenje modela\")\n",
    "plt.legend()\n",
    "plt.show()\n"
   ]
  },
  {
   "cell_type": "markdown",
   "metadata": {},
   "source": [
    "KNN daje mnogo losije rezultate u odnosu na ostale algoritme klasterovanja.Mislim da je to zato sto imamo mnogo vise instanci jedne klase nego instanci druge klase, a posto su u ovom algoritmu od velike vaznosti klase suseda, mislim da je razlog zbog koga imamo jako veliki broj gresaka kod kojih za klasu 1 predvidjamo 0."
   ]
  },
  {
   "cell_type": "code",
   "execution_count": null,
   "metadata": {},
   "outputs": [],
   "source": []
  }
 ],
 "metadata": {
  "kernelspec": {
   "display_name": "Python 3",
   "language": "python",
   "name": "python3"
  },
  "language_info": {
   "codemirror_mode": {
    "name": "ipython",
    "version": 3
   },
   "file_extension": ".py",
   "mimetype": "text/x-python",
   "name": "python",
   "nbconvert_exporter": "python",
   "pygments_lexer": "ipython3",
   "version": "3.8.5"
  }
 },
 "nbformat": 4,
 "nbformat_minor": 4
}
