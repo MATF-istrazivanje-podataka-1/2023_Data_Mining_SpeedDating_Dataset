{
 "cells": [
  {
   "cell_type": "markdown",
   "metadata": {},
   "source": [
    "# Agglomerative"
   ]
  },
  {
   "cell_type": "code",
   "execution_count": 1,
   "metadata": {},
   "outputs": [],
   "source": [
    "import pandas as pd\n",
    "import numpy as np\n",
    "from sklearn.cluster import AgglomerativeClustering\n",
    "from sklearn.preprocessing import MinMaxScaler\n",
    "from matplotlib import pyplot as plt\n",
    "from sklearn.metrics import silhouette_score\n",
    "from scipy.cluster.hierarchy import dendrogram, linkage"
   ]
  },
  {
   "cell_type": "markdown",
   "metadata": {},
   "source": [
    "Ucitavanje podataka:"
   ]
  },
  {
   "cell_type": "code",
   "execution_count": 2,
   "metadata": {},
   "outputs": [
    {
     "name": "stdout",
     "output_type": "stream",
     "text": [
      "(8378, 123)\n"
     ]
    }
   ],
   "source": [
    "data = pd.read_csv('/home/user/Desktop/IP/sredjeni_podaci.csv')\n",
    "print(data.shape)"
   ]
  },
  {
   "cell_type": "code",
   "execution_count": 3,
   "metadata": {},
   "outputs": [],
   "source": [
    "data.drop(\"Unnamed: 0\",axis=1,inplace = True)"
   ]
  },
  {
   "cell_type": "markdown",
   "metadata": {},
   "source": [
    "Brisemo cilju promenljivu 'match'"
   ]
  },
  {
   "cell_type": "code",
   "execution_count": 4,
   "metadata": {},
   "outputs": [],
   "source": [
    "X = data.drop('match',axis=1)\n",
    "feature_names = X.columns"
   ]
  },
  {
   "cell_type": "markdown",
   "metadata": {},
   "source": [
    "Standardizacija podataka"
   ]
  },
  {
   "cell_type": "code",
   "execution_count": 5,
   "metadata": {},
   "outputs": [],
   "source": [
    "scaler = MinMaxScaler()\n",
    "X = pd.DataFrame(scaler.fit_transform(X), columns=feature_names)"
   ]
  },
  {
   "cell_type": "code",
   "execution_count": 6,
   "metadata": {},
   "outputs": [],
   "source": [
    "model = AgglomerativeClustering(n_clusters=4, linkage='average', compute_distances=True)"
   ]
  },
  {
   "cell_type": "code",
   "execution_count": 7,
   "metadata": {},
   "outputs": [
    {
     "data": {
      "text/html": [
       "<style>#sk-container-id-1 {color: black;background-color: white;}#sk-container-id-1 pre{padding: 0;}#sk-container-id-1 div.sk-toggleable {background-color: white;}#sk-container-id-1 label.sk-toggleable__label {cursor: pointer;display: block;width: 100%;margin-bottom: 0;padding: 0.3em;box-sizing: border-box;text-align: center;}#sk-container-id-1 label.sk-toggleable__label-arrow:before {content: \"▸\";float: left;margin-right: 0.25em;color: #696969;}#sk-container-id-1 label.sk-toggleable__label-arrow:hover:before {color: black;}#sk-container-id-1 div.sk-estimator:hover label.sk-toggleable__label-arrow:before {color: black;}#sk-container-id-1 div.sk-toggleable__content {max-height: 0;max-width: 0;overflow: hidden;text-align: left;background-color: #f0f8ff;}#sk-container-id-1 div.sk-toggleable__content pre {margin: 0.2em;color: black;border-radius: 0.25em;background-color: #f0f8ff;}#sk-container-id-1 input.sk-toggleable__control:checked~div.sk-toggleable__content {max-height: 200px;max-width: 100%;overflow: auto;}#sk-container-id-1 input.sk-toggleable__control:checked~label.sk-toggleable__label-arrow:before {content: \"▾\";}#sk-container-id-1 div.sk-estimator input.sk-toggleable__control:checked~label.sk-toggleable__label {background-color: #d4ebff;}#sk-container-id-1 div.sk-label input.sk-toggleable__control:checked~label.sk-toggleable__label {background-color: #d4ebff;}#sk-container-id-1 input.sk-hidden--visually {border: 0;clip: rect(1px 1px 1px 1px);clip: rect(1px, 1px, 1px, 1px);height: 1px;margin: -1px;overflow: hidden;padding: 0;position: absolute;width: 1px;}#sk-container-id-1 div.sk-estimator {font-family: monospace;background-color: #f0f8ff;border: 1px dotted black;border-radius: 0.25em;box-sizing: border-box;margin-bottom: 0.5em;}#sk-container-id-1 div.sk-estimator:hover {background-color: #d4ebff;}#sk-container-id-1 div.sk-parallel-item::after {content: \"\";width: 100%;border-bottom: 1px solid gray;flex-grow: 1;}#sk-container-id-1 div.sk-label:hover label.sk-toggleable__label {background-color: #d4ebff;}#sk-container-id-1 div.sk-serial::before {content: \"\";position: absolute;border-left: 1px solid gray;box-sizing: border-box;top: 0;bottom: 0;left: 50%;z-index: 0;}#sk-container-id-1 div.sk-serial {display: flex;flex-direction: column;align-items: center;background-color: white;padding-right: 0.2em;padding-left: 0.2em;position: relative;}#sk-container-id-1 div.sk-item {position: relative;z-index: 1;}#sk-container-id-1 div.sk-parallel {display: flex;align-items: stretch;justify-content: center;background-color: white;position: relative;}#sk-container-id-1 div.sk-item::before, #sk-container-id-1 div.sk-parallel-item::before {content: \"\";position: absolute;border-left: 1px solid gray;box-sizing: border-box;top: 0;bottom: 0;left: 50%;z-index: -1;}#sk-container-id-1 div.sk-parallel-item {display: flex;flex-direction: column;z-index: 1;position: relative;background-color: white;}#sk-container-id-1 div.sk-parallel-item:first-child::after {align-self: flex-end;width: 50%;}#sk-container-id-1 div.sk-parallel-item:last-child::after {align-self: flex-start;width: 50%;}#sk-container-id-1 div.sk-parallel-item:only-child::after {width: 0;}#sk-container-id-1 div.sk-dashed-wrapped {border: 1px dashed gray;margin: 0 0.4em 0.5em 0.4em;box-sizing: border-box;padding-bottom: 0.4em;background-color: white;}#sk-container-id-1 div.sk-label label {font-family: monospace;font-weight: bold;display: inline-block;line-height: 1.2em;}#sk-container-id-1 div.sk-label-container {text-align: center;}#sk-container-id-1 div.sk-container {/* jupyter's `normalize.less` sets `[hidden] { display: none; }` but bootstrap.min.css set `[hidden] { display: none !important; }` so we also need the `!important` here to be able to override the default hidden behavior on the sphinx rendered scikit-learn.org. See: https://github.com/scikit-learn/scikit-learn/issues/21755 */display: inline-block !important;position: relative;}#sk-container-id-1 div.sk-text-repr-fallback {display: none;}</style><div id=\"sk-container-id-1\" class=\"sk-top-container\"><div class=\"sk-text-repr-fallback\"><pre>AgglomerativeClustering(compute_distances=True, linkage=&#x27;average&#x27;, n_clusters=4)</pre><b>In a Jupyter environment, please rerun this cell to show the HTML representation or trust the notebook. <br />On GitHub, the HTML representation is unable to render, please try loading this page with nbviewer.org.</b></div><div class=\"sk-container\" hidden><div class=\"sk-item\"><div class=\"sk-estimator sk-toggleable\"><input class=\"sk-toggleable__control sk-hidden--visually\" id=\"sk-estimator-id-1\" type=\"checkbox\" checked><label for=\"sk-estimator-id-1\" class=\"sk-toggleable__label sk-toggleable__label-arrow\">AgglomerativeClustering</label><div class=\"sk-toggleable__content\"><pre>AgglomerativeClustering(compute_distances=True, linkage=&#x27;average&#x27;, n_clusters=4)</pre></div></div></div></div></div>"
      ],
      "text/plain": [
       "AgglomerativeClustering(compute_distances=True, linkage='average', n_clusters=4)"
      ]
     },
     "execution_count": 7,
     "metadata": {},
     "output_type": "execute_result"
    }
   ],
   "source": [
    "model.fit(X)"
   ]
  },
  {
   "cell_type": "markdown",
   "metadata": {},
   "source": [
    "Ispisujemo koji podaci pripadaju kom klasteru:"
   ]
  },
  {
   "cell_type": "code",
   "execution_count": 8,
   "metadata": {},
   "outputs": [
    {
     "name": "stdout",
     "output_type": "stream",
     "text": [
      "Prvom klaseru pripadaju podaci:\n",
      "\n",
      "      wave  gender   age  age_o  d_age  d_d_age  race  race_o  samerace   \n",
      "0      1.0       0  21.0   27.0    6.0        2     1       3         0  \\\n",
      "1      1.0       0  21.0   22.0    1.0        0     1       3         0   \n",
      "2      1.0       0  21.0   22.0    1.0        0     1       1         1   \n",
      "3      1.0       0  21.0   23.0    2.0        1     1       3         0   \n",
      "4      1.0       0  21.0   24.0    3.0        1     1       4         0   \n",
      "...    ...     ...   ...    ...    ...      ...   ...     ...       ...   \n",
      "8373  21.0       1  25.0   26.0    1.0        0     3       4         0   \n",
      "8374  21.0       1  25.0   24.0    1.0        0     3       5         0   \n",
      "8375  21.0       1  25.0   29.0    4.0        2     3       4         0   \n",
      "8376  21.0       1  25.0   22.0    3.0        1     3       1         0   \n",
      "8377  21.0       1  25.0   22.0    3.0        1     3       1         0   \n",
      "\n",
      "      importance_same_race  ...  d_expected_num_interested_in_me   \n",
      "0                      2.0  ...                                0  \\\n",
      "1                      2.0  ...                                0   \n",
      "2                      2.0  ...                                0   \n",
      "3                      2.0  ...                                0   \n",
      "4                      2.0  ...                                0   \n",
      "...                    ...  ...                              ...   \n",
      "8373                   1.0  ...                                0   \n",
      "8374                   1.0  ...                                0   \n",
      "8375                   1.0  ...                                0   \n",
      "8376                   1.0  ...                                0   \n",
      "8377                   1.0  ...                                0   \n",
      "\n",
      "      d_expected_num_matches  like  guess_prob_liked  d_like   \n",
      "0                          1   7.0               6.0       1  \\\n",
      "1                          1   7.0               5.0       1   \n",
      "2                          1   7.0               5.0       1   \n",
      "3                          1   7.0               6.0       1   \n",
      "4                          1   6.0               6.0       1   \n",
      "...                      ...   ...               ...     ...   \n",
      "8373                       1   2.0               5.0       0   \n",
      "8374                       1   4.0               4.0       0   \n",
      "8375                       1   6.0               5.0       1   \n",
      "8376                       1   5.0               5.0       0   \n",
      "8377                       1   4.0               5.0       0   \n",
      "\n",
      "      d_guess_prob_liked  met  decision  decision_o  match  \n",
      "0                      1  0.0         1           0      0  \n",
      "1                      1  1.0         1           0      0  \n",
      "2                      0  1.0         1           1      1  \n",
      "3                      1  0.0         1           1      1  \n",
      "4                      1  0.0         1           1      1  \n",
      "...                  ...  ...       ...         ...    ...  \n",
      "8373                   1  0.0         0           1      0  \n",
      "8374                   0  0.0         0           0      0  \n",
      "8375                   1  0.0         0           0      0  \n",
      "8376                   1  0.0         0           1      0  \n",
      "8377                   1  0.0         0           1      0  \n",
      "\n",
      "[8349 rows x 122 columns]\n",
      "Ukupan broj instanci koje pripadaju prvom klasteru:  8349\n"
     ]
    }
   ],
   "source": [
    "print(\"Prvom klaseru pripadaju podaci:\\n\");\n",
    "print(data[model.labels_ ==0 ])\n",
    "print(\"Ukupan broj instanci koje pripadaju prvom klasteru: \",data[model.labels_ == 0].shape[0])"
   ]
  },
  {
   "cell_type": "code",
   "execution_count": 9,
   "metadata": {},
   "outputs": [
    {
     "name": "stdout",
     "output_type": "stream",
     "text": [
      "Drugom klaseru pripadaju podaci:\n",
      "\n",
      "     wave  gender   age  age_o  d_age  d_d_age  race  race_o  samerace   \n",
      "91    1.0       0  26.0   22.0    4.0        2     3       3         1  \\\n",
      "119   1.0       1  22.0   26.0    4.0        2     3       3         1   \n",
      "\n",
      "     importance_same_race  ...  d_expected_num_interested_in_me   \n",
      "91                    4.0  ...                                1  \\\n",
      "119                   1.0  ...                                1   \n",
      "\n",
      "     d_expected_num_matches  like  guess_prob_liked  d_like   \n",
      "91                        0   1.0               1.0       0  \\\n",
      "119                       1   1.0               1.0       0   \n",
      "\n",
      "     d_guess_prob_liked  met  decision  decision_o  match  \n",
      "91                    0  1.0         0           0      0  \n",
      "119                   0  0.0         0           0      0  \n",
      "\n",
      "[2 rows x 122 columns]\n",
      "Ukupan broj instanci koje pripadaju drugom klasteru:  2\n"
     ]
    }
   ],
   "source": [
    "print(\"Drugom klaseru pripadaju podaci:\\n\");\n",
    "print(data[model.labels_ ==1 ])\n",
    "print(\"Ukupan broj instanci koje pripadaju drugom klasteru: \",data[model.labels_ == 1].shape[0])"
   ]
  },
  {
   "cell_type": "code",
   "execution_count": 10,
   "metadata": {},
   "outputs": [
    {
     "name": "stdout",
     "output_type": "stream",
     "text": [
      "Trecem  klaseru pripadaju podaci:\n",
      "\n",
      "      wave  gender   age  age_o  d_age  d_d_age  race  race_o  samerace   \n",
      "3462  10.0       0  26.0   27.0    1.0        0     1       3         0  \\\n",
      "3463  10.0       0  26.0   28.0    2.0        1     1       3         0   \n",
      "3464  10.0       0  26.0   32.0    6.0        2     1       3         0   \n",
      "3465  10.0       0  26.0   25.0    1.0        0     1       3         0   \n",
      "3466  10.0       0  26.0   25.0    1.0        0     1       1         1   \n",
      "3467  10.0       0  26.0   27.0    1.0        0     1       5         0   \n",
      "3468  10.0       0  26.0   33.0    7.0        3     1       5         0   \n",
      "3469  10.0       0  26.0   25.0    1.0        0     1       5         0   \n",
      "3470  10.0       0  26.0   33.0    7.0        3     1       5         0   \n",
      "\n",
      "      importance_same_race  ...  d_expected_num_interested_in_me   \n",
      "3462                   1.0  ...                                0  \\\n",
      "3463                   1.0  ...                                0   \n",
      "3464                   1.0  ...                                0   \n",
      "3465                   1.0  ...                                0   \n",
      "3466                   1.0  ...                                0   \n",
      "3467                   1.0  ...                                0   \n",
      "3468                   1.0  ...                                0   \n",
      "3469                   1.0  ...                                0   \n",
      "3470                   1.0  ...                                0   \n",
      "\n",
      "      d_expected_num_matches  like  guess_prob_liked  d_like   \n",
      "3462                       0   7.0               4.0       1  \\\n",
      "3463                       0   6.0               6.0       1   \n",
      "3464                       0   6.0               4.0       1   \n",
      "3465                       0   5.0               2.0       0   \n",
      "3466                       0   4.0               2.0       0   \n",
      "3467                       0   6.0               4.0       1   \n",
      "3468                       0   6.0               3.0       1   \n",
      "3469                       0   6.0               5.0       1   \n",
      "3470                       0   5.0               2.0       0   \n",
      "\n",
      "      d_guess_prob_liked  met  decision  decision_o  match  \n",
      "3462                   0  0.0         1           0      0  \n",
      "3463                   1  0.0         1           0      0  \n",
      "3464                   0  0.0         0           1      0  \n",
      "3465                   0  0.0         0           1      0  \n",
      "3466                   0  0.0         0           1      0  \n",
      "3467                   0  0.0         0           1      0  \n",
      "3468                   0  0.0         0           1      0  \n",
      "3469                   1  0.0         1           1      1  \n",
      "3470                   0  0.0         0           0      0  \n",
      "\n",
      "[9 rows x 122 columns]\n",
      "Ukupan broj instanci koje pripadaju trecem klasteru:  9\n"
     ]
    }
   ],
   "source": [
    "print(\"Trecem  klaseru pripadaju podaci:\\n\");\n",
    "print(data[model.labels_ ==2])\n",
    "print(\"Ukupan broj instanci koje pripadaju trecem klasteru: \",data[model.labels_ == 2].shape[0])"
   ]
  },
  {
   "cell_type": "code",
   "execution_count": 11,
   "metadata": {},
   "outputs": [
    {
     "name": "stdout",
     "output_type": "stream",
     "text": [
      "Cetvrtom klaseru pripadaju podaci:\n",
      "\n",
      "      wave  gender   age  age_o  d_age  d_d_age  race  race_o  samerace   \n",
      "6392  15.0       1  29.0   38.0    9.0        3     3       3         1  \\\n",
      "6393  15.0       1  29.0   33.0    4.0        2     3       2         0   \n",
      "6394  15.0       1  29.0   24.0    5.0        2     3       3         1   \n",
      "6395  15.0       1  29.0   28.0    1.0        0     3       3         1   \n",
      "6396  15.0       1  29.0   27.0    2.0        1     3       3         1   \n",
      "6397  15.0       1  29.0   23.0    6.0        2     3       3         1   \n",
      "6398  15.0       1  29.0   25.0    4.0        2     3       3         1   \n",
      "6399  15.0       1  29.0   26.0    3.0        1     3       3         1   \n",
      "6400  15.0       1  29.0   25.0    4.0        2     3       3         1   \n",
      "6401  15.0       1  29.0   24.0    5.0        2     3       3         1   \n",
      "6402  15.0       1  29.0   21.0    8.0        3     3       3         1   \n",
      "6403  15.0       1  29.0   30.0    1.0        0     3       1         0   \n",
      "6404  15.0       1  29.0   28.0    1.0        0     3       3         1   \n",
      "6405  15.0       1  29.0   26.0    3.0        1     3       3         1   \n",
      "6406  15.0       1  29.0   22.0    7.0        3     3       3         1   \n",
      "6407  15.0       1  29.0   24.0    5.0        2     3       3         1   \n",
      "6408  15.0       1  29.0   33.0    4.0        2     3       3         1   \n",
      "6409  15.0       1  29.0   25.0    4.0        2     3       1         0   \n",
      "\n",
      "      importance_same_race  ...  d_expected_num_interested_in_me   \n",
      "6392                   2.0  ...                                0  \\\n",
      "6393                   2.0  ...                                0   \n",
      "6394                   2.0  ...                                0   \n",
      "6395                   2.0  ...                                0   \n",
      "6396                   2.0  ...                                0   \n",
      "6397                   2.0  ...                                0   \n",
      "6398                   2.0  ...                                0   \n",
      "6399                   2.0  ...                                0   \n",
      "6400                   2.0  ...                                0   \n",
      "6401                   2.0  ...                                0   \n",
      "6402                   2.0  ...                                0   \n",
      "6403                   2.0  ...                                0   \n",
      "6404                   2.0  ...                                0   \n",
      "6405                   2.0  ...                                0   \n",
      "6406                   2.0  ...                                0   \n",
      "6407                   2.0  ...                                0   \n",
      "6408                   2.0  ...                                0   \n",
      "6409                   2.0  ...                                0   \n",
      "\n",
      "      d_expected_num_matches  like  guess_prob_liked  d_like   \n",
      "6392                       0   8.0               5.0       1  \\\n",
      "6393                       0   8.0               0.0       1   \n",
      "6394                       0   8.0               4.0       1   \n",
      "6395                       0   8.0               2.0       1   \n",
      "6396                       0   9.0               5.0       2   \n",
      "6397                       0   8.0               5.0       1   \n",
      "6398                       0   8.0               5.0       1   \n",
      "6399                       0   8.0               5.0       1   \n",
      "6400                       0   8.0               5.0       1   \n",
      "6401                       0   9.0               5.0       2   \n",
      "6402                       0   9.0               5.0       2   \n",
      "6403                       0   5.0               0.0       0   \n",
      "6404                       0   6.0               2.0       1   \n",
      "6405                       0   9.0               5.0       2   \n",
      "6406                       0   9.0               4.0       2   \n",
      "6407                       0   7.0               2.0       1   \n",
      "6408                       0   7.0               1.0       1   \n",
      "6409                       0   6.0               1.0       1   \n",
      "\n",
      "      d_guess_prob_liked  met  decision  decision_o  match  \n",
      "6392                   0  0.0         1           0      0  \n",
      "6393                   0  0.0         1           0      0  \n",
      "6394                   0  0.0         1           1      1  \n",
      "6395                   0  0.0         1           1      1  \n",
      "6396                   1  0.0         1           0      0  \n",
      "6397                   0  0.0         1           1      1  \n",
      "6398                   1  0.0         1           1      1  \n",
      "6399                   1  0.0         1           0      0  \n",
      "6400                   1  0.0         1           1      1  \n",
      "6401                   1  0.0         1           0      0  \n",
      "6402                   1  0.0         1           0      0  \n",
      "6403                   0  0.0         1           1      1  \n",
      "6404                   0  0.0         1           0      0  \n",
      "6405                   1  0.0         1           0      0  \n",
      "6406                   0  0.0         1           1      1  \n",
      "6407                   0  0.0         1           0      0  \n",
      "6408                   0  0.0         1           0      0  \n",
      "6409                   0  0.0         1           1      1  \n",
      "\n",
      "[18 rows x 122 columns]\n",
      "Ukupan broj instanciji koje pripadaju cetvrtom klasteru:  18\n"
     ]
    }
   ],
   "source": [
    "print(\"Cetvrtom klaseru pripadaju podaci:\\n\");\n",
    "print(data[model.labels_ ==3])\n",
    "print(\"Ukupan broj instanciji koje pripadaju cetvrtom klasteru: \",data[model.labels_ == 3].shape[0])"
   ]
  },
  {
   "cell_type": "markdown",
   "metadata": {},
   "source": [
    "Zakljucujemo da najveci broj instanci pripada prvom klasteru."
   ]
  },
  {
   "cell_type": "code",
   "execution_count": 12,
   "metadata": {},
   "outputs": [
    {
     "data": {
      "image/png": "[encoded data removed]",
      "text/plain": [
       "<Figure size 432x288 with 1 Axes>"
      ]
     },
     "metadata": {},
     "output_type": "display_data"
    }
   ],
   "source": [
    "\n",
    "n = data.shape[0]\n",
    "s1 =data[model.labels_ == 0].shape[0] /n*1.0;\n",
    "s2 =data[model.labels_ == 1].shape[0] /n*1.0;\n",
    "s3 =data[model.labels_ == 2].shape[0] /n*1.0;\n",
    "s4 =data[model.labels_ == 3].shape[0] /n*1.0;\n",
    "\n",
    "labels = 'Prvi ', 'Drugi', 'Treci', 'Cetvrti'\n",
    "colors = [\"pink\",\"red\",\"blue\",\"green\"]\n",
    "sizes = [s1, s2, s3, s4]\n",
    "explode = (0, 0.2, 0.4, 0)  # only \"explode\" the 2nd slice (i.e. 'Hogs')\n",
    "\n",
    "fig1, ax1 = plt.subplots()\n",
    "ax1.pie(sizes, explode=explode, labels=labels, autopct='%1.3f%%',\n",
    "        shadow=True,colors = colors, startangle=90)\n",
    "ax1.axis('equal')  # Equal aspect ratio ensures that pie is drawn as a circle.\n",
    "\n",
    "plt.show()"
   ]
  },
  {
   "cell_type": "markdown",
   "metadata": {},
   "source": [
    "Spajanje instanci:"
   ]
  },
  {
   "cell_type": "code",
   "execution_count": 13,
   "metadata": {
    "scrolled": false
   },
   "outputs": [
    {
     "name": "stdout",
     "output_type": "stream",
     "text": [
      "[[  839   847]\n",
      " [ 5544  5560]\n",
      " [ 5303  5305]\n",
      " ...\n",
      " [16135 16751]\n",
      " [15808 16752]\n",
      " [15918 16753]]\n"
     ]
    }
   ],
   "source": [
    "print(model.children_)"
   ]
  },
  {
   "cell_type": "code",
   "execution_count": 14,
   "metadata": {},
   "outputs": [
    {
     "name": "stdout",
     "output_type": "stream",
     "text": [
      "Distanca izmedju klasa\n",
      "[0.52123708 0.54046023 0.62574506 ... 4.9654982  5.04053115 5.16392348]\n"
     ]
    }
   ],
   "source": [
    "print(\"Distanca izmedju klasa\")\n",
    "print(model.distances_)"
   ]
  },
  {
   "cell_type": "code",
   "execution_count": 15,
   "metadata": {},
   "outputs": [
    {
     "name": "stdout",
     "output_type": "stream",
     "text": [
      "[[8.39000000e+02 8.47000000e+02 5.21237077e-01 2.00000000e+00]\n",
      " [5.54400000e+03 5.56000000e+03 5.40460229e-01 2.00000000e+00]\n",
      " [5.30300000e+03 5.30500000e+03 6.25745061e-01 2.00000000e+00]\n",
      " ...\n",
      " [1.61350000e+04 1.67510000e+04 4.96549820e+00 8.35100000e+03]\n",
      " [1.58080000e+04 1.67520000e+04 5.04053115e+00 8.36000000e+03]\n",
      " [1.59180000e+04 1.67530000e+04 5.16392348e+00 8.37800000e+03]]\n"
     ]
    }
   ],
   "source": [
    "Z = linkage(X, method='average')\n",
    "print(Z)"
   ]
  },
  {
   "cell_type": "code",
   "execution_count": 16,
   "metadata": {},
   "outputs": [
    {
     "name": "stdout",
     "output_type": "stream",
     "text": [
      "Silhouette score average: \n"
     ]
    },
    {
     "data": {
      "text/plain": [
       "0.0762530187538067"
      ]
     },
     "execution_count": 16,
     "metadata": {},
     "output_type": "execute_result"
    }
   ],
   "source": [
    "print(\"Silhouette score average: \");\n",
    "silhouette_score(X,model.labels_)"
   ]
  },
  {
   "cell_type": "markdown",
   "metadata": {},
   "source": [
    "Napomena:ispisala sam samo deo vrednosti model.childlen_, model.distance_ i Z, zbog toga sto imam veliki broj spajanja instanci i ako bih ispisala sve,fajl bi postao nepregledan.\n",
    "Zbog ogromnih broja instanci,vizuelizacija (dendogram) nije moguca. "
   ]
  },
  {
   "cell_type": "markdown",
   "metadata": {},
   "source": [
    "Proveravam da li bi bolji silhouette score ako bih umesto linkage = 'average' koristila 'single ' ili 'complete' "
   ]
  },
  {
   "cell_type": "code",
   "execution_count": 17,
   "metadata": {},
   "outputs": [
    {
     "data": {
      "text/html": [
       "<style>#sk-container-id-2 {color: black;background-color: white;}#sk-container-id-2 pre{padding: 0;}#sk-container-id-2 div.sk-toggleable {background-color: white;}#sk-container-id-2 label.sk-toggleable__label {cursor: pointer;display: block;width: 100%;margin-bottom: 0;padding: 0.3em;box-sizing: border-box;text-align: center;}#sk-container-id-2 label.sk-toggleable__label-arrow:before {content: \"▸\";float: left;margin-right: 0.25em;color: #696969;}#sk-container-id-2 label.sk-toggleable__label-arrow:hover:before {color: black;}#sk-container-id-2 div.sk-estimator:hover label.sk-toggleable__label-arrow:before {color: black;}#sk-container-id-2 div.sk-toggleable__content {max-height: 0;max-width: 0;overflow: hidden;text-align: left;background-color: #f0f8ff;}#sk-container-id-2 div.sk-toggleable__content pre {margin: 0.2em;color: black;border-radius: 0.25em;background-color: #f0f8ff;}#sk-container-id-2 input.sk-toggleable__control:checked~div.sk-toggleable__content {max-height: 200px;max-width: 100%;overflow: auto;}#sk-container-id-2 input.sk-toggleable__control:checked~label.sk-toggleable__label-arrow:before {content: \"▾\";}#sk-container-id-2 div.sk-estimator input.sk-toggleable__control:checked~label.sk-toggleable__label {background-color: #d4ebff;}#sk-container-id-2 div.sk-label input.sk-toggleable__control:checked~label.sk-toggleable__label {background-color: #d4ebff;}#sk-container-id-2 input.sk-hidden--visually {border: 0;clip: rect(1px 1px 1px 1px);clip: rect(1px, 1px, 1px, 1px);height: 1px;margin: -1px;overflow: hidden;padding: 0;position: absolute;width: 1px;}#sk-container-id-2 div.sk-estimator {font-family: monospace;background-color: #f0f8ff;border: 1px dotted black;border-radius: 0.25em;box-sizing: border-box;margin-bottom: 0.5em;}#sk-container-id-2 div.sk-estimator:hover {background-color: #d4ebff;}#sk-container-id-2 div.sk-parallel-item::after {content: \"\";width: 100%;border-bottom: 1px solid gray;flex-grow: 1;}#sk-container-id-2 div.sk-label:hover label.sk-toggleable__label {background-color: #d4ebff;}#sk-container-id-2 div.sk-serial::before {content: \"\";position: absolute;border-left: 1px solid gray;box-sizing: border-box;top: 0;bottom: 0;left: 50%;z-index: 0;}#sk-container-id-2 div.sk-serial {display: flex;flex-direction: column;align-items: center;background-color: white;padding-right: 0.2em;padding-left: 0.2em;position: relative;}#sk-container-id-2 div.sk-item {position: relative;z-index: 1;}#sk-container-id-2 div.sk-parallel {display: flex;align-items: stretch;justify-content: center;background-color: white;position: relative;}#sk-container-id-2 div.sk-item::before, #sk-container-id-2 div.sk-parallel-item::before {content: \"\";position: absolute;border-left: 1px solid gray;box-sizing: border-box;top: 0;bottom: 0;left: 50%;z-index: -1;}#sk-container-id-2 div.sk-parallel-item {display: flex;flex-direction: column;z-index: 1;position: relative;background-color: white;}#sk-container-id-2 div.sk-parallel-item:first-child::after {align-self: flex-end;width: 50%;}#sk-container-id-2 div.sk-parallel-item:last-child::after {align-self: flex-start;width: 50%;}#sk-container-id-2 div.sk-parallel-item:only-child::after {width: 0;}#sk-container-id-2 div.sk-dashed-wrapped {border: 1px dashed gray;margin: 0 0.4em 0.5em 0.4em;box-sizing: border-box;padding-bottom: 0.4em;background-color: white;}#sk-container-id-2 div.sk-label label {font-family: monospace;font-weight: bold;display: inline-block;line-height: 1.2em;}#sk-container-id-2 div.sk-label-container {text-align: center;}#sk-container-id-2 div.sk-container {/* jupyter's `normalize.less` sets `[hidden] { display: none; }` but bootstrap.min.css set `[hidden] { display: none !important; }` so we also need the `!important` here to be able to override the default hidden behavior on the sphinx rendered scikit-learn.org. See: https://github.com/scikit-learn/scikit-learn/issues/21755 */display: inline-block !important;position: relative;}#sk-container-id-2 div.sk-text-repr-fallback {display: none;}</style><div id=\"sk-container-id-2\" class=\"sk-top-container\"><div class=\"sk-text-repr-fallback\"><pre>AgglomerativeClustering(linkage=&#x27;single&#x27;, n_clusters=4)</pre><b>In a Jupyter environment, please rerun this cell to show the HTML representation or trust the notebook. <br />On GitHub, the HTML representation is unable to render, please try loading this page with nbviewer.org.</b></div><div class=\"sk-container\" hidden><div class=\"sk-item\"><div class=\"sk-estimator sk-toggleable\"><input class=\"sk-toggleable__control sk-hidden--visually\" id=\"sk-estimator-id-2\" type=\"checkbox\" checked><label for=\"sk-estimator-id-2\" class=\"sk-toggleable__label sk-toggleable__label-arrow\">AgglomerativeClustering</label><div class=\"sk-toggleable__content\"><pre>AgglomerativeClustering(linkage=&#x27;single&#x27;, n_clusters=4)</pre></div></div></div></div></div>"
      ],
      "text/plain": [
       "AgglomerativeClustering(linkage='single', n_clusters=4)"
      ]
     },
     "execution_count": 17,
     "metadata": {},
     "output_type": "execute_result"
    }
   ],
   "source": [
    "model = AgglomerativeClustering(n_clusters=4, linkage='single')\n",
    "model.fit(X)"
   ]
  },
  {
   "cell_type": "code",
   "execution_count": 18,
   "metadata": {},
   "outputs": [
    {
     "name": "stdout",
     "output_type": "stream",
     "text": [
      "Silhouette score single: \n"
     ]
    },
    {
     "data": {
      "text/plain": [
       "0.06081410256514759"
      ]
     },
     "execution_count": 18,
     "metadata": {},
     "output_type": "execute_result"
    }
   ],
   "source": [
    "print(\"Silhouette score single: \");\n",
    "\n",
    "silhouette_score(X,model.labels_)"
   ]
  },
  {
   "cell_type": "code",
   "execution_count": 19,
   "metadata": {},
   "outputs": [
    {
     "data": {
      "text/html": [
       "<style>#sk-container-id-3 {color: black;background-color: white;}#sk-container-id-3 pre{padding: 0;}#sk-container-id-3 div.sk-toggleable {background-color: white;}#sk-container-id-3 label.sk-toggleable__label {cursor: pointer;display: block;width: 100%;margin-bottom: 0;padding: 0.3em;box-sizing: border-box;text-align: center;}#sk-container-id-3 label.sk-toggleable__label-arrow:before {content: \"▸\";float: left;margin-right: 0.25em;color: #696969;}#sk-container-id-3 label.sk-toggleable__label-arrow:hover:before {color: black;}#sk-container-id-3 div.sk-estimator:hover label.sk-toggleable__label-arrow:before {color: black;}#sk-container-id-3 div.sk-toggleable__content {max-height: 0;max-width: 0;overflow: hidden;text-align: left;background-color: #f0f8ff;}#sk-container-id-3 div.sk-toggleable__content pre {margin: 0.2em;color: black;border-radius: 0.25em;background-color: #f0f8ff;}#sk-container-id-3 input.sk-toggleable__control:checked~div.sk-toggleable__content {max-height: 200px;max-width: 100%;overflow: auto;}#sk-container-id-3 input.sk-toggleable__control:checked~label.sk-toggleable__label-arrow:before {content: \"▾\";}#sk-container-id-3 div.sk-estimator input.sk-toggleable__control:checked~label.sk-toggleable__label {background-color: #d4ebff;}#sk-container-id-3 div.sk-label input.sk-toggleable__control:checked~label.sk-toggleable__label {background-color: #d4ebff;}#sk-container-id-3 input.sk-hidden--visually {border: 0;clip: rect(1px 1px 1px 1px);clip: rect(1px, 1px, 1px, 1px);height: 1px;margin: -1px;overflow: hidden;padding: 0;position: absolute;width: 1px;}#sk-container-id-3 div.sk-estimator {font-family: monospace;background-color: #f0f8ff;border: 1px dotted black;border-radius: 0.25em;box-sizing: border-box;margin-bottom: 0.5em;}#sk-container-id-3 div.sk-estimator:hover {background-color: #d4ebff;}#sk-container-id-3 div.sk-parallel-item::after {content: \"\";width: 100%;border-bottom: 1px solid gray;flex-grow: 1;}#sk-container-id-3 div.sk-label:hover label.sk-toggleable__label {background-color: #d4ebff;}#sk-container-id-3 div.sk-serial::before {content: \"\";position: absolute;border-left: 1px solid gray;box-sizing: border-box;top: 0;bottom: 0;left: 50%;z-index: 0;}#sk-container-id-3 div.sk-serial {display: flex;flex-direction: column;align-items: center;background-color: white;padding-right: 0.2em;padding-left: 0.2em;position: relative;}#sk-container-id-3 div.sk-item {position: relative;z-index: 1;}#sk-container-id-3 div.sk-parallel {display: flex;align-items: stretch;justify-content: center;background-color: white;position: relative;}#sk-container-id-3 div.sk-item::before, #sk-container-id-3 div.sk-parallel-item::before {content: \"\";position: absolute;border-left: 1px solid gray;box-sizing: border-box;top: 0;bottom: 0;left: 50%;z-index: -1;}#sk-container-id-3 div.sk-parallel-item {display: flex;flex-direction: column;z-index: 1;position: relative;background-color: white;}#sk-container-id-3 div.sk-parallel-item:first-child::after {align-self: flex-end;width: 50%;}#sk-container-id-3 div.sk-parallel-item:last-child::after {align-self: flex-start;width: 50%;}#sk-container-id-3 div.sk-parallel-item:only-child::after {width: 0;}#sk-container-id-3 div.sk-dashed-wrapped {border: 1px dashed gray;margin: 0 0.4em 0.5em 0.4em;box-sizing: border-box;padding-bottom: 0.4em;background-color: white;}#sk-container-id-3 div.sk-label label {font-family: monospace;font-weight: bold;display: inline-block;line-height: 1.2em;}#sk-container-id-3 div.sk-label-container {text-align: center;}#sk-container-id-3 div.sk-container {/* jupyter's `normalize.less` sets `[hidden] { display: none; }` but bootstrap.min.css set `[hidden] { display: none !important; }` so we also need the `!important` here to be able to override the default hidden behavior on the sphinx rendered scikit-learn.org. See: https://github.com/scikit-learn/scikit-learn/issues/21755 */display: inline-block !important;position: relative;}#sk-container-id-3 div.sk-text-repr-fallback {display: none;}</style><div id=\"sk-container-id-3\" class=\"sk-top-container\"><div class=\"sk-text-repr-fallback\"><pre>AgglomerativeClustering(linkage=&#x27;complete&#x27;, n_clusters=4)</pre><b>In a Jupyter environment, please rerun this cell to show the HTML representation or trust the notebook. <br />On GitHub, the HTML representation is unable to render, please try loading this page with nbviewer.org.</b></div><div class=\"sk-container\" hidden><div class=\"sk-item\"><div class=\"sk-estimator sk-toggleable\"><input class=\"sk-toggleable__control sk-hidden--visually\" id=\"sk-estimator-id-3\" type=\"checkbox\" checked><label for=\"sk-estimator-id-3\" class=\"sk-toggleable__label sk-toggleable__label-arrow\">AgglomerativeClustering</label><div class=\"sk-toggleable__content\"><pre>AgglomerativeClustering(linkage=&#x27;complete&#x27;, n_clusters=4)</pre></div></div></div></div></div>"
      ],
      "text/plain": [
       "AgglomerativeClustering(linkage='complete', n_clusters=4)"
      ]
     },
     "execution_count": 19,
     "metadata": {},
     "output_type": "execute_result"
    }
   ],
   "source": [
    "model = AgglomerativeClustering(n_clusters=4, linkage='complete')\n",
    "model.fit(X)"
   ]
  },
  {
   "cell_type": "code",
   "execution_count": 20,
   "metadata": {},
   "outputs": [
    {
     "name": "stdout",
     "output_type": "stream",
     "text": [
      "Silhouette score complete: \n"
     ]
    },
    {
     "data": {
      "text/plain": [
       "0.013688779741429605"
      ]
     },
     "execution_count": 20,
     "metadata": {},
     "output_type": "execute_result"
    }
   ],
   "source": [
    "print(\"Silhouette score complete: \");\n",
    "\n",
    "silhouette_score(X,model.labels_)"
   ]
  }
 ],
 "metadata": {
  "kernelspec": {
   "display_name": "Python 3",
   "language": "python",
   "name": "python3"
  },
  "language_info": {
   "codemirror_mode": {
    "name": "ipython",
    "version": 3
   },
   "file_extension": ".py",
   "mimetype": "text/x-python",
   "name": "python",
   "nbconvert_exporter": "python",
   "pygments_lexer": "ipython3",
   "version": "3.8.5"
  }
 },
 "nbformat": 4,
 "nbformat_minor": 4
}
